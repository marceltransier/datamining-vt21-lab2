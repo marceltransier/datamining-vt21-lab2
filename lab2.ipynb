{
 "cells": [
  {
   "cell_type": "markdown",
   "id": "assured-slope",
   "metadata": {},
   "source": [
    "# Lab 2\n",
    "### *C4.5 decicion tree* vs *naive bayes classification*\n",
    "breast-cancer.arff\n",
    "\n"
   ]
  },
  {
   "cell_type": "code",
   "execution_count": 35,
   "id": "excessive-warren",
   "metadata": {},
   "outputs": [],
   "source": [
    "%matplotlib inline\n",
    "import matplotlib.pyplot as plt\n",
    "from scipy.io import arff\n",
    "import pandas as pd\n",
    "import numpy as np\n",
    "import matplotlib\n",
    "import graphviz\n",
    "import sklearn as sk\n",
    "\n",
    "from sklearn import tree\n",
    "from sklearn.model_selection import cross_val_score\n",
    "from sklearn.naive_bayes import GaussianNB\n"
   ]
  },
  {
   "cell_type": "markdown",
   "id": "broadband-dance",
   "metadata": {},
   "source": [
    "##### Dataset Loading"
   ]
  },
  {
   "cell_type": "code",
   "execution_count": 36,
   "id": "willing-cleveland",
   "metadata": {},
   "outputs": [
    {
     "data": {
      "text/html": [
       "<div>\n",
       "<style scoped>\n",
       "    .dataframe tbody tr th:only-of-type {\n",
       "        vertical-align: middle;\n",
       "    }\n",
       "\n",
       "    .dataframe tbody tr th {\n",
       "        vertical-align: top;\n",
       "    }\n",
       "\n",
       "    .dataframe thead th {\n",
       "        text-align: right;\n",
       "    }\n",
       "</style>\n",
       "<table border=\"1\" class=\"dataframe\">\n",
       "  <thead>\n",
       "    <tr style=\"text-align: right;\">\n",
       "      <th></th>\n",
       "      <th>age</th>\n",
       "      <th>menopause</th>\n",
       "      <th>tumor-size</th>\n",
       "      <th>inv-nodes</th>\n",
       "      <th>node-caps</th>\n",
       "      <th>deg-malig</th>\n",
       "      <th>breast</th>\n",
       "      <th>breast-quad</th>\n",
       "      <th>irradiat</th>\n",
       "      <th>Class</th>\n",
       "    </tr>\n",
       "  </thead>\n",
       "  <tbody>\n",
       "    <tr>\n",
       "      <th>0</th>\n",
       "      <td>40-49</td>\n",
       "      <td>premeno</td>\n",
       "      <td>15-19</td>\n",
       "      <td>0-2</td>\n",
       "      <td>yes</td>\n",
       "      <td>3</td>\n",
       "      <td>right</td>\n",
       "      <td>left_up</td>\n",
       "      <td>no</td>\n",
       "      <td>recurrence-events</td>\n",
       "    </tr>\n",
       "    <tr>\n",
       "      <th>1</th>\n",
       "      <td>50-59</td>\n",
       "      <td>ge40</td>\n",
       "      <td>15-19</td>\n",
       "      <td>0-2</td>\n",
       "      <td>no</td>\n",
       "      <td>1</td>\n",
       "      <td>right</td>\n",
       "      <td>central</td>\n",
       "      <td>no</td>\n",
       "      <td>no-recurrence-events</td>\n",
       "    </tr>\n",
       "    <tr>\n",
       "      <th>2</th>\n",
       "      <td>50-59</td>\n",
       "      <td>ge40</td>\n",
       "      <td>35-39</td>\n",
       "      <td>0-2</td>\n",
       "      <td>no</td>\n",
       "      <td>2</td>\n",
       "      <td>left</td>\n",
       "      <td>left_low</td>\n",
       "      <td>no</td>\n",
       "      <td>recurrence-events</td>\n",
       "    </tr>\n",
       "    <tr>\n",
       "      <th>3</th>\n",
       "      <td>40-49</td>\n",
       "      <td>premeno</td>\n",
       "      <td>35-39</td>\n",
       "      <td>0-2</td>\n",
       "      <td>yes</td>\n",
       "      <td>3</td>\n",
       "      <td>right</td>\n",
       "      <td>left_low</td>\n",
       "      <td>yes</td>\n",
       "      <td>no-recurrence-events</td>\n",
       "    </tr>\n",
       "    <tr>\n",
       "      <th>4</th>\n",
       "      <td>40-49</td>\n",
       "      <td>premeno</td>\n",
       "      <td>30-34</td>\n",
       "      <td>3-5</td>\n",
       "      <td>yes</td>\n",
       "      <td>2</td>\n",
       "      <td>left</td>\n",
       "      <td>right_up</td>\n",
       "      <td>no</td>\n",
       "      <td>recurrence-events</td>\n",
       "    </tr>\n",
       "  </tbody>\n",
       "</table>\n",
       "</div>"
      ],
      "text/plain": [
       "     age menopause tumor-size inv-nodes node-caps deg-malig breast  \\\n",
       "0  40-49   premeno      15-19       0-2       yes         3  right   \n",
       "1  50-59      ge40      15-19       0-2        no         1  right   \n",
       "2  50-59      ge40      35-39       0-2        no         2   left   \n",
       "3  40-49   premeno      35-39       0-2       yes         3  right   \n",
       "4  40-49   premeno      30-34       3-5       yes         2   left   \n",
       "\n",
       "  breast-quad irradiat                 Class  \n",
       "0     left_up       no     recurrence-events  \n",
       "1     central       no  no-recurrence-events  \n",
       "2    left_low       no     recurrence-events  \n",
       "3    left_low      yes  no-recurrence-events  \n",
       "4    right_up       no     recurrence-events  "
      ]
     },
     "execution_count": 36,
     "metadata": {},
     "output_type": "execute_result"
    }
   ],
   "source": [
    "data = arff.loadarff('breast-cancer.arff')\n",
    "df = pd.DataFrame(data[0]).select_dtypes([np.object]).stack().str.decode('utf-8').unstack()\n",
    "df.head()"
   ]
  },
  {
   "cell_type": "markdown",
   "id": "spoken-jenny",
   "metadata": {},
   "source": [
    "Since we have some patterns with missiong values, we decided to eliminate them from the dataset"
   ]
  },
  {
   "cell_type": "code",
   "execution_count": 37,
   "id": "headed-essay",
   "metadata": {},
   "outputs": [
    {
     "data": {
      "text/html": [
       "<div>\n",
       "<style scoped>\n",
       "    .dataframe tbody tr th:only-of-type {\n",
       "        vertical-align: middle;\n",
       "    }\n",
       "\n",
       "    .dataframe tbody tr th {\n",
       "        vertical-align: top;\n",
       "    }\n",
       "\n",
       "    .dataframe thead th {\n",
       "        text-align: right;\n",
       "    }\n",
       "</style>\n",
       "<table border=\"1\" class=\"dataframe\">\n",
       "  <thead>\n",
       "    <tr style=\"text-align: right;\">\n",
       "      <th></th>\n",
       "      <th>age</th>\n",
       "      <th>menopause</th>\n",
       "      <th>tumor-size</th>\n",
       "      <th>inv-nodes</th>\n",
       "      <th>node-caps</th>\n",
       "      <th>deg-malig</th>\n",
       "      <th>breast</th>\n",
       "      <th>breast-quad</th>\n",
       "      <th>irradiat</th>\n",
       "      <th>Class</th>\n",
       "    </tr>\n",
       "  </thead>\n",
       "  <tbody>\n",
       "    <tr>\n",
       "      <th>20</th>\n",
       "      <td>50-59</td>\n",
       "      <td>lt40</td>\n",
       "      <td>20-24</td>\n",
       "      <td>0-2</td>\n",
       "      <td>?</td>\n",
       "      <td>1</td>\n",
       "      <td>left</td>\n",
       "      <td>left_low</td>\n",
       "      <td>no</td>\n",
       "      <td>recurrence-events</td>\n",
       "    </tr>\n",
       "  </tbody>\n",
       "</table>\n",
       "</div>"
      ],
      "text/plain": [
       "      age menopause tumor-size inv-nodes node-caps deg-malig breast  \\\n",
       "20  50-59      lt40      20-24       0-2         ?         1   left   \n",
       "\n",
       "   breast-quad irradiat              Class  \n",
       "20    left_low       no  recurrence-events  "
      ]
     },
     "execution_count": 37,
     "metadata": {},
     "output_type": "execute_result"
    }
   ],
   "source": [
    "df.iloc[20:21,] # row with missing data"
   ]
  },
  {
   "cell_type": "code",
   "execution_count": 38,
   "id": "continued-classics",
   "metadata": {},
   "outputs": [],
   "source": [
    "df = df[(df['node-caps'] != '?') & (df['breast-quad'] != '?')]"
   ]
  },
  {
   "cell_type": "markdown",
   "id": "disabled-sheriff",
   "metadata": {},
   "source": [
    "Now we transform the dataset by factorizing it, so to replace the string values for the features to numbers"
   ]
  },
  {
   "cell_type": "code",
   "execution_count": 39,
   "id": "dominican-compilation",
   "metadata": {},
   "outputs": [],
   "source": [
    "cats = {}\n",
    "codes, cats['age'] = pd.factorize(df['age'])\n",
    "df.loc[:,'age'] = codes\n",
    "codes, cats['menopause'] = pd.factorize(df['menopause'])\n",
    "df.loc[:,'menopause'] = codes\n",
    "codes, cats['tumor-size'] = pd.factorize(df['tumor-size'])\n",
    "df.loc[:,'tumor-size'] = codes\n",
    "codes, cats['inv-nodes'] = pd.factorize(df['inv-nodes'])\n",
    "df.loc[:,'inv-nodes'] = codes\n",
    "codes, cats['node-caps'] = pd.factorize(df['node-caps'])\n",
    "df.loc[:,'node-caps'] = codes\n",
    "codes, cats['breast'] = pd.factorize(df['breast'])\n",
    "df.loc[:,'breast'] = codes\n",
    "codes, cats['breast-quad'] = pd.factorize(df['breast-quad'])\n",
    "df.loc[:,'breast-quad'] = codes\n",
    "codes, cats['irradiat'] = pd.factorize(df['irradiat'])\n",
    "df.loc[:,'irradiat'] = codes\n",
    "codes, cats['Class'] = pd.factorize(df['Class'])\n",
    "df.loc[:,'Class'] = codes\n",
    "df.loc[:,'deg-malig'] = df['deg-malig'].astype(int)\n"
   ]
  },
  {
   "cell_type": "markdown",
   "id": "convinced-sessions",
   "metadata": {},
   "source": [
    "Now we can compute the correlation matrix "
   ]
  },
  {
   "cell_type": "code",
   "execution_count": 40,
   "id": "architectural-mortgage",
   "metadata": {},
   "outputs": [
    {
     "data": {
      "text/html": [
       "<style  type=\"text/css\" >\n",
       "#T_89f4a_row0_col0,#T_89f4a_row1_col1,#T_89f4a_row2_col2,#T_89f4a_row3_col3,#T_89f4a_row4_col4,#T_89f4a_row5_col5,#T_89f4a_row6_col6,#T_89f4a_row7_col7,#T_89f4a_row8_col8,#T_89f4a_row9_col9{\n",
       "            background-color:  #b40426;\n",
       "            color:  #f1f1f1;\n",
       "        }#T_89f4a_row0_col1,#T_89f4a_row2_col9{\n",
       "            background-color:  #a1c0ff;\n",
       "            color:  #000000;\n",
       "        }#T_89f4a_row0_col2,#T_89f4a_row0_col7,#T_89f4a_row4_col0{\n",
       "            background-color:  #4f69d9;\n",
       "            color:  #000000;\n",
       "        }#T_89f4a_row0_col3{\n",
       "            background-color:  #b6cefa;\n",
       "            color:  #000000;\n",
       "        }#T_89f4a_row0_col4{\n",
       "            background-color:  #c3d5f4;\n",
       "            color:  #000000;\n",
       "        }#T_89f4a_row0_col5,#T_89f4a_row6_col8{\n",
       "            background-color:  #86a9fc;\n",
       "            color:  #000000;\n",
       "        }#T_89f4a_row0_col6{\n",
       "            background-color:  #5d7ce6;\n",
       "            color:  #000000;\n",
       "        }#T_89f4a_row0_col8,#T_89f4a_row0_col9{\n",
       "            background-color:  #85a8fc;\n",
       "            color:  #000000;\n",
       "        }#T_89f4a_row1_col0{\n",
       "            background-color:  #93b5fe;\n",
       "            color:  #000000;\n",
       "        }#T_89f4a_row1_col2,#T_89f4a_row6_col0{\n",
       "            background-color:  #5a78e4;\n",
       "            color:  #000000;\n",
       "        }#T_89f4a_row1_col3{\n",
       "            background-color:  #b5cdfa;\n",
       "            color:  #000000;\n",
       "        }#T_89f4a_row1_col4{\n",
       "            background-color:  #c5d6f2;\n",
       "            color:  #000000;\n",
       "        }#T_89f4a_row1_col5{\n",
       "            background-color:  #97b8ff;\n",
       "            color:  #000000;\n",
       "        }#T_89f4a_row1_col6{\n",
       "            background-color:  #5875e1;\n",
       "            color:  #000000;\n",
       "        }#T_89f4a_row1_col7,#T_89f4a_row2_col0,#T_89f4a_row3_col0,#T_89f4a_row3_col2,#T_89f4a_row3_col4,#T_89f4a_row4_col3,#T_89f4a_row4_col5,#T_89f4a_row4_col8,#T_89f4a_row5_col2,#T_89f4a_row5_col9,#T_89f4a_row7_col1,#T_89f4a_row8_col0,#T_89f4a_row8_col1,#T_89f4a_row9_col5,#T_89f4a_row9_col6{\n",
       "            background-color:  #3b4cc0;\n",
       "            color:  #f1f1f1;\n",
       "        }#T_89f4a_row1_col8,#T_89f4a_row8_col4{\n",
       "            background-color:  #7597f6;\n",
       "            color:  #000000;\n",
       "        }#T_89f4a_row1_col9{\n",
       "            background-color:  #a3c2fe;\n",
       "            color:  #000000;\n",
       "        }#T_89f4a_row2_col1{\n",
       "            background-color:  #5673e0;\n",
       "            color:  #000000;\n",
       "        }#T_89f4a_row2_col3{\n",
       "            background-color:  #a6c4fe;\n",
       "            color:  #000000;\n",
       "        }#T_89f4a_row2_col4,#T_89f4a_row7_col3{\n",
       "            background-color:  #cbd8ee;\n",
       "            color:  #000000;\n",
       "        }#T_89f4a_row2_col5{\n",
       "            background-color:  #7093f3;\n",
       "            color:  #000000;\n",
       "        }#T_89f4a_row2_col6{\n",
       "            background-color:  #4055c8;\n",
       "            color:  #f1f1f1;\n",
       "        }#T_89f4a_row2_col7{\n",
       "            background-color:  #465ecf;\n",
       "            color:  #f1f1f1;\n",
       "        }#T_89f4a_row2_col8{\n",
       "            background-color:  #8fb1fe;\n",
       "            color:  #000000;\n",
       "        }#T_89f4a_row3_col1,#T_89f4a_row7_col2{\n",
       "            background-color:  #4a63d3;\n",
       "            color:  #f1f1f1;\n",
       "        }#T_89f4a_row3_col5{\n",
       "            background-color:  #dcdddd;\n",
       "            color:  #000000;\n",
       "        }#T_89f4a_row3_col6{\n",
       "            background-color:  #4c66d6;\n",
       "            color:  #000000;\n",
       "        }#T_89f4a_row3_col7{\n",
       "            background-color:  #6c8ff1;\n",
       "            color:  #000000;\n",
       "        }#T_89f4a_row3_col8{\n",
       "            background-color:  #e4d9d2;\n",
       "            color:  #000000;\n",
       "        }#T_89f4a_row3_col9{\n",
       "            background-color:  #3d50c3;\n",
       "            color:  #f1f1f1;\n",
       "        }#T_89f4a_row4_col1{\n",
       "            background-color:  #6384eb;\n",
       "            color:  #000000;\n",
       "        }#T_89f4a_row4_col2,#T_89f4a_row9_col1,#T_89f4a_row9_col2{\n",
       "            background-color:  #6f92f3;\n",
       "            color:  #000000;\n",
       "        }#T_89f4a_row4_col6{\n",
       "            background-color:  #4358cb;\n",
       "            color:  #f1f1f1;\n",
       "        }#T_89f4a_row4_col7{\n",
       "            background-color:  #485fd1;\n",
       "            color:  #f1f1f1;\n",
       "        }#T_89f4a_row4_col9{\n",
       "            background-color:  #d4dbe6;\n",
       "            color:  #000000;\n",
       "        }#T_89f4a_row5_col0,#T_89f4a_row7_col0,#T_89f4a_row8_col6{\n",
       "            background-color:  #3e51c5;\n",
       "            color:  #f1f1f1;\n",
       "        }#T_89f4a_row5_col1{\n",
       "            background-color:  #6180e9;\n",
       "            color:  #000000;\n",
       "        }#T_89f4a_row5_col3{\n",
       "            background-color:  #f1cdba;\n",
       "            color:  #000000;\n",
       "        }#T_89f4a_row5_col4{\n",
       "            background-color:  #7699f6;\n",
       "            color:  #000000;\n",
       "        }#T_89f4a_row5_col6{\n",
       "            background-color:  #5470de;\n",
       "            color:  #000000;\n",
       "        }#T_89f4a_row5_col7{\n",
       "            background-color:  #4961d2;\n",
       "            color:  #f1f1f1;\n",
       "        }#T_89f4a_row5_col8{\n",
       "            background-color:  #c7d7f0;\n",
       "            color:  #000000;\n",
       "        }#T_89f4a_row6_col1{\n",
       "            background-color:  #6687ed;\n",
       "            color:  #000000;\n",
       "        }#T_89f4a_row6_col2{\n",
       "            background-color:  #516ddb;\n",
       "            color:  #000000;\n",
       "        }#T_89f4a_row6_col3{\n",
       "            background-color:  #c0d4f5;\n",
       "            color:  #000000;\n",
       "        }#T_89f4a_row6_col4{\n",
       "            background-color:  #bad0f8;\n",
       "            color:  #000000;\n",
       "        }#T_89f4a_row6_col5{\n",
       "            background-color:  #98b9ff;\n",
       "            color:  #000000;\n",
       "        }#T_89f4a_row6_col7{\n",
       "            background-color:  #89acfd;\n",
       "            color:  #000000;\n",
       "        }#T_89f4a_row6_col9,#T_89f4a_row7_col5{\n",
       "            background-color:  #81a4fb;\n",
       "            color:  #000000;\n",
       "        }#T_89f4a_row7_col4{\n",
       "            background-color:  #b3cdfb;\n",
       "            color:  #000000;\n",
       "        }#T_89f4a_row7_col6{\n",
       "            background-color:  #7b9ff9;\n",
       "            color:  #000000;\n",
       "        }#T_89f4a_row7_col8{\n",
       "            background-color:  #8badfd;\n",
       "            color:  #000000;\n",
       "        }#T_89f4a_row7_col9{\n",
       "            background-color:  #7da0f9;\n",
       "            color:  #000000;\n",
       "        }#T_89f4a_row8_col2{\n",
       "            background-color:  #5977e3;\n",
       "            color:  #000000;\n",
       "        }#T_89f4a_row8_col3{\n",
       "            background-color:  #f3c7b1;\n",
       "            color:  #000000;\n",
       "        }#T_89f4a_row8_col5{\n",
       "            background-color:  #c6d6f1;\n",
       "            color:  #000000;\n",
       "        }#T_89f4a_row8_col7,#T_89f4a_row8_col9,#T_89f4a_row9_col8{\n",
       "            background-color:  #536edd;\n",
       "            color:  #000000;\n",
       "        }#T_89f4a_row9_col0{\n",
       "            background-color:  #3c4ec2;\n",
       "            color:  #f1f1f1;\n",
       "        }#T_89f4a_row9_col3{\n",
       "            background-color:  #799cf8;\n",
       "            color:  #000000;\n",
       "        }#T_89f4a_row9_col4{\n",
       "            background-color:  #ecd3c5;\n",
       "            color:  #000000;\n",
       "        }#T_89f4a_row9_col7{\n",
       "            background-color:  #445acc;\n",
       "            color:  #f1f1f1;\n",
       "        }</style><table id=\"T_89f4a_\" ><thead>    <tr>        <th class=\"blank level0\" ></th>        <th class=\"col_heading level0 col0\" >age</th>        <th class=\"col_heading level0 col1\" >menopause</th>        <th class=\"col_heading level0 col2\" >tumor-size</th>        <th class=\"col_heading level0 col3\" >inv-nodes</th>        <th class=\"col_heading level0 col4\" >node-caps</th>        <th class=\"col_heading level0 col5\" >deg-malig</th>        <th class=\"col_heading level0 col6\" >breast</th>        <th class=\"col_heading level0 col7\" >breast-quad</th>        <th class=\"col_heading level0 col8\" >irradiat</th>        <th class=\"col_heading level0 col9\" >Class</th>    </tr></thead><tbody>\n",
       "                <tr>\n",
       "                        <th id=\"T_89f4a_level0_row0\" class=\"row_heading level0 row0\" >age</th>\n",
       "                        <td id=\"T_89f4a_row0_col0\" class=\"data row0 col0\" >1.000000</td>\n",
       "                        <td id=\"T_89f4a_row0_col1\" class=\"data row0 col1\" >0.242579</td>\n",
       "                        <td id=\"T_89f4a_row0_col2\" class=\"data row0 col2\" >-0.031988</td>\n",
       "                        <td id=\"T_89f4a_row0_col3\" class=\"data row0 col3\" >-0.029323</td>\n",
       "                        <td id=\"T_89f4a_row0_col4\" class=\"data row0 col4\" >0.036850</td>\n",
       "                        <td id=\"T_89f4a_row0_col5\" class=\"data row0 col5\" >-0.019273</td>\n",
       "                        <td id=\"T_89f4a_row0_col6\" class=\"data row0 col6\" >0.073121</td>\n",
       "                        <td id=\"T_89f4a_row0_col7\" class=\"data row0 col7\" >-0.018384</td>\n",
       "                        <td id=\"T_89f4a_row0_col8\" class=\"data row0 col8\" >-0.029499</td>\n",
       "                        <td id=\"T_89f4a_row0_col9\" class=\"data row0 col9\" >-0.023966</td>\n",
       "            </tr>\n",
       "            <tr>\n",
       "                        <th id=\"T_89f4a_level0_row1\" class=\"row_heading level0 row1\" >menopause</th>\n",
       "                        <td id=\"T_89f4a_row1_col0\" class=\"data row1 col0\" >0.242579</td>\n",
       "                        <td id=\"T_89f4a_row1_col1\" class=\"data row1 col1\" >1.000000</td>\n",
       "                        <td id=\"T_89f4a_row1_col2\" class=\"data row1 col2\" >0.006746</td>\n",
       "                        <td id=\"T_89f4a_row1_col3\" class=\"data row1 col3\" >-0.035095</td>\n",
       "                        <td id=\"T_89f4a_row1_col4\" class=\"data row1 col4\" >0.048569</td>\n",
       "                        <td id=\"T_89f4a_row1_col5\" class=\"data row1 col5\" >0.040020</td>\n",
       "                        <td id=\"T_89f4a_row1_col6\" class=\"data row1 col6\" >0.059217</td>\n",
       "                        <td id=\"T_89f4a_row1_col7\" class=\"data row1 col7\" >-0.092046</td>\n",
       "                        <td id=\"T_89f4a_row1_col8\" class=\"data row1 col8\" >-0.093481</td>\n",
       "                        <td id=\"T_89f4a_row1_col9\" class=\"data row1 col9\" >0.087480</td>\n",
       "            </tr>\n",
       "            <tr>\n",
       "                        <th id=\"T_89f4a_level0_row2\" class=\"row_heading level0 row2\" >tumor-size</th>\n",
       "                        <td id=\"T_89f4a_row2_col0\" class=\"data row2 col0\" >-0.031988</td>\n",
       "                        <td id=\"T_89f4a_row2_col1\" class=\"data row2 col1\" >0.006746</td>\n",
       "                        <td id=\"T_89f4a_row2_col2\" class=\"data row2 col2\" >1.000000</td>\n",
       "                        <td id=\"T_89f4a_row2_col3\" class=\"data row2 col3\" >-0.105610</td>\n",
       "                        <td id=\"T_89f4a_row2_col4\" class=\"data row2 col4\" >0.078192</td>\n",
       "                        <td id=\"T_89f4a_row2_col5\" class=\"data row2 col5\" >-0.103100</td>\n",
       "                        <td id=\"T_89f4a_row2_col6\" class=\"data row2 col6\" >-0.020722</td>\n",
       "                        <td id=\"T_89f4a_row2_col7\" class=\"data row2 col7\" >-0.047194</td>\n",
       "                        <td id=\"T_89f4a_row2_col8\" class=\"data row2 col8\" >0.005344</td>\n",
       "                        <td id=\"T_89f4a_row2_col9\" class=\"data row2 col9\" >0.079440</td>\n",
       "            </tr>\n",
       "            <tr>\n",
       "                        <th id=\"T_89f4a_level0_row3\" class=\"row_heading level0 row3\" >inv-nodes</th>\n",
       "                        <td id=\"T_89f4a_row3_col0\" class=\"data row3 col0\" >-0.029323</td>\n",
       "                        <td id=\"T_89f4a_row3_col1\" class=\"data row3 col1\" >-0.035095</td>\n",
       "                        <td id=\"T_89f4a_row3_col2\" class=\"data row3 col2\" >-0.105610</td>\n",
       "                        <td id=\"T_89f4a_row3_col3\" class=\"data row3 col3\" >1.000000</td>\n",
       "                        <td id=\"T_89f4a_row3_col4\" class=\"data row3 col4\" >-0.632495</td>\n",
       "                        <td id=\"T_89f4a_row3_col5\" class=\"data row3 col5\" >0.333198</td>\n",
       "                        <td id=\"T_89f4a_row3_col6\" class=\"data row3 col6\" >0.021855</td>\n",
       "                        <td id=\"T_89f4a_row3_col7\" class=\"data row3 col7\" >0.080266</td>\n",
       "                        <td id=\"T_89f4a_row3_col8\" class=\"data row3 col8\" >0.370313</td>\n",
       "                        <td id=\"T_89f4a_row3_col9\" class=\"data row3 col9\" >-0.317881</td>\n",
       "            </tr>\n",
       "            <tr>\n",
       "                        <th id=\"T_89f4a_level0_row4\" class=\"row_heading level0 row4\" >node-caps</th>\n",
       "                        <td id=\"T_89f4a_row4_col0\" class=\"data row4 col0\" >0.036850</td>\n",
       "                        <td id=\"T_89f4a_row4_col1\" class=\"data row4 col1\" >0.048569</td>\n",
       "                        <td id=\"T_89f4a_row4_col2\" class=\"data row4 col2\" >0.078192</td>\n",
       "                        <td id=\"T_89f4a_row4_col3\" class=\"data row4 col3\" >-0.632495</td>\n",
       "                        <td id=\"T_89f4a_row4_col4\" class=\"data row4 col4\" >1.000000</td>\n",
       "                        <td id=\"T_89f4a_row4_col5\" class=\"data row4 col5\" >-0.330181</td>\n",
       "                        <td id=\"T_89f4a_row4_col6\" class=\"data row4 col6\" >-0.012345</td>\n",
       "                        <td id=\"T_89f4a_row4_col7\" class=\"data row4 col7\" >-0.043770</td>\n",
       "                        <td id=\"T_89f4a_row4_col8\" class=\"data row4 col8\" >-0.333537</td>\n",
       "                        <td id=\"T_89f4a_row4_col9\" class=\"data row4 col9\" >0.289002</td>\n",
       "            </tr>\n",
       "            <tr>\n",
       "                        <th id=\"T_89f4a_level0_row5\" class=\"row_heading level0 row5\" >deg-malig</th>\n",
       "                        <td id=\"T_89f4a_row5_col0\" class=\"data row5 col0\" >-0.019273</td>\n",
       "                        <td id=\"T_89f4a_row5_col1\" class=\"data row5 col1\" >0.040020</td>\n",
       "                        <td id=\"T_89f4a_row5_col2\" class=\"data row5 col2\" >-0.103100</td>\n",
       "                        <td id=\"T_89f4a_row5_col3\" class=\"data row5 col3\" >0.333198</td>\n",
       "                        <td id=\"T_89f4a_row5_col4\" class=\"data row5 col4\" >-0.330181</td>\n",
       "                        <td id=\"T_89f4a_row5_col5\" class=\"data row5 col5\" >1.000000</td>\n",
       "                        <td id=\"T_89f4a_row5_col6\" class=\"data row5 col6\" >0.045874</td>\n",
       "                        <td id=\"T_89f4a_row5_col7\" class=\"data row5 col7\" >-0.040290</td>\n",
       "                        <td id=\"T_89f4a_row5_col8\" class=\"data row5 col8\" >0.230821</td>\n",
       "                        <td id=\"T_89f4a_row5_col9\" class=\"data row5 col9\" >-0.330253</td>\n",
       "            </tr>\n",
       "            <tr>\n",
       "                        <th id=\"T_89f4a_level0_row6\" class=\"row_heading level0 row6\" >breast</th>\n",
       "                        <td id=\"T_89f4a_row6_col0\" class=\"data row6 col0\" >0.073121</td>\n",
       "                        <td id=\"T_89f4a_row6_col1\" class=\"data row6 col1\" >0.059217</td>\n",
       "                        <td id=\"T_89f4a_row6_col2\" class=\"data row6 col2\" >-0.020722</td>\n",
       "                        <td id=\"T_89f4a_row6_col3\" class=\"data row6 col3\" >0.021855</td>\n",
       "                        <td id=\"T_89f4a_row6_col4\" class=\"data row6 col4\" >-0.012345</td>\n",
       "                        <td id=\"T_89f4a_row6_col5\" class=\"data row6 col5\" >0.045874</td>\n",
       "                        <td id=\"T_89f4a_row6_col6\" class=\"data row6 col6\" >1.000000</td>\n",
       "                        <td id=\"T_89f4a_row6_col7\" class=\"data row6 col7\" >0.168374</td>\n",
       "                        <td id=\"T_89f4a_row6_col8\" class=\"data row6 col8\" >-0.025230</td>\n",
       "                        <td id=\"T_89f4a_row6_col9\" class=\"data row6 col9\" >-0.041304</td>\n",
       "            </tr>\n",
       "            <tr>\n",
       "                        <th id=\"T_89f4a_level0_row7\" class=\"row_heading level0 row7\" >breast-quad</th>\n",
       "                        <td id=\"T_89f4a_row7_col0\" class=\"data row7 col0\" >-0.018384</td>\n",
       "                        <td id=\"T_89f4a_row7_col1\" class=\"data row7 col1\" >-0.092046</td>\n",
       "                        <td id=\"T_89f4a_row7_col2\" class=\"data row7 col2\" >-0.047194</td>\n",
       "                        <td id=\"T_89f4a_row7_col3\" class=\"data row7 col3\" >0.080266</td>\n",
       "                        <td id=\"T_89f4a_row7_col4\" class=\"data row7 col4\" >-0.043770</td>\n",
       "                        <td id=\"T_89f4a_row7_col5\" class=\"data row7 col5\" >-0.040290</td>\n",
       "                        <td id=\"T_89f4a_row7_col6\" class=\"data row7 col6\" >0.168374</td>\n",
       "                        <td id=\"T_89f4a_row7_col7\" class=\"data row7 col7\" >1.000000</td>\n",
       "                        <td id=\"T_89f4a_row7_col8\" class=\"data row7 col8\" >-0.006060</td>\n",
       "                        <td id=\"T_89f4a_row7_col9\" class=\"data row7 col9\" >-0.055458</td>\n",
       "            </tr>\n",
       "            <tr>\n",
       "                        <th id=\"T_89f4a_level0_row8\" class=\"row_heading level0 row8\" >irradiat</th>\n",
       "                        <td id=\"T_89f4a_row8_col0\" class=\"data row8 col0\" >-0.029499</td>\n",
       "                        <td id=\"T_89f4a_row8_col1\" class=\"data row8 col1\" >-0.093481</td>\n",
       "                        <td id=\"T_89f4a_row8_col2\" class=\"data row8 col2\" >0.005344</td>\n",
       "                        <td id=\"T_89f4a_row8_col3\" class=\"data row8 col3\" >0.370313</td>\n",
       "                        <td id=\"T_89f4a_row8_col4\" class=\"data row8 col4\" >-0.333537</td>\n",
       "                        <td id=\"T_89f4a_row8_col5\" class=\"data row8 col5\" >0.230821</td>\n",
       "                        <td id=\"T_89f4a_row8_col6\" class=\"data row8 col6\" >-0.025230</td>\n",
       "                        <td id=\"T_89f4a_row8_col7\" class=\"data row8 col7\" >-0.006060</td>\n",
       "                        <td id=\"T_89f4a_row8_col8\" class=\"data row8 col8\" >1.000000</td>\n",
       "                        <td id=\"T_89f4a_row8_col9\" class=\"data row8 col9\" >-0.226020</td>\n",
       "            </tr>\n",
       "            <tr>\n",
       "                        <th id=\"T_89f4a_level0_row9\" class=\"row_heading level0 row9\" >Class</th>\n",
       "                        <td id=\"T_89f4a_row9_col0\" class=\"data row9 col0\" >-0.023966</td>\n",
       "                        <td id=\"T_89f4a_row9_col1\" class=\"data row9 col1\" >0.087480</td>\n",
       "                        <td id=\"T_89f4a_row9_col2\" class=\"data row9 col2\" >0.079440</td>\n",
       "                        <td id=\"T_89f4a_row9_col3\" class=\"data row9 col3\" >-0.317881</td>\n",
       "                        <td id=\"T_89f4a_row9_col4\" class=\"data row9 col4\" >0.289002</td>\n",
       "                        <td id=\"T_89f4a_row9_col5\" class=\"data row9 col5\" >-0.330253</td>\n",
       "                        <td id=\"T_89f4a_row9_col6\" class=\"data row9 col6\" >-0.041304</td>\n",
       "                        <td id=\"T_89f4a_row9_col7\" class=\"data row9 col7\" >-0.055458</td>\n",
       "                        <td id=\"T_89f4a_row9_col8\" class=\"data row9 col8\" >-0.226020</td>\n",
       "                        <td id=\"T_89f4a_row9_col9\" class=\"data row9 col9\" >1.000000</td>\n",
       "            </tr>\n",
       "    </tbody></table>"
      ],
      "text/plain": [
       "<pandas.io.formats.style.Styler at 0x22d9f105640>"
      ]
     },
     "execution_count": 40,
     "metadata": {},
     "output_type": "execute_result"
    }
   ],
   "source": [
    "corrMat = df.corr()\n",
    "corrMat.style.background_gradient(cmap='coolwarm')"
   ]
  },
  {
   "cell_type": "markdown",
   "id": "prescribed-tyler",
   "metadata": {},
   "source": [
    "By this results we can say that age and breast appear not to be correlated to much with the target class. So we will try to eliminate those features from the dataset and see if we could get any improvements."
   ]
  },
  {
   "cell_type": "code",
   "execution_count": 41,
   "id": "supposed-explosion",
   "metadata": {},
   "outputs": [],
   "source": [
    "#Splitting the target class from the features\n",
    "df.head()\n",
    "Y = df['Class']\n",
    "X = df.iloc[:,:-1]"
   ]
  },
  {
   "cell_type": "markdown",
   "id": "wired-yesterday",
   "metadata": {},
   "source": [
    "Functions for reduction, permutation and splitting of the dataset"
   ]
  },
  {
   "cell_type": "code",
   "execution_count": 42,
   "id": "universal-judges",
   "metadata": {},
   "outputs": [],
   "source": [
    "#This function is used to eliminate some features from the dataset, in this case we eliminate breast, age andboth togheter.\n",
    "#Returning 3 different datasets\n",
    "def reducedDatasets (X,Y) :\n",
    "\n",
    "    #Datasets with feature reduction\n",
    "    X_breast = X[X.columns.difference(['age'])]\n",
    "    X_age = X[X.columns.difference(['breast'])]\n",
    "    X_breast_age = X[X.columns.difference(['age','breast'])]\n",
    "\n",
    "    \n",
    "    return X,X_breast,X_age,X_breast_age,Y\n",
    "\n",
    "#This function does a permutation on the dataset, is good to test multiple instances of datasets\n",
    "def permuteDataset(X,Y) :\n",
    "    m = X.shape[0]\n",
    "    permutation = np.random.permutation(m) # random permutation\n",
    "\n",
    "    X = X.iloc[permutation]\n",
    "    Y = Y.iloc[permutation]\n",
    "    return X,Y\n",
    "\n",
    "#This funcion is used to split the whole dataset between training and testing\n",
    "def splitDataset (X,Y,ratio) :\n",
    "    \n",
    "    #patterns in the test set\n",
    "    m = X.shape[0]\n",
    "    m_training = round(m*ratio)\n",
    "    m_test = m-m_training\n",
    "    X_training = []\n",
    "    Y_training = []\n",
    "    X_test = []\n",
    "    Y_test = []\n",
    "    #X_training = instances for training set\n",
    "    X_training = X[0:m_training] \n",
    "\n",
    "    #Y_training = labels for the training set\n",
    "    Y_training = Y[0:m_training]\n",
    "\n",
    "    #X_test = instances for test set\n",
    "    X_test = X[m_training-1:-1]\n",
    "\n",
    "    #Y_test = labels for the test set\n",
    "    Y_test = Y[m_training-1:-1]\n",
    "    \n",
    "    return X_training,Y_training,X_test,Y_test"
   ]
  },
  {
   "cell_type": "markdown",
   "id": "identical-procurement",
   "metadata": {},
   "source": [
    "### Decision Tree implementation"
   ]
  },
  {
   "cell_type": "markdown",
   "id": "surrounded-shade",
   "metadata": {},
   "source": [
    "We used the sklearn library for the implementation of the decision tree. The library makes the implementation very easy, we just need to define a   DecisionTreeClassifier object, than we fit the model on the training set selected, finally we can use the function score to compute the overall accuracy on the model."
   ]
  },
  {
   "cell_type": "code",
   "execution_count": 203,
   "id": "clean-technique",
   "metadata": {},
   "outputs": [],
   "source": [
    "\n",
    "#without features reduction\n",
    "clf = tree.DecisionTreeClassifier()\n",
    "X_training,Y_training,X_test,Y_test = splitDataset(X,Y,0.8)\n",
    "clf = clf.fit(X_training, Y_training)\n"
   ]
  },
  {
   "cell_type": "code",
   "execution_count": 204,
   "id": "documented-revelation",
   "metadata": {},
   "outputs": [
    {
     "data": {
      "text/plain": [
       "'decisiontree.pdf'"
      ]
     },
     "execution_count": 204,
     "metadata": {},
     "output_type": "execute_result"
    }
   ],
   "source": [
    "dot_data = tree.export_graphviz(clf, out_file=None)\n",
    "graph = graphviz.Source(dot_data)\n",
    "graph.render(\"decisiontree\")"
   ]
  },
  {
   "cell_type": "markdown",
   "id": "breathing-browser",
   "metadata": {},
   "source": [
    "### try pruning"
   ]
  },
  {
   "cell_type": "code",
   "execution_count": 205,
   "id": "utility-penny",
   "metadata": {},
   "outputs": [
    {
     "data": {
      "text/plain": [
       "Text(0.5, 1.0, 'Total Impurity vs effective alpha for training set')"
      ]
     },
     "execution_count": 205,
     "metadata": {},
     "output_type": "execute_result"
    },
    {
     "data": {
      "image/png": "[encoded data removed]",
      "text/plain": [
       "<Figure size 432x288 with 1 Axes>"
      ]
     },
     "metadata": {
      "needs_background": "light"
     },
     "output_type": "display_data"
    }
   ],
   "source": [
    "# calculate and plot the cost complexity pruning path\n",
    "X,Y = permuteDataset(X,Y)\n",
    "X,X_b,X_a,X_ab,Y = reducedDatasets (X,Y)\n",
    "X_training,Y_training,X_test,Y_test = splitDataset(X,Y,0.8)\n",
    "\n",
    "path = clf.cost_complexity_pruning_path(X_training, Y_training)\n",
    "ccp_alphas, impurities = path.ccp_alphas, path.impurities\n",
    "fig, ax = plt.subplots()\n",
    "ax.plot(ccp_alphas[:-1], impurities[:-1], marker='o', drawstyle=\"steps-post\")\n",
    "ax.set_xlabel(\"effective alpha\")\n",
    "ax.set_ylabel(\"total impurity of leaves\")\n",
    "ax.set_title(\"Total Impurity vs effective alpha for training set\")"
   ]
  },
  {
   "cell_type": "code",
   "execution_count": 206,
   "id": "quarterly-attribute",
   "metadata": {},
   "outputs": [
    {
     "name": "stdout",
     "output_type": "stream",
     "text": [
      "Number of nodes in the last tree is: 1 with ccp_alpha: 0.05104348234978878\n"
     ]
    }
   ],
   "source": [
    "# fit the model with all alphas and save them into an array\n",
    "clfs = []\n",
    "for ccp_alpha in ccp_alphas:\n",
    "    clf = tree.DecisionTreeClassifier(random_state=0, ccp_alpha=ccp_alpha)\n",
    "    clf.fit(X_training, Y_training)\n",
    "    clfs.append(clf)\n",
    "print(\"Number of nodes in the last tree is: {} with ccp_alpha: {}\".format(clfs[-1].tree_.node_count, ccp_alphas[-1]))"
   ]
  },
  {
   "cell_type": "code",
   "execution_count": 207,
   "id": "international-lecture",
   "metadata": {},
   "outputs": [
    {
     "data": {
      "image/png": "[encoded data removed]",
      "text/plain": [
       "<Figure size 432x288 with 2 Axes>"
      ]
     },
     "metadata": {
      "needs_background": "light"
     },
     "output_type": "display_data"
    }
   ],
   "source": [
    "# plot the depth and node counts for the different alphas (excluding the last values with only one node)\n",
    "clfs = clfs[:-1]\n",
    "ccp_alphas = ccp_alphas[:-1]\n",
    "\n",
    "node_counts = [clf.tree_.node_count for clf in clfs]\n",
    "depth = [clf.tree_.max_depth for clf in clfs]\n",
    "fig, ax = plt.subplots(2, 1)\n",
    "ax[0].plot(ccp_alphas, node_counts, marker='o', drawstyle=\"steps-post\")\n",
    "ax[0].set_xlabel(\"alpha\")\n",
    "ax[0].set_ylabel(\"number of nodes\")\n",
    "ax[0].set_title(\"Number of nodes vs alpha\")\n",
    "ax[1].plot(ccp_alphas, depth, marker='o', drawstyle=\"steps-post\")\n",
    "ax[1].set_xlabel(\"alpha\")\n",
    "ax[1].set_ylabel(\"depth of tree\")\n",
    "ax[1].set_title(\"Depth vs alpha\")\n",
    "fig.tight_layout()"
   ]
  },
  {
   "cell_type": "code",
   "execution_count": 210,
   "id": "ceramic-hours",
   "metadata": {},
   "outputs": [
    {
     "data": {
      "image/png": "[encoded data removed]",
      "text/plain": [
       "<Figure size 432x288 with 1 Axes>"
      ]
     },
     "metadata": {
      "needs_background": "light"
     },
     "output_type": "display_data"
    },
    {
     "data": {
      "image/png": "[encoded data removed]",
      "text/plain": [
       "<Figure size 432x288 with 1 Axes>"
      ]
     },
     "metadata": {
      "needs_background": "light"
     },
     "output_type": "display_data"
    }
   ],
   "source": [
    "# score the different alphas and plot the train- and testscores\n",
    "train_scores = [clf.score(X_training, Y_training) for clf in clfs]\n",
    "test_scores = [clf.score(X_test, Y_test) for clf in clfs]\n",
    "\n",
    "def calc_cm(clf, X, Y_true):\n",
    "    Y_pred = clf.predict(X)\n",
    "    return sk.metrics.confusion_matrix(Y_true, Y_pred, normalize='true')\n",
    "\n",
    "\n",
    "test_tp = [calc_cm(clf, X_test, Y_test)[0][0] for clf in clfs]\n",
    "test_tn = [calc_cm(clf, X_test, Y_test)[1][1] for clf in clfs]\n",
    "best_clf = clfs[test_tp.index(max(test_tp))]\n",
    "fig, ax = plt.subplots()\n",
    "ax.set_xlabel(\"alpha\")\n",
    "ax.set_ylabel(\"accuracy\")\n",
    "ax.set_title(\"Accuracy vs alpha for training and testing sets\")\n",
    "ax.plot(ccp_alphas, train_scores, marker='o', label=\"train\",\n",
    "        drawstyle=\"steps-post\")\n",
    "ax.plot(ccp_alphas, test_scores, marker='o', label=\"test\",\n",
    "        drawstyle=\"steps-post\")\n",
    "ax.plot(ccp_alphas, test_tp, marker='o', label=\"testtp\",\n",
    "        drawstyle=\"steps-post\")\n",
    "ax.plot(ccp_alphas, test_tn, marker='o', label=\"testtn\",\n",
    "        drawstyle=\"steps-post\")\n",
    "sk.metrics.plot_roc_curve(best_clf,X,Y)\n",
    "ax.legend()\n",
    "plt.show()"
   ]
  },
  {
   "cell_type": "code",
   "execution_count": 198,
   "id": "formal-casting",
   "metadata": {},
   "outputs": [
    {
     "name": "stdout",
     "output_type": "stream",
     "text": [
      "0.5818181818181818\n"
     ]
    }
   ],
   "source": [
    "#without age\n",
    "X_training_age= X_training[X_training.columns.difference(['age'])]\n",
    "X_test_age= X_test[X_test.columns.difference(['age'])]\n",
    "\n",
    "clf = tree.DecisionTreeClassifier()\n",
    "clf = clf.fit(X_training_age, Y_training)\n",
    "acc = clf.score( X_test_age, Y_test)\n",
    "\n",
    "print(acc)"
   ]
  },
  {
   "cell_type": "code",
   "execution_count": 189,
   "id": "proprietary-certificate",
   "metadata": {},
   "outputs": [
    {
     "name": "stdout",
     "output_type": "stream",
     "text": [
      "0.6181818181818182\n"
     ]
    }
   ],
   "source": [
    "#without breast\n",
    "X_training_breast= X_training[X_training.columns.difference(['breast'])]\n",
    "X_test_breast= X_test[X_test.columns.difference(['age'])]\n",
    "clf = tree.DecisionTreeClassifier()\n",
    "clf = clf.fit(X_training_breast, Y_training)\n",
    "acc = clf.score( X_test_breast, Y_test)\n",
    "\n",
    "print(acc)"
   ]
  },
  {
   "cell_type": "code",
   "execution_count": 161,
   "id": "interior-adventure",
   "metadata": {},
   "outputs": [
    {
     "name": "stdout",
     "output_type": "stream",
     "text": [
      "0.6727272727272727\n"
     ]
    }
   ],
   "source": [
    "#without age & breast\n",
    "X_training_age_breast= X_training[X_training.columns.difference(['age','breast'])]\n",
    "X_test_age_breast= X_test[X_test.columns.difference(['age','breast'])]\n",
    "clf = tree.DecisionTreeClassifier()\n",
    "clf = clf.fit(X_training_age_breast, Y_training)\n",
    "acc = clf.score( X_test_age_breast, Y_test)\n",
    "\n",
    "print(acc)"
   ]
  },
  {
   "cell_type": "markdown",
   "id": "sweet-brooklyn",
   "metadata": {},
   "source": [
    "### Cross Validation results"
   ]
  },
  {
   "cell_type": "code",
   "execution_count": 45,
   "id": "tutorial-project",
   "metadata": {},
   "outputs": [],
   "source": [
    "nFolds= 10"
   ]
  },
  {
   "cell_type": "code",
   "execution_count": 46,
   "id": "sacred-intake",
   "metadata": {},
   "outputs": [
    {
     "data": {
      "text/plain": [
       "0.6284391534391535"
      ]
     },
     "execution_count": 46,
     "metadata": {},
     "output_type": "execute_result"
    }
   ],
   "source": [
    "#No feature reduction\n",
    "clf = tree.DecisionTreeClassifier()\n",
    "accs=cross_val_score(clf, X, Y, cv=nFolds)\n",
    "np.average(accs)"
   ]
  },
  {
   "cell_type": "code",
   "execution_count": 47,
   "id": "centered-chrome",
   "metadata": {},
   "outputs": [
    {
     "ename": "NameError",
     "evalue": "name 'X_age' is not defined",
     "output_type": "error",
     "traceback": [
      "\u001b[1;31m---------------------------------------------------------------------------\u001b[0m",
      "\u001b[1;31mNameError\u001b[0m                                 Traceback (most recent call last)",
      "\u001b[1;32m<ipython-input-47-694c2c6c4562>\u001b[0m in \u001b[0;36m<module>\u001b[1;34m\u001b[0m\n\u001b[0;32m      1\u001b[0m \u001b[0mclf\u001b[0m \u001b[1;33m=\u001b[0m \u001b[0mtree\u001b[0m\u001b[1;33m.\u001b[0m\u001b[0mDecisionTreeClassifier\u001b[0m\u001b[1;33m(\u001b[0m\u001b[1;33m)\u001b[0m\u001b[1;33m\u001b[0m\u001b[1;33m\u001b[0m\u001b[0m\n\u001b[1;32m----> 2\u001b[1;33m \u001b[0maccs_age\u001b[0m\u001b[1;33m=\u001b[0m\u001b[0mcross_val_score\u001b[0m\u001b[1;33m(\u001b[0m\u001b[0mclf\u001b[0m\u001b[1;33m,\u001b[0m \u001b[0mX_age\u001b[0m\u001b[1;33m,\u001b[0m \u001b[0mY\u001b[0m\u001b[1;33m,\u001b[0m \u001b[0mcv\u001b[0m\u001b[1;33m=\u001b[0m\u001b[0mnFolds\u001b[0m\u001b[1;33m)\u001b[0m\u001b[1;33m\u001b[0m\u001b[1;33m\u001b[0m\u001b[0m\n\u001b[0m\u001b[0;32m      3\u001b[0m \u001b[0mnp\u001b[0m\u001b[1;33m.\u001b[0m\u001b[0maverage\u001b[0m\u001b[1;33m(\u001b[0m\u001b[0maccs_age\u001b[0m\u001b[1;33m)\u001b[0m\u001b[1;33m\u001b[0m\u001b[1;33m\u001b[0m\u001b[0m\n",
      "\u001b[1;31mNameError\u001b[0m: name 'X_age' is not defined"
     ]
    }
   ],
   "source": [
    "clf = tree.DecisionTreeClassifier()\n",
    "accs_age=cross_val_score(clf, X_age, Y, cv=nFolds)\n",
    "np.average(accs_age)"
   ]
  },
  {
   "cell_type": "code",
   "execution_count": 48,
   "id": "perceived-liquid",
   "metadata": {},
   "outputs": [
    {
     "ename": "NameError",
     "evalue": "name 'X_breast' is not defined",
     "output_type": "error",
     "traceback": [
      "\u001b[1;31m---------------------------------------------------------------------------\u001b[0m",
      "\u001b[1;31mNameError\u001b[0m                                 Traceback (most recent call last)",
      "\u001b[1;32m<ipython-input-48-1ddc791638c3>\u001b[0m in \u001b[0;36m<module>\u001b[1;34m\u001b[0m\n\u001b[0;32m      1\u001b[0m \u001b[0mclf\u001b[0m \u001b[1;33m=\u001b[0m \u001b[0mtree\u001b[0m\u001b[1;33m.\u001b[0m\u001b[0mDecisionTreeClassifier\u001b[0m\u001b[1;33m(\u001b[0m\u001b[1;33m)\u001b[0m\u001b[1;33m\u001b[0m\u001b[1;33m\u001b[0m\u001b[0m\n\u001b[1;32m----> 2\u001b[1;33m \u001b[0maccs_breast\u001b[0m\u001b[1;33m=\u001b[0m\u001b[0mcross_val_score\u001b[0m\u001b[1;33m(\u001b[0m\u001b[0mclf\u001b[0m\u001b[1;33m,\u001b[0m \u001b[0mX_breast\u001b[0m\u001b[1;33m,\u001b[0m \u001b[0mY\u001b[0m\u001b[1;33m,\u001b[0m \u001b[0mcv\u001b[0m\u001b[1;33m=\u001b[0m\u001b[0mnFolds\u001b[0m\u001b[1;33m)\u001b[0m\u001b[1;33m\u001b[0m\u001b[1;33m\u001b[0m\u001b[0m\n\u001b[0m\u001b[0;32m      3\u001b[0m \u001b[0mnp\u001b[0m\u001b[1;33m.\u001b[0m\u001b[0maverage\u001b[0m\u001b[1;33m(\u001b[0m\u001b[0maccs_breast\u001b[0m\u001b[1;33m)\u001b[0m\u001b[1;33m\u001b[0m\u001b[1;33m\u001b[0m\u001b[0m\n",
      "\u001b[1;31mNameError\u001b[0m: name 'X_breast' is not defined"
     ]
    }
   ],
   "source": [
    "clf = tree.DecisionTreeClassifier()\n",
    "accs_breast=cross_val_score(clf, X_breast, Y, cv=nFolds)\n",
    "np.average(accs_breast)"
   ]
  },
  {
   "cell_type": "code",
   "execution_count": 526,
   "id": "regular-glance",
   "metadata": {},
   "outputs": [
    {
     "data": {
      "text/plain": [
       "0.6537037037037037"
      ]
     },
     "execution_count": 526,
     "metadata": {},
     "output_type": "execute_result"
    }
   ],
   "source": [
    "clf = tree.DecisionTreeClassifier()\n",
    "accs_breast_age=cross_val_score(clf, X_breast_age, Y, cv=nFolds)\n",
    "np.average(accs_breast_age)"
   ]
  },
  {
   "cell_type": "markdown",
   "id": "intelligent-pontiac",
   "metadata": {},
   "source": [
    "### ATTENTION !!\n",
    "##### This code is a batch computation, it' very heavy and takes a lot of time to compute, don't execute it if not necessary."
   ]
  },
  {
   "cell_type": "code",
   "execution_count": 27,
   "id": "critical-satisfaction",
   "metadata": {},
   "outputs": [
    {
     "name": "stdout",
     "output_type": "stream",
     "text": [
      "Permutation 0\n",
      "Permutation 1\n",
      "Permutation 2\n",
      "Permutation 3\n",
      "Permutation 4\n",
      "Permutation 5\n",
      "Permutation 6\n",
      "Permutation 7\n",
      "Permutation 8\n",
      "Permutation 9\n",
      "Permutation 10\n",
      "Permutation 11\n",
      "Permutation 12\n",
      "Permutation 13\n",
      "Permutation 14\n",
      "Permutation 15\n",
      "Permutation 16\n",
      "Permutation 17\n",
      "Permutation 18\n",
      "Permutation 19\n",
      "Permutation 20\n",
      "Permutation 21\n",
      "Permutation 22\n",
      "Permutation 23\n",
      "Permutation 24\n",
      "Permutation 25\n",
      "Permutation 26\n",
      "Permutation 27\n",
      "Permutation 28\n",
      "Permutation 29\n",
      "Permutation 30\n",
      "Permutation 31\n",
      "Permutation 32\n",
      "Permutation 33\n",
      "Permutation 34\n",
      "Permutation 35\n",
      "Permutation 36\n",
      "Permutation 37\n",
      "Permutation 38\n",
      "Permutation 39\n",
      "Permutation 40\n",
      "Permutation 41\n",
      "Permutation 42\n",
      "Permutation 43\n",
      "Permutation 44\n",
      "Permutation 45\n",
      "Permutation 46\n",
      "Permutation 47\n",
      "Permutation 48\n",
      "Permutation 49\n",
      "Permutation 50\n",
      "Permutation 51\n",
      "Permutation 52\n",
      "Permutation 53\n",
      "Permutation 54\n",
      "Permutation 55\n",
      "Permutation 56\n",
      "Permutation 57\n",
      "Permutation 58\n",
      "Permutation 59\n",
      "Permutation 60\n",
      "Permutation 61\n",
      "Permutation 62\n",
      "Permutation 63\n",
      "Permutation 64\n",
      "Permutation 65\n",
      "Permutation 66\n",
      "Permutation 67\n",
      "Permutation 68\n",
      "Permutation 69\n",
      "Permutation 70\n",
      "Permutation 71\n",
      "Permutation 72\n",
      "Permutation 73\n",
      "Permutation 74\n",
      "Permutation 75\n",
      "Permutation 76\n",
      "Permutation 77\n",
      "Permutation 78\n",
      "Permutation 79\n",
      "Permutation 80\n",
      "Permutation 81\n",
      "Permutation 82\n",
      "Permutation 83\n",
      "Permutation 84\n",
      "Permutation 85\n",
      "Permutation 86\n",
      "Permutation 87\n",
      "Permutation 88\n",
      "Permutation 89\n",
      "Permutation 90\n",
      "Permutation 91\n",
      "Permutation 92\n",
      "Permutation 93\n",
      "Permutation 94\n",
      "Permutation 95\n",
      "Permutation 96\n",
      "Permutation 97\n",
      "Permutation 98\n",
      "Permutation 99\n"
     ]
    }
   ],
   "source": [
    "nFolds= 10\n",
    "nPermutation = 100\n",
    "nTrials = 50\n",
    "avgAccs = np.zeros( (4, nPermutation, nTrials) )\n",
    "for p in range(nPermutation) :\n",
    "    print(\"Permutation \" + str(p))\n",
    "    X, X_breast ,X_age, X_breast_age, Y = reducedDatasets ()\n",
    "    for t in range(nTrials) :\n",
    "        clf = tree.DecisionTreeClassifier()\n",
    "        avgAccs[0,p,t] = np.average(cross_val_score(clf, X, Y, cv=nFolds))\n",
    "        clf = tree.DecisionTreeClassifier()\n",
    "        avgAccs[1,p,t] = np.average(cross_val_score(clf, X_age, Y, cv=nFolds))\n",
    "        clf = tree.DecisionTreeClassifier()\n",
    "        avgAccs[2,p,t] = np.average(cross_val_score(clf, X_breast, Y, cv=nFolds))\n",
    "        clf = tree.DecisionTreeClassifier()\n",
    "        avgAccs[3,p,t] = np.average(cross_val_score(clf, X_breast_age, Y, cv=nFolds))     "
   ]
  },
  {
   "cell_type": "code",
   "execution_count": 529,
   "id": "neural-trader",
   "metadata": {},
   "outputs": [
    {
     "name": "stdout",
     "output_type": "stream",
     "text": [
      "NORMAL DATASET   acc: 0.6461523544973544\n",
      "NO AGE           acc: 0.6481156084656085\n",
      "NO BREAST        acc: 0.655572037037037\n",
      "NO AGE & BREAST  acc: 0.66392\n"
     ]
    }
   ],
   "source": [
    "print(\"NORMAL DATASET   acc: \" + str(np.average(np.average(avgAccs[0,:,:]))))\n",
    "print(\"NO AGE           acc: \" + str(np.average(np.average(avgAccs[1,:,:]))))\n",
    "print(\"NO BREAST        acc: \" + str(np.average(np.average(avgAccs[2,:,:]))))\n",
    "print(\"NO AGE & BREAST  acc: \" + str(np.average(np.average(avgAccs[3,:,:]))))"
   ]
  },
  {
   "cell_type": "markdown",
   "id": "split-evening",
   "metadata": {},
   "source": [
    "From the results above we can confidently say that age and breast are not so importanto for the classification problem when decision tree is used."
   ]
  },
  {
   "cell_type": "markdown",
   "id": "latest-defense",
   "metadata": {},
   "source": [
    "##### Cofusion matrix for decsion tree with feature reduction"
   ]
  },
  {
   "cell_type": "code",
   "execution_count": 27,
   "id": "unlimited-relation",
   "metadata": {},
   "outputs": [
    {
     "name": "stdout",
     "output_type": "stream",
     "text": [
      "NORMAL\n",
      "NO AGE\n",
      "NO BREAST\n",
      "NO AGE&BREAST\n"
     ]
    },
    {
     "data": {
      "text/plain": [
       "<sklearn.metrics._plot.confusion_matrix.ConfusionMatrixDisplay at 0x22d9f171070>"
      ]
     },
     "execution_count": 27,
     "metadata": {},
     "output_type": "execute_result"
    },
    {
     "data": {
      "image/png": "[encoded data removed]",
      "text/plain": [
       "<Figure size 432x288 with 2 Axes>"
      ]
     },
     "metadata": {
      "needs_background": "light"
     },
     "output_type": "display_data"
    },
    {
     "data": {
      "image/png": "[encoded data removed]",
      "text/plain": [
       "<Figure size 432x288 with 2 Axes>"
      ]
     },
     "metadata": {
      "needs_background": "light"
     },
     "output_type": "display_data"
    },
    {
     "data": {
      "image/png": "[encoded data removed]",
      "text/plain": [
       "<Figure size 432x288 with 2 Axes>"
      ]
     },
     "metadata": {
      "needs_background": "light"
     },
     "output_type": "display_data"
    },
    {
     "data": {
      "image/png": "[encoded data removed]",
      "text/plain": [
       "<Figure size 432x288 with 2 Axes>"
      ]
     },
     "metadata": {
      "needs_background": "light"
     },
     "output_type": "display_data"
    }
   ],
   "source": [
    "clf = tree.DecisionTreeClassifier()\n",
    "Y = df['Class']\n",
    "X = df.iloc[:,:-1]\n",
    "X,Y = permuteDataset(X,Y)\n",
    "X,X_breast,X_age,X_breast_age,Y = reducedDatasets (X,Y)\n",
    "X_train,Y_train,X_test,Y_test = splitDataset(X,Y,0.8)\n",
    "X_train_a,Y_train_a,X_test_a,Y_test_a = splitDataset(X_age,Y,0.8)\n",
    "X_train_b,Y_train_b,X_test_b,Y_test_b = splitDataset(X_breast,Y,0.8)\n",
    "X_train_ab,Y_train_ab,X_test_ab,Y_test_ab = splitDataset(X_breast_age,Y,0.8)\n",
    "\n",
    "print(\"NORMAL\")\n",
    "clf = tree.DecisionTreeClassifier()\n",
    "clf.fit(X_train, Y_train)\n",
    "sk.metrics.plot_confusion_matrix(clf, X_test, Y_test,normalize='true', display_labels = cats['Class'])\n",
    "\n",
    "print(\"NO AGE\")\n",
    "clf = tree.DecisionTreeClassifier()\n",
    "clf.fit(X_train_a, Y_train_a)\n",
    "sk.metrics.plot_confusion_matrix(clf, X_test_a, Y_test_a,normalize='true', display_labels = cats['Class'])\n",
    "\n",
    "print(\"NO BREAST\")\n",
    "clf = tree.DecisionTreeClassifier()\n",
    "clf.fit(X_train_b, Y_train_b)\n",
    "sk.metrics.plot_confusion_matrix(clf, X_test_b, Y_test_b,normalize='true', display_labels = cats['Class'])\n",
    "\n",
    "print(\"NO AGE&BREAST\")\n",
    "clf = tree.DecisionTreeClassifier()\n",
    "clf.fit(X_train_ab, Y_train_ab)\n",
    "sk.metrics.plot_confusion_matrix(clf, X_test_ab, Y_test_ab,normalize='true', display_labels = cats['Class'])"
   ]
  },
  {
   "cell_type": "markdown",
   "id": "ideal-argentina",
   "metadata": {},
   "source": [
    "### Nyve Bayas implementation\n"
   ]
  },
  {
   "cell_type": "markdown",
   "id": "threaded-roman",
   "metadata": {},
   "source": [
    "### ATTENTION !!\n",
    "##### This code is a batch computation, it' very heavy and takes a lot of time to compute, don't execute it if not necessary."
   ]
  },
  {
   "cell_type": "code",
   "execution_count": 559,
   "id": "forced-bahamas",
   "metadata": {},
   "outputs": [
    {
     "name": "stdout",
     "output_type": "stream",
     "text": [
      "Permutation 0\n",
      "Permutation 1\n",
      "Permutation 2\n",
      "Permutation 3\n",
      "Permutation 4\n",
      "Permutation 5\n",
      "Permutation 6\n",
      "Permutation 7\n",
      "Permutation 8\n",
      "Permutation 9\n",
      "Permutation 10\n",
      "Permutation 11\n",
      "Permutation 12\n",
      "Permutation 13\n",
      "Permutation 14\n",
      "Permutation 15\n",
      "Permutation 16\n",
      "Permutation 17\n",
      "Permutation 18\n",
      "Permutation 19\n",
      "Permutation 20\n",
      "Permutation 21\n",
      "Permutation 22\n",
      "Permutation 23\n",
      "Permutation 24\n",
      "Permutation 25\n",
      "Permutation 26\n",
      "Permutation 27\n",
      "Permutation 28\n",
      "Permutation 29\n",
      "Permutation 30\n",
      "Permutation 31\n",
      "Permutation 32\n",
      "Permutation 33\n",
      "Permutation 34\n",
      "Permutation 35\n",
      "Permutation 36\n",
      "Permutation 37\n",
      "Permutation 38\n",
      "Permutation 39\n",
      "Permutation 40\n",
      "Permutation 41\n",
      "Permutation 42\n",
      "Permutation 43\n",
      "Permutation 44\n",
      "Permutation 45\n",
      "Permutation 46\n",
      "Permutation 47\n",
      "Permutation 48\n",
      "Permutation 49\n",
      "Permutation 50\n",
      "Permutation 51\n",
      "Permutation 52\n",
      "Permutation 53\n",
      "Permutation 54\n",
      "Permutation 55\n",
      "Permutation 56\n",
      "Permutation 57\n",
      "Permutation 58\n",
      "Permutation 59\n",
      "Permutation 60\n",
      "Permutation 61\n",
      "Permutation 62\n",
      "Permutation 63\n",
      "Permutation 64\n",
      "Permutation 65\n",
      "Permutation 66\n",
      "Permutation 67\n",
      "Permutation 68\n",
      "Permutation 69\n",
      "Permutation 70\n",
      "Permutation 71\n",
      "Permutation 72\n",
      "Permutation 73\n",
      "Permutation 74\n",
      "Permutation 75\n",
      "Permutation 76\n",
      "Permutation 77\n",
      "Permutation 78\n",
      "Permutation 79\n",
      "Permutation 80\n",
      "Permutation 81\n",
      "Permutation 82\n",
      "Permutation 83\n",
      "Permutation 84\n",
      "Permutation 85\n",
      "Permutation 86\n",
      "Permutation 87\n",
      "Permutation 88\n",
      "Permutation 89\n",
      "Permutation 90\n",
      "Permutation 91\n",
      "Permutation 92\n",
      "Permutation 93\n",
      "Permutation 94\n",
      "Permutation 95\n",
      "Permutation 96\n",
      "Permutation 97\n",
      "Permutation 98\n",
      "Permutation 99\n"
     ]
    }
   ],
   "source": [
    "nFolds= 10\n",
    "nPermutation = 100\n",
    "nTrials = 50\n",
    "avgAccsBayes = np.zeros( (4, nPermutation, nTrials) )\n",
    "for p in range(nPermutation) :\n",
    "    print(\"Permutation \" + str(p))\n",
    "    X, X_breast ,X_age, X_breast_age, Y = reducedDatasets ()\n",
    "    for t in range(nTrials) :\n",
    "        clf = GaussianNB()\n",
    "        avgAccsBayes[0,p,t] = np.average(cross_val_score(clf, X, Y, cv=nFolds))\n",
    "        clf = GaussianNB()\n",
    "        avgAccsBayes[1,p,t] = np.average(cross_val_score(clf, X_age, Y, cv=nFolds))\n",
    "        clf = GaussianNB()\n",
    "        avgAccsBayes[2,p,t] = np.average(cross_val_score(clf, X_breast, Y, cv=nFolds))\n",
    "        clf = GaussianNB()\n",
    "        avgAccsBayes[3,p,t] = np.average(cross_val_score(clf, X_breast_age, Y, cv=nFolds))    "
   ]
  },
  {
   "cell_type": "code",
   "execution_count": 560,
   "id": "split-secretariat",
   "metadata": {},
   "outputs": [
    {
     "name": "stdout",
     "output_type": "stream",
     "text": [
      "NORMAL DATASET   acc: 0.7320859788359788\n",
      "NO AGE           acc: 0.7312142857142857\n",
      "NO BREAST        acc: 0.731728835978836\n",
      "NO AGE & BREAST  acc: 0.730813492063492\n"
     ]
    }
   ],
   "source": [
    "print(\"NORMAL DATASET   acc: \" + str(np.average(np.average(avgAccsBayes[0,:,:]))))\n",
    "print(\"NO AGE           acc: \" + str(np.average(np.average(avgAccsBayes[1,:,:]))))\n",
    "print(\"NO BREAST        acc: \" + str(np.average(np.average(avgAccsBayes[2,:,:]))))\n",
    "print(\"NO AGE & BREAST  acc: \" + str(np.average(np.average(avgAccsBayes[3,:,:]))))"
   ]
  },
  {
   "cell_type": "markdown",
   "id": "maritime-trustee",
   "metadata": {},
   "source": [
    "##### Cofusion matrix for NAYVE BAYES with feature reduction"
   ]
  },
  {
   "cell_type": "code",
   "execution_count": 29,
   "id": "photographic-quilt",
   "metadata": {},
   "outputs": [
    {
     "data": {
      "text/plain": [
       "<sklearn.metrics._plot.confusion_matrix.ConfusionMatrixDisplay at 0x22d9f358a30>"
      ]
     },
     "execution_count": 29,
     "metadata": {},
     "output_type": "execute_result"
    },
    {
     "data": {
      "image/png": "[encoded data removed]",
      "text/plain": [
       "<Figure size 432x288 with 2 Axes>"
      ]
     },
     "metadata": {
      "needs_background": "light"
     },
     "output_type": "display_data"
    },
    {
     "data": {
      "image/png": "[encoded data removed]",
      "text/plain": [
       "<Figure size 432x288 with 2 Axes>"
      ]
     },
     "metadata": {
      "needs_background": "light"
     },
     "output_type": "display_data"
    },
    {
     "data": {
      "image/png": "[encoded data removed]",
      "text/plain": [
       "<Figure size 432x288 with 2 Axes>"
      ]
     },
     "metadata": {
      "needs_background": "light"
     },
     "output_type": "display_data"
    },
    {
     "data": {
      "image/png": "[encoded data removed]",
      "text/plain": [
       "<Figure size 432x288 with 2 Axes>"
      ]
     },
     "metadata": {
      "needs_background": "light"
     },
     "output_type": "display_data"
    }
   ],
   "source": [
    "\n",
    "X,X_breast,X_age,X_breast_age,Y = reducedDatasets (X,Y)\n",
    "X_train,Y_train,X_test,Y_test = splitDataset(X,Y,0.8)\n",
    "X_train_a,Y_train_a,X_test_a,Y_test_a = splitDataset(X_age,Y,0.8)\n",
    "X_train_b,Y_train_b,X_test_b,Y_test_b = splitDataset(X_breast,Y,0.8)\n",
    "X_train_ab,Y_train_ab,X_test_ab,Y_test_ab = splitDataset(X_breast_age,Y,0.8)\n",
    "clf = GaussianNB()\n",
    "clf.fit(X_train, Y_train)\n",
    "sk.metrics.plot_confusion_matrix(clf, X_test, Y_test,normalize='true', display_labels = cats['Class'])\n",
    "clf = GaussianNB()\n",
    "clf.fit(X_train_a, Y_train_a)\n",
    "sk.metrics.plot_confusion_matrix(clf, X_test_a, Y_test_a,normalize='true', display_labels = cats['Class'])\n",
    "clf = GaussianNB()\n",
    "clf.fit(X_train_b, Y_train_b)\n",
    "sk.metrics.plot_confusion_matrix(clf, X_test_b, Y_test_b,normalize='true', display_labels = cats['Class'])\n",
    "clf = GaussianNB()\n",
    "clf.fit(X_train_ab, Y_train_ab)\n",
    "sk.metrics.plot_confusion_matrix(clf, X_test_ab, Y_test_ab,normalize='true', display_labels = cats['Class'])"
   ]
  },
  {
   "cell_type": "code",
   "execution_count": null,
   "id": "communist-journalist",
   "metadata": {},
   "outputs": [],
   "source": []
  }
 ],
 "metadata": {
  "kernelspec": {
   "display_name": "Python 3",
   "language": "python",
   "name": "python3"
  },
  "language_info": {
   "codemirror_mode": {
    "name": "ipython",
    "version": 3
   },
   "file_extension": ".py",
   "mimetype": "text/x-python",
   "name": "python",
   "nbconvert_exporter": "python",
   "pygments_lexer": "ipython3",
   "version": "3.8.5"
  }
 },
 "nbformat": 4,
 "nbformat_minor": 5
}
