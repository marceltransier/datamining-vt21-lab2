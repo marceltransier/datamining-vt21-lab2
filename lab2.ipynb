{
 "cells": [
  {
   "cell_type": "markdown",
   "id": "mathematical-gossip",
   "metadata": {},
   "source": [
    "# Lab 2\n",
    "### *C4.5 decicion tree* vs *naive bayes classification*\n",
    "breast-cancer.arff\n",
    "\n"
   ]
  },
  {
   "cell_type": "code",
   "execution_count": 35,
   "id": "labeled-headquarters",
   "metadata": {},
   "outputs": [],
   "source": [
    "%matplotlib inline\n",
    "import matplotlib.pyplot as plt\n",
    "from scipy.io import arff\n",
    "import pandas as pd\n",
    "import numpy as np\n",
    "import matplotlib\n",
    "import graphviz\n",
    "import sklearn as sk\n",
    "\n",
    "from sklearn import tree\n",
    "from sklearn.model_selection import cross_val_score\n",
    "from sklearn.naive_bayes import GaussianNB\n"
   ]
  },
  {
   "cell_type": "markdown",
   "id": "weighted-infrastructure",
   "metadata": {},
   "source": [
    "##### Dataset Loading"
   ]
  },
  {
   "cell_type": "code",
   "execution_count": 36,
   "id": "marine-horror",
   "metadata": {},
   "outputs": [
    {
     "data": {
      "text/html": [
       "<div>\n",
       "<style scoped>\n",
       "    .dataframe tbody tr th:only-of-type {\n",
       "        vertical-align: middle;\n",
       "    }\n",
       "\n",
       "    .dataframe tbody tr th {\n",
       "        vertical-align: top;\n",
       "    }\n",
       "\n",
       "    .dataframe thead th {\n",
       "        text-align: right;\n",
       "    }\n",
       "</style>\n",
       "<table border=\"1\" class=\"dataframe\">\n",
       "  <thead>\n",
       "    <tr style=\"text-align: right;\">\n",
       "      <th></th>\n",
       "      <th>age</th>\n",
       "      <th>menopause</th>\n",
       "      <th>tumor-size</th>\n",
       "      <th>inv-nodes</th>\n",
       "      <th>node-caps</th>\n",
       "      <th>deg-malig</th>\n",
       "      <th>breast</th>\n",
       "      <th>breast-quad</th>\n",
       "      <th>irradiat</th>\n",
       "      <th>Class</th>\n",
       "    </tr>\n",
       "  </thead>\n",
       "  <tbody>\n",
       "    <tr>\n",
       "      <th>0</th>\n",
       "      <td>40-49</td>\n",
       "      <td>premeno</td>\n",
       "      <td>15-19</td>\n",
       "      <td>0-2</td>\n",
       "      <td>yes</td>\n",
       "      <td>3</td>\n",
       "      <td>right</td>\n",
       "      <td>left_up</td>\n",
       "      <td>no</td>\n",
       "      <td>recurrence-events</td>\n",
       "    </tr>\n",
       "    <tr>\n",
       "      <th>1</th>\n",
       "      <td>50-59</td>\n",
       "      <td>ge40</td>\n",
       "      <td>15-19</td>\n",
       "      <td>0-2</td>\n",
       "      <td>no</td>\n",
       "      <td>1</td>\n",
       "      <td>right</td>\n",
       "      <td>central</td>\n",
       "      <td>no</td>\n",
       "      <td>no-recurrence-events</td>\n",
       "    </tr>\n",
       "    <tr>\n",
       "      <th>2</th>\n",
       "      <td>50-59</td>\n",
       "      <td>ge40</td>\n",
       "      <td>35-39</td>\n",
       "      <td>0-2</td>\n",
       "      <td>no</td>\n",
       "      <td>2</td>\n",
       "      <td>left</td>\n",
       "      <td>left_low</td>\n",
       "      <td>no</td>\n",
       "      <td>recurrence-events</td>\n",
       "    </tr>\n",
       "    <tr>\n",
       "      <th>3</th>\n",
       "      <td>40-49</td>\n",
       "      <td>premeno</td>\n",
       "      <td>35-39</td>\n",
       "      <td>0-2</td>\n",
       "      <td>yes</td>\n",
       "      <td>3</td>\n",
       "      <td>right</td>\n",
       "      <td>left_low</td>\n",
       "      <td>yes</td>\n",
       "      <td>no-recurrence-events</td>\n",
       "    </tr>\n",
       "    <tr>\n",
       "      <th>4</th>\n",
       "      <td>40-49</td>\n",
       "      <td>premeno</td>\n",
       "      <td>30-34</td>\n",
       "      <td>3-5</td>\n",
       "      <td>yes</td>\n",
       "      <td>2</td>\n",
       "      <td>left</td>\n",
       "      <td>right_up</td>\n",
       "      <td>no</td>\n",
       "      <td>recurrence-events</td>\n",
       "    </tr>\n",
       "  </tbody>\n",
       "</table>\n",
       "</div>"
      ],
      "text/plain": [
       "     age menopause tumor-size inv-nodes node-caps deg-malig breast  \\\n",
       "0  40-49   premeno      15-19       0-2       yes         3  right   \n",
       "1  50-59      ge40      15-19       0-2        no         1  right   \n",
       "2  50-59      ge40      35-39       0-2        no         2   left   \n",
       "3  40-49   premeno      35-39       0-2       yes         3  right   \n",
       "4  40-49   premeno      30-34       3-5       yes         2   left   \n",
       "\n",
       "  breast-quad irradiat                 Class  \n",
       "0     left_up       no     recurrence-events  \n",
       "1     central       no  no-recurrence-events  \n",
       "2    left_low       no     recurrence-events  \n",
       "3    left_low      yes  no-recurrence-events  \n",
       "4    right_up       no     recurrence-events  "
      ]
     },
     "execution_count": 36,
     "metadata": {},
     "output_type": "execute_result"
    }
   ],
   "source": [
    "data = arff.loadarff('breast-cancer.arff')\n",
    "df = pd.DataFrame(data[0]).select_dtypes([np.object]).stack().str.decode('utf-8').unstack()\n",
    "df.head()"
   ]
  },
  {
   "cell_type": "markdown",
   "id": "municipal-shopper",
   "metadata": {},
   "source": [
    "Since we have some patterns with missiong values, we decided to eliminate them from the dataset"
   ]
  },
  {
   "cell_type": "code",
   "execution_count": 37,
   "id": "objective-moldova",
   "metadata": {},
   "outputs": [
    {
     "data": {
      "text/html": [
       "<div>\n",
       "<style scoped>\n",
       "    .dataframe tbody tr th:only-of-type {\n",
       "        vertical-align: middle;\n",
       "    }\n",
       "\n",
       "    .dataframe tbody tr th {\n",
       "        vertical-align: top;\n",
       "    }\n",
       "\n",
       "    .dataframe thead th {\n",
       "        text-align: right;\n",
       "    }\n",
       "</style>\n",
       "<table border=\"1\" class=\"dataframe\">\n",
       "  <thead>\n",
       "    <tr style=\"text-align: right;\">\n",
       "      <th></th>\n",
       "      <th>age</th>\n",
       "      <th>menopause</th>\n",
       "      <th>tumor-size</th>\n",
       "      <th>inv-nodes</th>\n",
       "      <th>node-caps</th>\n",
       "      <th>deg-malig</th>\n",
       "      <th>breast</th>\n",
       "      <th>breast-quad</th>\n",
       "      <th>irradiat</th>\n",
       "      <th>Class</th>\n",
       "    </tr>\n",
       "  </thead>\n",
       "  <tbody>\n",
       "    <tr>\n",
       "      <th>20</th>\n",
       "      <td>50-59</td>\n",
       "      <td>lt40</td>\n",
       "      <td>20-24</td>\n",
       "      <td>0-2</td>\n",
       "      <td>?</td>\n",
       "      <td>1</td>\n",
       "      <td>left</td>\n",
       "      <td>left_low</td>\n",
       "      <td>no</td>\n",
       "      <td>recurrence-events</td>\n",
       "    </tr>\n",
       "  </tbody>\n",
       "</table>\n",
       "</div>"
      ],
      "text/plain": [
       "      age menopause tumor-size inv-nodes node-caps deg-malig breast  \\\n",
       "20  50-59      lt40      20-24       0-2         ?         1   left   \n",
       "\n",
       "   breast-quad irradiat              Class  \n",
       "20    left_low       no  recurrence-events  "
      ]
     },
     "execution_count": 37,
     "metadata": {},
     "output_type": "execute_result"
    }
   ],
   "source": [
    "df.iloc[20:21,] # row with missing data"
   ]
  },
  {
   "cell_type": "code",
   "execution_count": 38,
   "id": "revolutionary-trinidad",
   "metadata": {},
   "outputs": [],
   "source": [
    "df = df[(df['node-caps'] != '?') & (df['breast-quad'] != '?')]"
   ]
  },
  {
   "cell_type": "markdown",
   "id": "twelve-asbestos",
   "metadata": {},
   "source": [
    "Now we transform the dataset by factorizing it, so to replace the string values for the features to numbers"
   ]
  },
  {
   "cell_type": "code",
   "execution_count": 39,
   "id": "announced-barrier",
   "metadata": {},
   "outputs": [],
   "source": [
    "cats = {}\n",
    "codes, cats['age'] = pd.factorize(df['age'])\n",
    "df.loc[:,'age'] = codes\n",
    "codes, cats['menopause'] = pd.factorize(df['menopause'])\n",
    "df.loc[:,'menopause'] = codes\n",
    "codes, cats['tumor-size'] = pd.factorize(df['tumor-size'])\n",
    "df.loc[:,'tumor-size'] = codes\n",
    "codes, cats['inv-nodes'] = pd.factorize(df['inv-nodes'])\n",
    "df.loc[:,'inv-nodes'] = codes\n",
    "codes, cats['node-caps'] = pd.factorize(df['node-caps'])\n",
    "df.loc[:,'node-caps'] = codes\n",
    "codes, cats['breast'] = pd.factorize(df['breast'])\n",
    "df.loc[:,'breast'] = codes\n",
    "codes, cats['breast-quad'] = pd.factorize(df['breast-quad'])\n",
    "df.loc[:,'breast-quad'] = codes\n",
    "codes, cats['irradiat'] = pd.factorize(df['irradiat'])\n",
    "df.loc[:,'irradiat'] = codes\n",
    "codes, cats['Class'] = pd.factorize(df['Class'])\n",
    "df.loc[:,'Class'] = codes\n",
    "df.loc[:,'deg-malig'] = df['deg-malig'].astype(int)\n"
   ]
  },
  {
   "cell_type": "markdown",
   "id": "acute-collectible",
   "metadata": {},
   "source": [
    "Now we can compute the correlation matrix "
   ]
  },
  {
   "cell_type": "code",
   "execution_count": 40,
   "id": "psychological-trader",
   "metadata": {},
   "outputs": [
    {
     "data": {
      "text/html": [
       "<style  type=\"text/css\" >\n",
       "#T_89f4a_row0_col0,#T_89f4a_row1_col1,#T_89f4a_row2_col2,#T_89f4a_row3_col3,#T_89f4a_row4_col4,#T_89f4a_row5_col5,#T_89f4a_row6_col6,#T_89f4a_row7_col7,#T_89f4a_row8_col8,#T_89f4a_row9_col9{\n",
       "            background-color:  #b40426;\n",
       "            color:  #f1f1f1;\n",
       "        }#T_89f4a_row0_col1,#T_89f4a_row2_col9{\n",
       "            background-color:  #a1c0ff;\n",
       "            color:  #000000;\n",
       "        }#T_89f4a_row0_col2,#T_89f4a_row0_col7,#T_89f4a_row4_col0{\n",
       "            background-color:  #4f69d9;\n",
       "            color:  #000000;\n",
       "        }#T_89f4a_row0_col3{\n",
       "            background-color:  #b6cefa;\n",
       "            color:  #000000;\n",
       "        }#T_89f4a_row0_col4{\n",
       "            background-color:  #c3d5f4;\n",
       "            color:  #000000;\n",
       "        }#T_89f4a_row0_col5,#T_89f4a_row6_col8{\n",
       "            background-color:  #86a9fc;\n",
       "            color:  #000000;\n",
       "        }#T_89f4a_row0_col6{\n",
       "            background-color:  #5d7ce6;\n",
       "            color:  #000000;\n",
       "        }#T_89f4a_row0_col8,#T_89f4a_row0_col9{\n",
       "            background-color:  #85a8fc;\n",
       "            color:  #000000;\n",
       "        }#T_89f4a_row1_col0{\n",
       "            background-color:  #93b5fe;\n",
       "            color:  #000000;\n",
       "        }#T_89f4a_row1_col2,#T_89f4a_row6_col0{\n",
       "            background-color:  #5a78e4;\n",
       "            color:  #000000;\n",
       "        }#T_89f4a_row1_col3{\n",
       "            background-color:  #b5cdfa;\n",
       "            color:  #000000;\n",
       "        }#T_89f4a_row1_col4{\n",
       "            background-color:  #c5d6f2;\n",
       "            color:  #000000;\n",
       "        }#T_89f4a_row1_col5{\n",
       "            background-color:  #97b8ff;\n",
       "            color:  #000000;\n",
       "        }#T_89f4a_row1_col6{\n",
       "            background-color:  #5875e1;\n",
       "            color:  #000000;\n",
       "        }#T_89f4a_row1_col7,#T_89f4a_row2_col0,#T_89f4a_row3_col0,#T_89f4a_row3_col2,#T_89f4a_row3_col4,#T_89f4a_row4_col3,#T_89f4a_row4_col5,#T_89f4a_row4_col8,#T_89f4a_row5_col2,#T_89f4a_row5_col9,#T_89f4a_row7_col1,#T_89f4a_row8_col0,#T_89f4a_row8_col1,#T_89f4a_row9_col5,#T_89f4a_row9_col6{\n",
       "            background-color:  #3b4cc0;\n",
       "            color:  #f1f1f1;\n",
       "        }#T_89f4a_row1_col8,#T_89f4a_row8_col4{\n",
       "            background-color:  #7597f6;\n",
       "            color:  #000000;\n",
       "        }#T_89f4a_row1_col9{\n",
       "            background-color:  #a3c2fe;\n",
       "            color:  #000000;\n",
       "        }#T_89f4a_row2_col1{\n",
       "            background-color:  #5673e0;\n",
       "            color:  #000000;\n",
       "        }#T_89f4a_row2_col3{\n",
       "            background-color:  #a6c4fe;\n",
       "            color:  #000000;\n",
       "        }#T_89f4a_row2_col4,#T_89f4a_row7_col3{\n",
       "            background-color:  #cbd8ee;\n",
       "            color:  #000000;\n",
       "        }#T_89f4a_row2_col5{\n",
       "            background-color:  #7093f3;\n",
       "            color:  #000000;\n",
       "        }#T_89f4a_row2_col6{\n",
       "            background-color:  #4055c8;\n",
       "            color:  #f1f1f1;\n",
       "        }#T_89f4a_row2_col7{\n",
       "            background-color:  #465ecf;\n",
       "            color:  #f1f1f1;\n",
       "        }#T_89f4a_row2_col8{\n",
       "            background-color:  #8fb1fe;\n",
       "            color:  #000000;\n",
       "        }#T_89f4a_row3_col1,#T_89f4a_row7_col2{\n",
       "            background-color:  #4a63d3;\n",
       "            color:  #f1f1f1;\n",
       "        }#T_89f4a_row3_col5{\n",
       "            background-color:  #dcdddd;\n",
       "            color:  #000000;\n",
       "        }#T_89f4a_row3_col6{\n",
       "            background-color:  #4c66d6;\n",
       "            color:  #000000;\n",
       "        }#T_89f4a_row3_col7{\n",
       "            background-color:  #6c8ff1;\n",
       "            color:  #000000;\n",
       "        }#T_89f4a_row3_col8{\n",
       "            background-color:  #e4d9d2;\n",
       "            color:  #000000;\n",
       "        }#T_89f4a_row3_col9{\n",
       "            background-color:  #3d50c3;\n",
       "            color:  #f1f1f1;\n",
       "        }#T_89f4a_row4_col1{\n",
       "            background-color:  #6384eb;\n",
       "            color:  #000000;\n",
       "        }#T_89f4a_row4_col2,#T_89f4a_row9_col1,#T_89f4a_row9_col2{\n",
       "            background-color:  #6f92f3;\n",
       "            color:  #000000;\n",
       "        }#T_89f4a_row4_col6{\n",
       "            background-color:  #4358cb;\n",
       "            color:  #f1f1f1;\n",
       "        }#T_89f4a_row4_col7{\n",
       "            background-color:  #485fd1;\n",
       "            color:  #f1f1f1;\n",
       "        }#T_89f4a_row4_col9{\n",
       "            background-color:  #d4dbe6;\n",
       "            color:  #000000;\n",
       "        }#T_89f4a_row5_col0,#T_89f4a_row7_col0,#T_89f4a_row8_col6{\n",
       "            background-color:  #3e51c5;\n",
       "            color:  #f1f1f1;\n",
       "        }#T_89f4a_row5_col1{\n",
       "            background-color:  #6180e9;\n",
       "            color:  #000000;\n",
       "        }#T_89f4a_row5_col3{\n",
       "            background-color:  #f1cdba;\n",
       "            color:  #000000;\n",
       "        }#T_89f4a_row5_col4{\n",
       "            background-color:  #7699f6;\n",
       "            color:  #000000;\n",
       "        }#T_89f4a_row5_col6{\n",
       "            background-color:  #5470de;\n",
       "            color:  #000000;\n",
       "        }#T_89f4a_row5_col7{\n",
       "            background-color:  #4961d2;\n",
       "            color:  #f1f1f1;\n",
       "        }#T_89f4a_row5_col8{\n",
       "            background-color:  #c7d7f0;\n",
       "            color:  #000000;\n",
       "        }#T_89f4a_row6_col1{\n",
       "            background-color:  #6687ed;\n",
       "            color:  #000000;\n",
       "        }#T_89f4a_row6_col2{\n",
       "            background-color:  #516ddb;\n",
       "            color:  #000000;\n",
       "        }#T_89f4a_row6_col3{\n",
       "            background-color:  #c0d4f5;\n",
       "            color:  #000000;\n",
       "        }#T_89f4a_row6_col4{\n",
       "            background-color:  #bad0f8;\n",
       "            color:  #000000;\n",
       "        }#T_89f4a_row6_col5{\n",
       "            background-color:  #98b9ff;\n",
       "            color:  #000000;\n",
       "        }#T_89f4a_row6_col7{\n",
       "            background-color:  #89acfd;\n",
       "            color:  #000000;\n",
       "        }#T_89f4a_row6_col9,#T_89f4a_row7_col5{\n",
       "            background-color:  #81a4fb;\n",
       "            color:  #000000;\n",
       "        }#T_89f4a_row7_col4{\n",
       "            background-color:  #b3cdfb;\n",
       "            color:  #000000;\n",
       "        }#T_89f4a_row7_col6{\n",
       "            background-color:  #7b9ff9;\n",
       "            color:  #000000;\n",
       "        }#T_89f4a_row7_col8{\n",
       "            background-color:  #8badfd;\n",
       "            color:  #000000;\n",
       "        }#T_89f4a_row7_col9{\n",
       "            background-color:  #7da0f9;\n",
       "            color:  #000000;\n",
       "        }#T_89f4a_row8_col2{\n",
       "            background-color:  #5977e3;\n",
       "            color:  #000000;\n",
       "        }#T_89f4a_row8_col3{\n",
       "            background-color:  #f3c7b1;\n",
       "            color:  #000000;\n",
       "        }#T_89f4a_row8_col5{\n",
       "            background-color:  #c6d6f1;\n",
       "            color:  #000000;\n",
       "        }#T_89f4a_row8_col7,#T_89f4a_row8_col9,#T_89f4a_row9_col8{\n",
       "            background-color:  #536edd;\n",
       "            color:  #000000;\n",
       "        }#T_89f4a_row9_col0{\n",
       "            background-color:  #3c4ec2;\n",
       "            color:  #f1f1f1;\n",
       "        }#T_89f4a_row9_col3{\n",
       "            background-color:  #799cf8;\n",
       "            color:  #000000;\n",
       "        }#T_89f4a_row9_col4{\n",
       "            background-color:  #ecd3c5;\n",
       "            color:  #000000;\n",
       "        }#T_89f4a_row9_col7{\n",
       "            background-color:  #445acc;\n",
       "            color:  #f1f1f1;\n",
       "        }</style><table id=\"T_89f4a_\" ><thead>    <tr>        <th class=\"blank level0\" ></th>        <th class=\"col_heading level0 col0\" >age</th>        <th class=\"col_heading level0 col1\" >menopause</th>        <th class=\"col_heading level0 col2\" >tumor-size</th>        <th class=\"col_heading level0 col3\" >inv-nodes</th>        <th class=\"col_heading level0 col4\" >node-caps</th>        <th class=\"col_heading level0 col5\" >deg-malig</th>        <th class=\"col_heading level0 col6\" >breast</th>        <th class=\"col_heading level0 col7\" >breast-quad</th>        <th class=\"col_heading level0 col8\" >irradiat</th>        <th class=\"col_heading level0 col9\" >Class</th>    </tr></thead><tbody>\n",
       "                <tr>\n",
       "                        <th id=\"T_89f4a_level0_row0\" class=\"row_heading level0 row0\" >age</th>\n",
       "                        <td id=\"T_89f4a_row0_col0\" class=\"data row0 col0\" >1.000000</td>\n",
       "                        <td id=\"T_89f4a_row0_col1\" class=\"data row0 col1\" >0.242579</td>\n",
       "                        <td id=\"T_89f4a_row0_col2\" class=\"data row0 col2\" >-0.031988</td>\n",
       "                        <td id=\"T_89f4a_row0_col3\" class=\"data row0 col3\" >-0.029323</td>\n",
       "                        <td id=\"T_89f4a_row0_col4\" class=\"data row0 col4\" >0.036850</td>\n",
       "                        <td id=\"T_89f4a_row0_col5\" class=\"data row0 col5\" >-0.019273</td>\n",
       "                        <td id=\"T_89f4a_row0_col6\" class=\"data row0 col6\" >0.073121</td>\n",
       "                        <td id=\"T_89f4a_row0_col7\" class=\"data row0 col7\" >-0.018384</td>\n",
       "                        <td id=\"T_89f4a_row0_col8\" class=\"data row0 col8\" >-0.029499</td>\n",
       "                        <td id=\"T_89f4a_row0_col9\" class=\"data row0 col9\" >-0.023966</td>\n",
       "            </tr>\n",
       "            <tr>\n",
       "                        <th id=\"T_89f4a_level0_row1\" class=\"row_heading level0 row1\" >menopause</th>\n",
       "                        <td id=\"T_89f4a_row1_col0\" class=\"data row1 col0\" >0.242579</td>\n",
       "                        <td id=\"T_89f4a_row1_col1\" class=\"data row1 col1\" >1.000000</td>\n",
       "                        <td id=\"T_89f4a_row1_col2\" class=\"data row1 col2\" >0.006746</td>\n",
       "                        <td id=\"T_89f4a_row1_col3\" class=\"data row1 col3\" >-0.035095</td>\n",
       "                        <td id=\"T_89f4a_row1_col4\" class=\"data row1 col4\" >0.048569</td>\n",
       "                        <td id=\"T_89f4a_row1_col5\" class=\"data row1 col5\" >0.040020</td>\n",
       "                        <td id=\"T_89f4a_row1_col6\" class=\"data row1 col6\" >0.059217</td>\n",
       "                        <td id=\"T_89f4a_row1_col7\" class=\"data row1 col7\" >-0.092046</td>\n",
       "                        <td id=\"T_89f4a_row1_col8\" class=\"data row1 col8\" >-0.093481</td>\n",
       "                        <td id=\"T_89f4a_row1_col9\" class=\"data row1 col9\" >0.087480</td>\n",
       "            </tr>\n",
       "            <tr>\n",
       "                        <th id=\"T_89f4a_level0_row2\" class=\"row_heading level0 row2\" >tumor-size</th>\n",
       "                        <td id=\"T_89f4a_row2_col0\" class=\"data row2 col0\" >-0.031988</td>\n",
       "                        <td id=\"T_89f4a_row2_col1\" class=\"data row2 col1\" >0.006746</td>\n",
       "                        <td id=\"T_89f4a_row2_col2\" class=\"data row2 col2\" >1.000000</td>\n",
       "                        <td id=\"T_89f4a_row2_col3\" class=\"data row2 col3\" >-0.105610</td>\n",
       "                        <td id=\"T_89f4a_row2_col4\" class=\"data row2 col4\" >0.078192</td>\n",
       "                        <td id=\"T_89f4a_row2_col5\" class=\"data row2 col5\" >-0.103100</td>\n",
       "                        <td id=\"T_89f4a_row2_col6\" class=\"data row2 col6\" >-0.020722</td>\n",
       "                        <td id=\"T_89f4a_row2_col7\" class=\"data row2 col7\" >-0.047194</td>\n",
       "                        <td id=\"T_89f4a_row2_col8\" class=\"data row2 col8\" >0.005344</td>\n",
       "                        <td id=\"T_89f4a_row2_col9\" class=\"data row2 col9\" >0.079440</td>\n",
       "            </tr>\n",
       "            <tr>\n",
       "                        <th id=\"T_89f4a_level0_row3\" class=\"row_heading level0 row3\" >inv-nodes</th>\n",
       "                        <td id=\"T_89f4a_row3_col0\" class=\"data row3 col0\" >-0.029323</td>\n",
       "                        <td id=\"T_89f4a_row3_col1\" class=\"data row3 col1\" >-0.035095</td>\n",
       "                        <td id=\"T_89f4a_row3_col2\" class=\"data row3 col2\" >-0.105610</td>\n",
       "                        <td id=\"T_89f4a_row3_col3\" class=\"data row3 col3\" >1.000000</td>\n",
       "                        <td id=\"T_89f4a_row3_col4\" class=\"data row3 col4\" >-0.632495</td>\n",
       "                        <td id=\"T_89f4a_row3_col5\" class=\"data row3 col5\" >0.333198</td>\n",
       "                        <td id=\"T_89f4a_row3_col6\" class=\"data row3 col6\" >0.021855</td>\n",
       "                        <td id=\"T_89f4a_row3_col7\" class=\"data row3 col7\" >0.080266</td>\n",
       "                        <td id=\"T_89f4a_row3_col8\" class=\"data row3 col8\" >0.370313</td>\n",
       "                        <td id=\"T_89f4a_row3_col9\" class=\"data row3 col9\" >-0.317881</td>\n",
       "            </tr>\n",
       "            <tr>\n",
       "                        <th id=\"T_89f4a_level0_row4\" class=\"row_heading level0 row4\" >node-caps</th>\n",
       "                        <td id=\"T_89f4a_row4_col0\" class=\"data row4 col0\" >0.036850</td>\n",
       "                        <td id=\"T_89f4a_row4_col1\" class=\"data row4 col1\" >0.048569</td>\n",
       "                        <td id=\"T_89f4a_row4_col2\" class=\"data row4 col2\" >0.078192</td>\n",
       "                        <td id=\"T_89f4a_row4_col3\" class=\"data row4 col3\" >-0.632495</td>\n",
       "                        <td id=\"T_89f4a_row4_col4\" class=\"data row4 col4\" >1.000000</td>\n",
       "                        <td id=\"T_89f4a_row4_col5\" class=\"data row4 col5\" >-0.330181</td>\n",
       "                        <td id=\"T_89f4a_row4_col6\" class=\"data row4 col6\" >-0.012345</td>\n",
       "                        <td id=\"T_89f4a_row4_col7\" class=\"data row4 col7\" >-0.043770</td>\n",
       "                        <td id=\"T_89f4a_row4_col8\" class=\"data row4 col8\" >-0.333537</td>\n",
       "                        <td id=\"T_89f4a_row4_col9\" class=\"data row4 col9\" >0.289002</td>\n",
       "            </tr>\n",
       "            <tr>\n",
       "                        <th id=\"T_89f4a_level0_row5\" class=\"row_heading level0 row5\" >deg-malig</th>\n",
       "                        <td id=\"T_89f4a_row5_col0\" class=\"data row5 col0\" >-0.019273</td>\n",
       "                        <td id=\"T_89f4a_row5_col1\" class=\"data row5 col1\" >0.040020</td>\n",
       "                        <td id=\"T_89f4a_row5_col2\" class=\"data row5 col2\" >-0.103100</td>\n",
       "                        <td id=\"T_89f4a_row5_col3\" class=\"data row5 col3\" >0.333198</td>\n",
       "                        <td id=\"T_89f4a_row5_col4\" class=\"data row5 col4\" >-0.330181</td>\n",
       "                        <td id=\"T_89f4a_row5_col5\" class=\"data row5 col5\" >1.000000</td>\n",
       "                        <td id=\"T_89f4a_row5_col6\" class=\"data row5 col6\" >0.045874</td>\n",
       "                        <td id=\"T_89f4a_row5_col7\" class=\"data row5 col7\" >-0.040290</td>\n",
       "                        <td id=\"T_89f4a_row5_col8\" class=\"data row5 col8\" >0.230821</td>\n",
       "                        <td id=\"T_89f4a_row5_col9\" class=\"data row5 col9\" >-0.330253</td>\n",
       "            </tr>\n",
       "            <tr>\n",
       "                        <th id=\"T_89f4a_level0_row6\" class=\"row_heading level0 row6\" >breast</th>\n",
       "                        <td id=\"T_89f4a_row6_col0\" class=\"data row6 col0\" >0.073121</td>\n",
       "                        <td id=\"T_89f4a_row6_col1\" class=\"data row6 col1\" >0.059217</td>\n",
       "                        <td id=\"T_89f4a_row6_col2\" class=\"data row6 col2\" >-0.020722</td>\n",
       "                        <td id=\"T_89f4a_row6_col3\" class=\"data row6 col3\" >0.021855</td>\n",
       "                        <td id=\"T_89f4a_row6_col4\" class=\"data row6 col4\" >-0.012345</td>\n",
       "                        <td id=\"T_89f4a_row6_col5\" class=\"data row6 col5\" >0.045874</td>\n",
       "                        <td id=\"T_89f4a_row6_col6\" class=\"data row6 col6\" >1.000000</td>\n",
       "                        <td id=\"T_89f4a_row6_col7\" class=\"data row6 col7\" >0.168374</td>\n",
       "                        <td id=\"T_89f4a_row6_col8\" class=\"data row6 col8\" >-0.025230</td>\n",
       "                        <td id=\"T_89f4a_row6_col9\" class=\"data row6 col9\" >-0.041304</td>\n",
       "            </tr>\n",
       "            <tr>\n",
       "                        <th id=\"T_89f4a_level0_row7\" class=\"row_heading level0 row7\" >breast-quad</th>\n",
       "                        <td id=\"T_89f4a_row7_col0\" class=\"data row7 col0\" >-0.018384</td>\n",
       "                        <td id=\"T_89f4a_row7_col1\" class=\"data row7 col1\" >-0.092046</td>\n",
       "                        <td id=\"T_89f4a_row7_col2\" class=\"data row7 col2\" >-0.047194</td>\n",
       "                        <td id=\"T_89f4a_row7_col3\" class=\"data row7 col3\" >0.080266</td>\n",
       "                        <td id=\"T_89f4a_row7_col4\" class=\"data row7 col4\" >-0.043770</td>\n",
       "                        <td id=\"T_89f4a_row7_col5\" class=\"data row7 col5\" >-0.040290</td>\n",
       "                        <td id=\"T_89f4a_row7_col6\" class=\"data row7 col6\" >0.168374</td>\n",
       "                        <td id=\"T_89f4a_row7_col7\" class=\"data row7 col7\" >1.000000</td>\n",
       "                        <td id=\"T_89f4a_row7_col8\" class=\"data row7 col8\" >-0.006060</td>\n",
       "                        <td id=\"T_89f4a_row7_col9\" class=\"data row7 col9\" >-0.055458</td>\n",
       "            </tr>\n",
       "            <tr>\n",
       "                        <th id=\"T_89f4a_level0_row8\" class=\"row_heading level0 row8\" >irradiat</th>\n",
       "                        <td id=\"T_89f4a_row8_col0\" class=\"data row8 col0\" >-0.029499</td>\n",
       "                        <td id=\"T_89f4a_row8_col1\" class=\"data row8 col1\" >-0.093481</td>\n",
       "                        <td id=\"T_89f4a_row8_col2\" class=\"data row8 col2\" >0.005344</td>\n",
       "                        <td id=\"T_89f4a_row8_col3\" class=\"data row8 col3\" >0.370313</td>\n",
       "                        <td id=\"T_89f4a_row8_col4\" class=\"data row8 col4\" >-0.333537</td>\n",
       "                        <td id=\"T_89f4a_row8_col5\" class=\"data row8 col5\" >0.230821</td>\n",
       "                        <td id=\"T_89f4a_row8_col6\" class=\"data row8 col6\" >-0.025230</td>\n",
       "                        <td id=\"T_89f4a_row8_col7\" class=\"data row8 col7\" >-0.006060</td>\n",
       "                        <td id=\"T_89f4a_row8_col8\" class=\"data row8 col8\" >1.000000</td>\n",
       "                        <td id=\"T_89f4a_row8_col9\" class=\"data row8 col9\" >-0.226020</td>\n",
       "            </tr>\n",
       "            <tr>\n",
       "                        <th id=\"T_89f4a_level0_row9\" class=\"row_heading level0 row9\" >Class</th>\n",
       "                        <td id=\"T_89f4a_row9_col0\" class=\"data row9 col0\" >-0.023966</td>\n",
       "                        <td id=\"T_89f4a_row9_col1\" class=\"data row9 col1\" >0.087480</td>\n",
       "                        <td id=\"T_89f4a_row9_col2\" class=\"data row9 col2\" >0.079440</td>\n",
       "                        <td id=\"T_89f4a_row9_col3\" class=\"data row9 col3\" >-0.317881</td>\n",
       "                        <td id=\"T_89f4a_row9_col4\" class=\"data row9 col4\" >0.289002</td>\n",
       "                        <td id=\"T_89f4a_row9_col5\" class=\"data row9 col5\" >-0.330253</td>\n",
       "                        <td id=\"T_89f4a_row9_col6\" class=\"data row9 col6\" >-0.041304</td>\n",
       "                        <td id=\"T_89f4a_row9_col7\" class=\"data row9 col7\" >-0.055458</td>\n",
       "                        <td id=\"T_89f4a_row9_col8\" class=\"data row9 col8\" >-0.226020</td>\n",
       "                        <td id=\"T_89f4a_row9_col9\" class=\"data row9 col9\" >1.000000</td>\n",
       "            </tr>\n",
       "    </tbody></table>"
      ],
      "text/plain": [
       "<pandas.io.formats.style.Styler at 0x22d9f105640>"
      ]
     },
     "execution_count": 40,
     "metadata": {},
     "output_type": "execute_result"
    }
   ],
   "source": [
    "corrMat = df.corr()\n",
    "corrMat.style.background_gradient(cmap='coolwarm')"
   ]
  },
  {
   "cell_type": "markdown",
   "id": "satisfied-stock",
   "metadata": {},
   "source": [
    "By this results we can say that age and breast appear not to be correlated to much with the target class. So we will try to eliminate those features from the dataset and see if we could get any improvements in a later section."
   ]
  },
  {
   "cell_type": "code",
   "execution_count": 41,
   "id": "incorporated-server",
   "metadata": {},
   "outputs": [],
   "source": [
    "#Splitting the target class from the features\n",
    "df.head()\n",
    "Y = df['Class']\n",
    "X = df.iloc[:,:-1]"
   ]
  },
  {
   "cell_type": "markdown",
   "id": "stone-exclusion",
   "metadata": {},
   "source": [
    "Functions for reduction, permutation and splitting of the dataset"
   ]
  },
  {
   "cell_type": "code",
   "execution_count": 42,
   "id": "enormous-gauge",
   "metadata": {},
   "outputs": [],
   "source": [
    "#This function is used to eliminate some features from the dataset, in this case we eliminate breast, age andboth togheter.\n",
    "#Returning 3 different datasets\n",
    "def reducedDatasets (X,Y) :\n",
    "\n",
    "    #Datasets with feature reduction\n",
    "    X_breast = X[X.columns.difference(['age'])]\n",
    "    X_age = X[X.columns.difference(['breast'])]\n",
    "    X_breast_age = X[X.columns.difference(['age','breast'])]\n",
    "\n",
    "    \n",
    "    return X,X_breast,X_age,X_breast_age,Y\n",
    "\n",
    "#This function does a permutation on the dataset, is good to test multiple instances of datasets\n",
    "def permuteDataset(X,Y) :\n",
    "    m = X.shape[0]\n",
    "    permutation = np.random.permutation(m) # random permutation\n",
    "\n",
    "    X = X.iloc[permutation]\n",
    "    Y = Y.iloc[permutation]\n",
    "    return X,Y\n",
    "\n",
    "#This funcion is used to split the whole dataset between training and testing\n",
    "def splitDataset (X,Y,ratio) :\n",
    "    \n",
    "    #patterns in the test set\n",
    "    m = X.shape[0]\n",
    "    m_training = round(m*ratio)\n",
    "    m_test = m-m_training\n",
    "    X_training = []\n",
    "    Y_training = []\n",
    "    X_test = []\n",
    "    Y_test = []\n",
    "    #X_training = instances for training set\n",
    "    X_training = X[0:m_training] \n",
    "\n",
    "    #Y_training = labels for the training set\n",
    "    Y_training = Y[0:m_training]\n",
    "\n",
    "    #X_test = instances for test set\n",
    "    X_test = X[m_training-1:-1]\n",
    "\n",
    "    #Y_test = labels for the test set\n",
    "    Y_test = Y[m_training-1:-1]\n",
    "    \n",
    "    return X_training,Y_training,X_test,Y_test"
   ]
  },
  {
   "cell_type": "markdown",
   "id": "valid-diabetes",
   "metadata": {},
   "source": [
    "### Decision Tree implementation"
   ]
  },
  {
   "cell_type": "markdown",
   "id": "mineral-palestinian",
   "metadata": {},
   "source": [
    "We used the sklearn library for the implementation of the decision tree. The library makes the implementation very easy, we just need to define a   DecisionTreeClassifier object, than we fit the model on the training set selected, finally we can use the function score to compute the overall accuracy on the model."
   ]
  },
  {
   "cell_type": "code",
   "execution_count": 203,
   "id": "accessible-collect",
   "metadata": {},
   "outputs": [],
   "source": [
    "\n",
    "#without features reduction\n",
    "clf = tree.DecisionTreeClassifier()\n",
    "X_training,Y_training,X_test,Y_test = splitDataset(X,Y,0.8)\n",
    "clf = clf.fit(X_training, Y_training)\n"
   ]
  },
  {
   "cell_type": "code",
   "execution_count": 204,
   "id": "valued-farmer",
   "metadata": {},
   "outputs": [
    {
     "data": {
      "text/plain": [
       "'decisiontree.pdf'"
      ]
     },
     "execution_count": 204,
     "metadata": {},
     "output_type": "execute_result"
    }
   ],
   "source": [
    "dot_data = tree.export_graphviz(clf, out_file=None)\n",
    "graph = graphviz.Source(dot_data)\n",
    "graph.render(\"decisiontree\")"
   ]
  },
  {
   "cell_type": "markdown",
   "id": "sharp-flour",
   "metadata": {},
   "source": [
    "### Pruning analysis\n",
    "In this part we first compute all the \"usefull\" values of alpha, by selecting only the only ones that changes the structure of the decision tree. The alfa values roughly indicates the sensibility used while pruning the tree, and by  using the function *cost_complexity_pruning_pathcost_complexity_pruning_path* we compute a list of all the alpha values that makes sense to try, sicne each of them implyes a different pruning.\n",
    "Than we use each value of alpha to train a model, and for each one we  compute different scores to evaluate each model.\n",
    "We than plot all the scores and we look for the best \"overall\"  performing alpha (with particular focus on TP, given the case of use of the model)."
   ]
  },
  {
   "cell_type": "code",
   "execution_count": 220,
   "id": "signal-ranking",
   "metadata": {},
   "outputs": [
    {
     "data": {
      "text/plain": [
       "Text(0.5, 1.0, 'Total Impurity vs effective alpha for training set')"
      ]
     },
     "execution_count": 220,
     "metadata": {},
     "output_type": "execute_result"
    },
    {
     "data": {
      "image/png": "[encoded data removed]",
      "text/plain": [
       "<Figure size 432x288 with 1 Axes>"
      ]
     },
     "metadata": {
      "needs_background": "light"
     },
     "output_type": "display_data"
    }
   ],
   "source": [
    "# calculate and plot the cost complexity pruning path\n",
    "X,Y = permuteDataset(X,Y)\n",
    "X,X_b,X_a,X_ab,Y = reducedDatasets (X,Y)\n",
    "X_training,Y_training,X_test,Y_test = splitDataset(X,Y,0.8)\n",
    "\n",
    "path = clf.cost_complexity_pruning_path(X_training, Y_training)\n",
    "ccp_alphas, impurities = path.ccp_alphas, path.impurities\n",
    "fig, ax = plt.subplots()\n",
    "ax.plot(ccp_alphas[:-1], impurities[:-1], marker='o', drawstyle=\"steps-post\")\n",
    "ax.set_xlabel(\"effective alpha\")\n",
    "ax.set_ylabel(\"total impurity of leaves\")\n",
    "ax.set_title(\"Total Impurity vs effective alpha for training set\")"
   ]
  },
  {
   "cell_type": "code",
   "execution_count": 206,
   "id": "brave-pierre",
   "metadata": {},
   "outputs": [
    {
     "name": "stdout",
     "output_type": "stream",
     "text": [
      "Number of nodes in the last tree is: 1 with ccp_alpha: 0.05104348234978878\n"
     ]
    }
   ],
   "source": [
    "# fit the model with all alphas and save them into an array\n",
    "clfs = []\n",
    "for ccp_alpha in ccp_alphas:\n",
    "    clf = tree.DecisionTreeClassifier(random_state=0, ccp_alpha=ccp_alpha)\n",
    "    clf.fit(X_training, Y_training)\n",
    "    clfs.append(clf)\n",
    "print(\"Number of nodes in the last tree is: {} with ccp_alpha: {}\".format(clfs[-1].tree_.node_count, ccp_alphas[-1]))"
   ]
  },
  {
   "cell_type": "code",
   "execution_count": 207,
   "id": "significant-albert",
   "metadata": {},
   "outputs": [
    {
     "data": {
      "image/png": "[encoded data removed]",
      "text/plain": [
       "<Figure size 432x288 with 2 Axes>"
      ]
     },
     "metadata": {
      "needs_background": "light"
     },
     "output_type": "display_data"
    }
   ],
   "source": [
    "# plot the depth and node counts for the different alphas (excluding the last values with only one node)\n",
    "clfs = clfs[:-1]\n",
    "ccp_alphas = ccp_alphas[:-1]\n",
    "\n",
    "node_counts = [clf.tree_.node_count for clf in clfs]\n",
    "depth = [clf.tree_.max_depth for clf in clfs]\n",
    "fig, ax = plt.subplots(2, 1)\n",
    "ax[0].plot(ccp_alphas, node_counts, marker='o', drawstyle=\"steps-post\")\n",
    "ax[0].set_xlabel(\"alpha\")\n",
    "ax[0].set_ylabel(\"number of nodes\")\n",
    "ax[0].set_title(\"Number of nodes vs alpha\")\n",
    "ax[1].plot(ccp_alphas, depth, marker='o', drawstyle=\"steps-post\")\n",
    "ax[1].set_xlabel(\"alpha\")\n",
    "ax[1].set_ylabel(\"depth of tree\")\n",
    "ax[1].set_title(\"Depth vs alpha\")\n",
    "fig.tight_layout()"
   ]
  },
  {
   "cell_type": "code",
   "execution_count": 216,
   "id": "sublime-visitor",
   "metadata": {},
   "outputs": [
    {
     "data": {
      "image/png": "[encoded data removed]",
      "text/plain": [
       "<Figure size 432x288 with 1 Axes>"
      ]
     },
     "metadata": {
      "needs_background": "light"
     },
     "output_type": "display_data"
    }
   ],
   "source": [
    "# score the different alphas and plot the train- and testscores\n",
    "train_scores = [clf.score(X_training, Y_training) for clf in clfs]\n",
    "test_scores = [clf.score(X_test, Y_test) for clf in clfs]\n",
    "\n",
    "def calc_cm(clf, X, Y_true):\n",
    "    Y_pred = clf.predict(X)\n",
    "    return sk.metrics.confusion_matrix(Y_true, Y_pred, normalize='true')\n",
    "\n",
    "\n",
    "test_tp = [calc_cm(clf, X_test, Y_test)[0][0] for clf in clfs]\n",
    "test_tn = [calc_cm(clf, X_test, Y_test)[1][1] for clf in clfs]\n",
    "best_clf = clfs[test_tp.index(max(test_tp))]\n",
    "fig, ax = plt.subplots()\n",
    "ax.set_xlabel(\"alpha\")\n",
    "ax.set_ylabel(\"accuracy\")\n",
    "ax.set_title(\"Accuracy vs alpha for training and testing sets\")\n",
    "ax.plot(ccp_alphas, train_scores, marker='o', label=\"train\",\n",
    "        drawstyle=\"steps-post\")\n",
    "ax.plot(ccp_alphas, test_scores, marker='o', label=\"test\",\n",
    "        drawstyle=\"steps-post\")\n",
    "ax.plot(ccp_alphas, test_tp, marker='o', label=\"testtp\",\n",
    "        drawstyle=\"steps-post\")\n",
    "ax.plot(ccp_alphas, test_tn, marker='o', label=\"testtn\",\n",
    "        drawstyle=\"steps-post\")\n",
    "\n",
    "ax.legend()\n",
    "plt.show()"
   ]
  },
  {
   "cell_type": "markdown",
   "id": "early-video",
   "metadata": {},
   "source": [
    "After the results we have seen in the last graph, and considerng the fact that (at least ethically talking) is better to focus on a higher TP rate than a TN rate (in this scenario), we selected as our best model the one that achived the best TP rate, so the one with an alpha value in between 0.005 and 0.0075.\n",
    "Now we will print the decision tree for this specific model and also his ROC curve with the relative AUC."
   ]
  },
  {
   "cell_type": "markdown",
   "id": "cellular-woman",
   "metadata": {},
   "source": [
    "#### Decision Tree with the best model"
   ]
  },
  {
   "cell_type": "markdown",
   "id": "respected-insertion",
   "metadata": {},
   "source": [
    "Here we print the decision tree,  for ease of vsualization we also print the tree on a pdf file."
   ]
  },
  {
   "cell_type": "code",
   "execution_count": 231,
   "id": "needed-bedroom",
   "metadata": {},
   "outputs": [
    {
     "data": {
      "image/svg+xml": [
       "<?xml version=\"1.0\" encoding=\"UTF-8\" standalone=\"no\"?>\r\n",
       "<!DOCTYPE svg PUBLIC \"-//W3C//DTD SVG 1.1//EN\"\r\n",
       " \"http://www.w3.org/Graphics/SVG/1.1/DTD/svg11.dtd\">\r\n",
       "<!-- Generated by graphviz version 2.38.0 (20140413.2041)\r\n",
       " -->\r\n",
       "<!-- Title: Tree Pages: 1 -->\r\n",
       "<svg width=\"1624pt\" height=\"1309pt\"\r\n",
       " viewBox=\"0.00 0.00 1623.50 1309.00\" xmlns=\"http://www.w3.org/2000/svg\" xmlns:xlink=\"http://www.w3.org/1999/xlink\">\r\n",
       "<g id=\"graph0\" class=\"graph\" transform=\"scale(1 1) rotate(0) translate(4 1305)\">\r\n",
       "<title>Tree</title>\r\n",
       "<polygon fill=\"white\" stroke=\"none\" points=\"-4,4 -4,-1305 1619.5,-1305 1619.5,4 -4,4\"/>\r\n",
       "<!-- 0 -->\r\n",
       "<g id=\"node1\" class=\"node\"><title>0</title>\r\n",
       "<polygon fill=\"none\" stroke=\"black\" points=\"1061,-1301 950,-1301 950,-1233 1061,-1233 1061,-1301\"/>\r\n",
       "<text text-anchor=\"middle\" x=\"1005.5\" y=\"-1285.8\" font-family=\"Times New Roman,serif\" font-size=\"14.00\">X[3] &lt;= 0.5</text>\r\n",
       "<text text-anchor=\"middle\" x=\"1005.5\" y=\"-1270.8\" font-family=\"Times New Roman,serif\" font-size=\"14.00\">gini = 0.428</text>\r\n",
       "<text text-anchor=\"middle\" x=\"1005.5\" y=\"-1255.8\" font-family=\"Times New Roman,serif\" font-size=\"14.00\">samples = 222</text>\r\n",
       "<text text-anchor=\"middle\" x=\"1005.5\" y=\"-1240.8\" font-family=\"Times New Roman,serif\" font-size=\"14.00\">value = [69, 153]</text>\r\n",
       "</g>\r\n",
       "<!-- 1 -->\r\n",
       "<g id=\"node2\" class=\"node\"><title>1</title>\r\n",
       "<polygon fill=\"none\" stroke=\"black\" points=\"896,-1197 785,-1197 785,-1129 896,-1129 896,-1197\"/>\r\n",
       "<text text-anchor=\"middle\" x=\"840.5\" y=\"-1181.8\" font-family=\"Times New Roman,serif\" font-size=\"14.00\">X[5] &lt;= 2.5</text>\r\n",
       "<text text-anchor=\"middle\" x=\"840.5\" y=\"-1166.8\" font-family=\"Times New Roman,serif\" font-size=\"14.00\">gini = 0.343</text>\r\n",
       "<text text-anchor=\"middle\" x=\"840.5\" y=\"-1151.8\" font-family=\"Times New Roman,serif\" font-size=\"14.00\">samples = 168</text>\r\n",
       "<text text-anchor=\"middle\" x=\"840.5\" y=\"-1136.8\" font-family=\"Times New Roman,serif\" font-size=\"14.00\">value = [37, 131]</text>\r\n",
       "</g>\r\n",
       "<!-- 0&#45;&gt;1 -->\r\n",
       "<g id=\"edge1\" class=\"edge\"><title>0&#45;&gt;1</title>\r\n",
       "<path fill=\"none\" stroke=\"black\" d=\"M951.929,-1232.88C936.288,-1223.21 919.059,-1212.56 902.92,-1202.59\"/>\r\n",
       "<polygon fill=\"black\" stroke=\"black\" points=\"904.43,-1199.41 894.084,-1197.12 900.75,-1205.36 904.43,-1199.41\"/>\r\n",
       "<text text-anchor=\"middle\" x=\"899.825\" y=\"-1217.76\" font-family=\"Times New Roman,serif\" font-size=\"14.00\">True</text>\r\n",
       "</g>\r\n",
       "<!-- 38 -->\r\n",
       "<g id=\"node39\" class=\"node\"><title>38</title>\r\n",
       "<polygon fill=\"none\" stroke=\"black\" points=\"1225.5,-1197 1121.5,-1197 1121.5,-1129 1225.5,-1129 1225.5,-1197\"/>\r\n",
       "<text text-anchor=\"middle\" x=\"1173.5\" y=\"-1181.8\" font-family=\"Times New Roman,serif\" font-size=\"14.00\">X[5] &lt;= 2.5</text>\r\n",
       "<text text-anchor=\"middle\" x=\"1173.5\" y=\"-1166.8\" font-family=\"Times New Roman,serif\" font-size=\"14.00\">gini = 0.483</text>\r\n",
       "<text text-anchor=\"middle\" x=\"1173.5\" y=\"-1151.8\" font-family=\"Times New Roman,serif\" font-size=\"14.00\">samples = 54</text>\r\n",
       "<text text-anchor=\"middle\" x=\"1173.5\" y=\"-1136.8\" font-family=\"Times New Roman,serif\" font-size=\"14.00\">value = [32, 22]</text>\r\n",
       "</g>\r\n",
       "<!-- 0&#45;&gt;38 -->\r\n",
       "<g id=\"edge38\" class=\"edge\"><title>0&#45;&gt;38</title>\r\n",
       "<path fill=\"none\" stroke=\"black\" d=\"M1060.04,-1232.88C1076.77,-1222.73 1095.28,-1211.49 1112.41,-1201.09\"/>\r\n",
       "<polygon fill=\"black\" stroke=\"black\" points=\"1114.5,-1203.92 1121.23,-1195.74 1110.87,-1197.93 1114.5,-1203.92\"/>\r\n",
       "<text text-anchor=\"middle\" x=\"1115.29\" y=\"-1216.32\" font-family=\"Times New Roman,serif\" font-size=\"14.00\">False</text>\r\n",
       "</g>\r\n",
       "<!-- 2 -->\r\n",
       "<g id=\"node3\" class=\"node\"><title>2</title>\r\n",
       "<polygon fill=\"none\" stroke=\"black\" points=\"717,-1093 606,-1093 606,-1025 717,-1025 717,-1093\"/>\r\n",
       "<text text-anchor=\"middle\" x=\"661.5\" y=\"-1077.8\" font-family=\"Times New Roman,serif\" font-size=\"14.00\">X[7] &lt;= 3.5</text>\r\n",
       "<text text-anchor=\"middle\" x=\"661.5\" y=\"-1062.8\" font-family=\"Times New Roman,serif\" font-size=\"14.00\">gini = 0.285</text>\r\n",
       "<text text-anchor=\"middle\" x=\"661.5\" y=\"-1047.8\" font-family=\"Times New Roman,serif\" font-size=\"14.00\">samples = 128</text>\r\n",
       "<text text-anchor=\"middle\" x=\"661.5\" y=\"-1032.8\" font-family=\"Times New Roman,serif\" font-size=\"14.00\">value = [22, 106]</text>\r\n",
       "</g>\r\n",
       "<!-- 1&#45;&gt;2 -->\r\n",
       "<g id=\"edge2\" class=\"edge\"><title>1&#45;&gt;2</title>\r\n",
       "<path fill=\"none\" stroke=\"black\" d=\"M784.844,-1130.29C766.155,-1119.64 745.156,-1107.67 725.855,-1096.67\"/>\r\n",
       "<polygon fill=\"black\" stroke=\"black\" points=\"727.542,-1093.6 717.121,-1091.69 724.077,-1099.69 727.542,-1093.6\"/>\r\n",
       "</g>\r\n",
       "<!-- 31 -->\r\n",
       "<g id=\"node32\" class=\"node\"><title>31</title>\r\n",
       "<polygon fill=\"none\" stroke=\"black\" points=\"892.5,-1093 788.5,-1093 788.5,-1025 892.5,-1025 892.5,-1093\"/>\r\n",
       "<text text-anchor=\"middle\" x=\"840.5\" y=\"-1077.8\" font-family=\"Times New Roman,serif\" font-size=\"14.00\">X[1] &lt;= 0.5</text>\r\n",
       "<text text-anchor=\"middle\" x=\"840.5\" y=\"-1062.8\" font-family=\"Times New Roman,serif\" font-size=\"14.00\">gini = 0.469</text>\r\n",
       "<text text-anchor=\"middle\" x=\"840.5\" y=\"-1047.8\" font-family=\"Times New Roman,serif\" font-size=\"14.00\">samples = 40</text>\r\n",
       "<text text-anchor=\"middle\" x=\"840.5\" y=\"-1032.8\" font-family=\"Times New Roman,serif\" font-size=\"14.00\">value = [15, 25]</text>\r\n",
       "</g>\r\n",
       "<!-- 1&#45;&gt;31 -->\r\n",
       "<g id=\"edge31\" class=\"edge\"><title>1&#45;&gt;31</title>\r\n",
       "<path fill=\"none\" stroke=\"black\" d=\"M840.5,-1128.88C840.5,-1120.78 840.5,-1111.98 840.5,-1103.47\"/>\r\n",
       "<polygon fill=\"black\" stroke=\"black\" points=\"844,-1103.3 840.5,-1093.3 837,-1103.3 844,-1103.3\"/>\r\n",
       "</g>\r\n",
       "<!-- 3 -->\r\n",
       "<g id=\"node4\" class=\"node\"><title>3</title>\r\n",
       "<polygon fill=\"none\" stroke=\"black\" points=\"594.5,-989 490.5,-989 490.5,-921 594.5,-921 594.5,-989\"/>\r\n",
       "<text text-anchor=\"middle\" x=\"542.5\" y=\"-973.8\" font-family=\"Times New Roman,serif\" font-size=\"14.00\">X[1] &lt;= 0.5</text>\r\n",
       "<text text-anchor=\"middle\" x=\"542.5\" y=\"-958.8\" font-family=\"Times New Roman,serif\" font-size=\"14.00\">gini = 0.305</text>\r\n",
       "<text text-anchor=\"middle\" x=\"542.5\" y=\"-943.8\" font-family=\"Times New Roman,serif\" font-size=\"14.00\">samples = 117</text>\r\n",
       "<text text-anchor=\"middle\" x=\"542.5\" y=\"-928.8\" font-family=\"Times New Roman,serif\" font-size=\"14.00\">value = [22, 95]</text>\r\n",
       "</g>\r\n",
       "<!-- 2&#45;&gt;3 -->\r\n",
       "<g id=\"edge3\" class=\"edge\"><title>2&#45;&gt;3</title>\r\n",
       "<path fill=\"none\" stroke=\"black\" d=\"M622.864,-1024.88C612.056,-1015.62 600.197,-1005.45 588.986,-995.845\"/>\r\n",
       "<polygon fill=\"black\" stroke=\"black\" points=\"591.22,-993.15 581.349,-989.299 586.664,-998.465 591.22,-993.15\"/>\r\n",
       "</g>\r\n",
       "<!-- 30 -->\r\n",
       "<g id=\"node31\" class=\"node\"><title>30</title>\r\n",
       "<polygon fill=\"none\" stroke=\"black\" points=\"710.5,-981.5 612.5,-981.5 612.5,-928.5 710.5,-928.5 710.5,-981.5\"/>\r\n",
       "<text text-anchor=\"middle\" x=\"661.5\" y=\"-966.3\" font-family=\"Times New Roman,serif\" font-size=\"14.00\">gini = 0.0</text>\r\n",
       "<text text-anchor=\"middle\" x=\"661.5\" y=\"-951.3\" font-family=\"Times New Roman,serif\" font-size=\"14.00\">samples = 11</text>\r\n",
       "<text text-anchor=\"middle\" x=\"661.5\" y=\"-936.3\" font-family=\"Times New Roman,serif\" font-size=\"14.00\">value = [0, 11]</text>\r\n",
       "</g>\r\n",
       "<!-- 2&#45;&gt;30 -->\r\n",
       "<g id=\"edge30\" class=\"edge\"><title>2&#45;&gt;30</title>\r\n",
       "<path fill=\"none\" stroke=\"black\" d=\"M661.5,-1024.88C661.5,-1014.33 661.5,-1002.6 661.5,-991.854\"/>\r\n",
       "<polygon fill=\"black\" stroke=\"black\" points=\"665,-991.52 661.5,-981.52 658,-991.52 665,-991.52\"/>\r\n",
       "</g>\r\n",
       "<!-- 4 -->\r\n",
       "<g id=\"node5\" class=\"node\"><title>4</title>\r\n",
       "<polygon fill=\"none\" stroke=\"black\" points=\"484.5,-885 380.5,-885 380.5,-817 484.5,-817 484.5,-885\"/>\r\n",
       "<text text-anchor=\"middle\" x=\"432.5\" y=\"-869.8\" font-family=\"Times New Roman,serif\" font-size=\"14.00\">X[2] &lt;= 4.5</text>\r\n",
       "<text text-anchor=\"middle\" x=\"432.5\" y=\"-854.8\" font-family=\"Times New Roman,serif\" font-size=\"14.00\">gini = 0.367</text>\r\n",
       "<text text-anchor=\"middle\" x=\"432.5\" y=\"-839.8\" font-family=\"Times New Roman,serif\" font-size=\"14.00\">samples = 62</text>\r\n",
       "<text text-anchor=\"middle\" x=\"432.5\" y=\"-824.8\" font-family=\"Times New Roman,serif\" font-size=\"14.00\">value = [15, 47]</text>\r\n",
       "</g>\r\n",
       "<!-- 3&#45;&gt;4 -->\r\n",
       "<g id=\"edge4\" class=\"edge\"><title>3&#45;&gt;4</title>\r\n",
       "<path fill=\"none\" stroke=\"black\" d=\"M506.786,-920.884C496.892,-911.709 486.044,-901.65 475.77,-892.123\"/>\r\n",
       "<polygon fill=\"black\" stroke=\"black\" points=\"478.124,-889.532 468.411,-885.299 473.364,-894.665 478.124,-889.532\"/>\r\n",
       "</g>\r\n",
       "<!-- 27 -->\r\n",
       "<g id=\"node28\" class=\"node\"><title>27</title>\r\n",
       "<polygon fill=\"none\" stroke=\"black\" points=\"600.5,-885 502.5,-885 502.5,-817 600.5,-817 600.5,-885\"/>\r\n",
       "<text text-anchor=\"middle\" x=\"551.5\" y=\"-869.8\" font-family=\"Times New Roman,serif\" font-size=\"14.00\">X[0] &lt;= 0.5</text>\r\n",
       "<text text-anchor=\"middle\" x=\"551.5\" y=\"-854.8\" font-family=\"Times New Roman,serif\" font-size=\"14.00\">gini = 0.222</text>\r\n",
       "<text text-anchor=\"middle\" x=\"551.5\" y=\"-839.8\" font-family=\"Times New Roman,serif\" font-size=\"14.00\">samples = 55</text>\r\n",
       "<text text-anchor=\"middle\" x=\"551.5\" y=\"-824.8\" font-family=\"Times New Roman,serif\" font-size=\"14.00\">value = [7, 48]</text>\r\n",
       "</g>\r\n",
       "<!-- 3&#45;&gt;27 -->\r\n",
       "<g id=\"edge27\" class=\"edge\"><title>3&#45;&gt;27</title>\r\n",
       "<path fill=\"none\" stroke=\"black\" d=\"M545.422,-920.884C546.137,-912.778 546.913,-903.982 547.664,-895.472\"/>\r\n",
       "<polygon fill=\"black\" stroke=\"black\" points=\"551.169,-895.568 548.562,-885.299 544.196,-894.953 551.169,-895.568\"/>\r\n",
       "</g>\r\n",
       "<!-- 5 -->\r\n",
       "<g id=\"node6\" class=\"node\"><title>5</title>\r\n",
       "<polygon fill=\"none\" stroke=\"black\" points=\"368.5,-781 264.5,-781 264.5,-713 368.5,-713 368.5,-781\"/>\r\n",
       "<text text-anchor=\"middle\" x=\"316.5\" y=\"-765.8\" font-family=\"Times New Roman,serif\" font-size=\"14.00\">X[7] &lt;= 0.5</text>\r\n",
       "<text text-anchor=\"middle\" x=\"316.5\" y=\"-750.8\" font-family=\"Times New Roman,serif\" font-size=\"14.00\">gini = 0.427</text>\r\n",
       "<text text-anchor=\"middle\" x=\"316.5\" y=\"-735.8\" font-family=\"Times New Roman,serif\" font-size=\"14.00\">samples = 42</text>\r\n",
       "<text text-anchor=\"middle\" x=\"316.5\" y=\"-720.8\" font-family=\"Times New Roman,serif\" font-size=\"14.00\">value = [13, 29]</text>\r\n",
       "</g>\r\n",
       "<!-- 4&#45;&gt;5 -->\r\n",
       "<g id=\"edge5\" class=\"edge\"><title>4&#45;&gt;5</title>\r\n",
       "<path fill=\"none\" stroke=\"black\" d=\"M394.838,-816.884C384.404,-807.709 372.965,-797.65 362.13,-788.123\"/>\r\n",
       "<polygon fill=\"black\" stroke=\"black\" points=\"364.191,-785.274 354.37,-781.299 359.568,-790.531 364.191,-785.274\"/>\r\n",
       "</g>\r\n",
       "<!-- 26 -->\r\n",
       "<g id=\"node27\" class=\"node\"><title>26</title>\r\n",
       "<polygon fill=\"none\" stroke=\"black\" points=\"484.5,-773.5 386.5,-773.5 386.5,-720.5 484.5,-720.5 484.5,-773.5\"/>\r\n",
       "<text text-anchor=\"middle\" x=\"435.5\" y=\"-758.3\" font-family=\"Times New Roman,serif\" font-size=\"14.00\">gini = 0.18</text>\r\n",
       "<text text-anchor=\"middle\" x=\"435.5\" y=\"-743.3\" font-family=\"Times New Roman,serif\" font-size=\"14.00\">samples = 20</text>\r\n",
       "<text text-anchor=\"middle\" x=\"435.5\" y=\"-728.3\" font-family=\"Times New Roman,serif\" font-size=\"14.00\">value = [2, 18]</text>\r\n",
       "</g>\r\n",
       "<!-- 4&#45;&gt;26 -->\r\n",
       "<g id=\"edge26\" class=\"edge\"><title>4&#45;&gt;26</title>\r\n",
       "<path fill=\"none\" stroke=\"black\" d=\"M433.474,-816.884C433.788,-806.216 434.137,-794.352 434.455,-783.519\"/>\r\n",
       "<polygon fill=\"black\" stroke=\"black\" points=\"437.954,-783.619 434.749,-773.52 430.957,-783.413 437.954,-783.619\"/>\r\n",
       "</g>\r\n",
       "<!-- 6 -->\r\n",
       "<g id=\"node7\" class=\"node\"><title>6</title>\r\n",
       "<polygon fill=\"none\" stroke=\"black\" points=\"306,-677 215,-677 215,-609 306,-609 306,-677\"/>\r\n",
       "<text text-anchor=\"middle\" x=\"260.5\" y=\"-661.8\" font-family=\"Times New Roman,serif\" font-size=\"14.00\">X[0] &lt;= 2.0</text>\r\n",
       "<text text-anchor=\"middle\" x=\"260.5\" y=\"-646.8\" font-family=\"Times New Roman,serif\" font-size=\"14.00\">gini = 0.49</text>\r\n",
       "<text text-anchor=\"middle\" x=\"260.5\" y=\"-631.8\" font-family=\"Times New Roman,serif\" font-size=\"14.00\">samples = 14</text>\r\n",
       "<text text-anchor=\"middle\" x=\"260.5\" y=\"-616.8\" font-family=\"Times New Roman,serif\" font-size=\"14.00\">value = [6, 8]</text>\r\n",
       "</g>\r\n",
       "<!-- 5&#45;&gt;6 -->\r\n",
       "<g id=\"edge6\" class=\"edge\"><title>5&#45;&gt;6</title>\r\n",
       "<path fill=\"none\" stroke=\"black\" d=\"M298.318,-712.884C293.624,-704.332 288.507,-695.013 283.598,-686.072\"/>\r\n",
       "<polygon fill=\"black\" stroke=\"black\" points=\"286.663,-684.381 278.782,-677.299 280.527,-687.75 286.663,-684.381\"/>\r\n",
       "</g>\r\n",
       "<!-- 13 -->\r\n",
       "<g id=\"node14\" class=\"node\"><title>13</title>\r\n",
       "<polygon fill=\"none\" stroke=\"black\" points=\"422.5,-677 324.5,-677 324.5,-609 422.5,-609 422.5,-677\"/>\r\n",
       "<text text-anchor=\"middle\" x=\"373.5\" y=\"-661.8\" font-family=\"Times New Roman,serif\" font-size=\"14.00\">X[0] &lt;= 2.0</text>\r\n",
       "<text text-anchor=\"middle\" x=\"373.5\" y=\"-646.8\" font-family=\"Times New Roman,serif\" font-size=\"14.00\">gini = 0.375</text>\r\n",
       "<text text-anchor=\"middle\" x=\"373.5\" y=\"-631.8\" font-family=\"Times New Roman,serif\" font-size=\"14.00\">samples = 28</text>\r\n",
       "<text text-anchor=\"middle\" x=\"373.5\" y=\"-616.8\" font-family=\"Times New Roman,serif\" font-size=\"14.00\">value = [7, 21]</text>\r\n",
       "</g>\r\n",
       "<!-- 5&#45;&gt;13 -->\r\n",
       "<g id=\"edge13\" class=\"edge\"><title>5&#45;&gt;13</title>\r\n",
       "<path fill=\"none\" stroke=\"black\" d=\"M335.006,-712.884C339.785,-704.332 344.993,-695.013 349.989,-686.072\"/>\r\n",
       "<polygon fill=\"black\" stroke=\"black\" points=\"353.069,-687.736 354.892,-677.299 346.958,-684.321 353.069,-687.736\"/>\r\n",
       "</g>\r\n",
       "<!-- 7 -->\r\n",
       "<g id=\"node8\" class=\"node\"><title>7</title>\r\n",
       "<polygon fill=\"none\" stroke=\"black\" points=\"197,-573 106,-573 106,-505 197,-505 197,-573\"/>\r\n",
       "<text text-anchor=\"middle\" x=\"151.5\" y=\"-557.8\" font-family=\"Times New Roman,serif\" font-size=\"14.00\">X[2] &lt;= 1.5</text>\r\n",
       "<text text-anchor=\"middle\" x=\"151.5\" y=\"-542.8\" font-family=\"Times New Roman,serif\" font-size=\"14.00\">gini = 0.42</text>\r\n",
       "<text text-anchor=\"middle\" x=\"151.5\" y=\"-527.8\" font-family=\"Times New Roman,serif\" font-size=\"14.00\">samples = 10</text>\r\n",
       "<text text-anchor=\"middle\" x=\"151.5\" y=\"-512.8\" font-family=\"Times New Roman,serif\" font-size=\"14.00\">value = [3, 7]</text>\r\n",
       "</g>\r\n",
       "<!-- 6&#45;&gt;7 -->\r\n",
       "<g id=\"edge7\" class=\"edge\"><title>6&#45;&gt;7</title>\r\n",
       "<path fill=\"none\" stroke=\"black\" d=\"M225.111,-608.884C215.402,-599.798 204.766,-589.845 194.673,-580.4\"/>\r\n",
       "<polygon fill=\"black\" stroke=\"black\" points=\"196.778,-577.577 187.085,-573.299 191.995,-582.688 196.778,-577.577\"/>\r\n",
       "</g>\r\n",
       "<!-- 12 -->\r\n",
       "<g id=\"node13\" class=\"node\"><title>12</title>\r\n",
       "<polygon fill=\"none\" stroke=\"black\" points=\"306,-565.5 215,-565.5 215,-512.5 306,-512.5 306,-565.5\"/>\r\n",
       "<text text-anchor=\"middle\" x=\"260.5\" y=\"-550.3\" font-family=\"Times New Roman,serif\" font-size=\"14.00\">gini = 0.375</text>\r\n",
       "<text text-anchor=\"middle\" x=\"260.5\" y=\"-535.3\" font-family=\"Times New Roman,serif\" font-size=\"14.00\">samples = 4</text>\r\n",
       "<text text-anchor=\"middle\" x=\"260.5\" y=\"-520.3\" font-family=\"Times New Roman,serif\" font-size=\"14.00\">value = [3, 1]</text>\r\n",
       "</g>\r\n",
       "<!-- 6&#45;&gt;12 -->\r\n",
       "<g id=\"edge12\" class=\"edge\"><title>6&#45;&gt;12</title>\r\n",
       "<path fill=\"none\" stroke=\"black\" d=\"M260.5,-608.884C260.5,-598.326 260.5,-586.597 260.5,-575.854\"/>\r\n",
       "<polygon fill=\"black\" stroke=\"black\" points=\"264,-575.52 260.5,-565.52 257,-575.52 264,-575.52\"/>\r\n",
       "</g>\r\n",
       "<!-- 8 -->\r\n",
       "<g id=\"node9\" class=\"node\"><title>8</title>\r\n",
       "<polygon fill=\"none\" stroke=\"black\" points=\"145,-469 54,-469 54,-401 145,-401 145,-469\"/>\r\n",
       "<text text-anchor=\"middle\" x=\"99.5\" y=\"-453.8\" font-family=\"Times New Roman,serif\" font-size=\"14.00\">X[0] &lt;= 0.5</text>\r\n",
       "<text text-anchor=\"middle\" x=\"99.5\" y=\"-438.8\" font-family=\"Times New Roman,serif\" font-size=\"14.00\">gini = 0.444</text>\r\n",
       "<text text-anchor=\"middle\" x=\"99.5\" y=\"-423.8\" font-family=\"Times New Roman,serif\" font-size=\"14.00\">samples = 3</text>\r\n",
       "<text text-anchor=\"middle\" x=\"99.5\" y=\"-408.8\" font-family=\"Times New Roman,serif\" font-size=\"14.00\">value = [2, 1]</text>\r\n",
       "</g>\r\n",
       "<!-- 7&#45;&gt;8 -->\r\n",
       "<g id=\"edge8\" class=\"edge\"><title>7&#45;&gt;8</title>\r\n",
       "<path fill=\"none\" stroke=\"black\" d=\"M134.617,-504.884C130.303,-496.422 125.606,-487.207 121.091,-478.352\"/>\r\n",
       "<polygon fill=\"black\" stroke=\"black\" points=\"124.136,-476.619 116.476,-469.299 117.9,-479.798 124.136,-476.619\"/>\r\n",
       "</g>\r\n",
       "<!-- 11 -->\r\n",
       "<g id=\"node12\" class=\"node\"><title>11</title>\r\n",
       "<polygon fill=\"none\" stroke=\"black\" points=\"254,-461.5 163,-461.5 163,-408.5 254,-408.5 254,-461.5\"/>\r\n",
       "<text text-anchor=\"middle\" x=\"208.5\" y=\"-446.3\" font-family=\"Times New Roman,serif\" font-size=\"14.00\">gini = 0.245</text>\r\n",
       "<text text-anchor=\"middle\" x=\"208.5\" y=\"-431.3\" font-family=\"Times New Roman,serif\" font-size=\"14.00\">samples = 7</text>\r\n",
       "<text text-anchor=\"middle\" x=\"208.5\" y=\"-416.3\" font-family=\"Times New Roman,serif\" font-size=\"14.00\">value = [1, 6]</text>\r\n",
       "</g>\r\n",
       "<!-- 7&#45;&gt;11 -->\r\n",
       "<g id=\"edge11\" class=\"edge\"><title>7&#45;&gt;11</title>\r\n",
       "<path fill=\"none\" stroke=\"black\" d=\"M170.006,-504.884C176.152,-493.886 183.008,-481.617 189.211,-470.517\"/>\r\n",
       "<polygon fill=\"black\" stroke=\"black\" points=\"192.416,-471.957 194.239,-461.52 186.305,-468.542 192.416,-471.957\"/>\r\n",
       "</g>\r\n",
       "<!-- 9 -->\r\n",
       "<g id=\"node10\" class=\"node\"><title>9</title>\r\n",
       "<polygon fill=\"none\" stroke=\"black\" points=\"91,-357.5 0,-357.5 0,-304.5 91,-304.5 91,-357.5\"/>\r\n",
       "<text text-anchor=\"middle\" x=\"45.5\" y=\"-342.3\" font-family=\"Times New Roman,serif\" font-size=\"14.00\">gini = 0.0</text>\r\n",
       "<text text-anchor=\"middle\" x=\"45.5\" y=\"-327.3\" font-family=\"Times New Roman,serif\" font-size=\"14.00\">samples = 2</text>\r\n",
       "<text text-anchor=\"middle\" x=\"45.5\" y=\"-312.3\" font-family=\"Times New Roman,serif\" font-size=\"14.00\">value = [2, 0]</text>\r\n",
       "</g>\r\n",
       "<!-- 8&#45;&gt;9 -->\r\n",
       "<g id=\"edge9\" class=\"edge\"><title>8&#45;&gt;9</title>\r\n",
       "<path fill=\"none\" stroke=\"black\" d=\"M81.9677,-400.884C76.1453,-389.886 69.6504,-377.617 63.7735,-366.517\"/>\r\n",
       "<polygon fill=\"black\" stroke=\"black\" points=\"66.7827,-364.72 59.0106,-357.52 60.5962,-367.995 66.7827,-364.72\"/>\r\n",
       "</g>\r\n",
       "<!-- 10 -->\r\n",
       "<g id=\"node11\" class=\"node\"><title>10</title>\r\n",
       "<polygon fill=\"none\" stroke=\"black\" points=\"200,-357.5 109,-357.5 109,-304.5 200,-304.5 200,-357.5\"/>\r\n",
       "<text text-anchor=\"middle\" x=\"154.5\" y=\"-342.3\" font-family=\"Times New Roman,serif\" font-size=\"14.00\">gini = 0.0</text>\r\n",
       "<text text-anchor=\"middle\" x=\"154.5\" y=\"-327.3\" font-family=\"Times New Roman,serif\" font-size=\"14.00\">samples = 1</text>\r\n",
       "<text text-anchor=\"middle\" x=\"154.5\" y=\"-312.3\" font-family=\"Times New Roman,serif\" font-size=\"14.00\">value = [0, 1]</text>\r\n",
       "</g>\r\n",
       "<!-- 8&#45;&gt;10 -->\r\n",
       "<g id=\"edge10\" class=\"edge\"><title>8&#45;&gt;10</title>\r\n",
       "<path fill=\"none\" stroke=\"black\" d=\"M117.357,-400.884C123.287,-389.886 129.902,-377.617 135.888,-366.517\"/>\r\n",
       "<polygon fill=\"black\" stroke=\"black\" points=\"139.074,-367.983 140.739,-357.52 132.912,-364.661 139.074,-367.983\"/>\r\n",
       "</g>\r\n",
       "<!-- 14 -->\r\n",
       "<g id=\"node15\" class=\"node\"><title>14</title>\r\n",
       "<polygon fill=\"none\" stroke=\"black\" points=\"422.5,-573 324.5,-573 324.5,-505 422.5,-505 422.5,-573\"/>\r\n",
       "<text text-anchor=\"middle\" x=\"373.5\" y=\"-557.8\" font-family=\"Times New Roman,serif\" font-size=\"14.00\">X[2] &lt;= 1.5</text>\r\n",
       "<text text-anchor=\"middle\" x=\"373.5\" y=\"-542.8\" font-family=\"Times New Roman,serif\" font-size=\"14.00\">gini = 0.455</text>\r\n",
       "<text text-anchor=\"middle\" x=\"373.5\" y=\"-527.8\" font-family=\"Times New Roman,serif\" font-size=\"14.00\">samples = 20</text>\r\n",
       "<text text-anchor=\"middle\" x=\"373.5\" y=\"-512.8\" font-family=\"Times New Roman,serif\" font-size=\"14.00\">value = [7, 13]</text>\r\n",
       "</g>\r\n",
       "<!-- 13&#45;&gt;14 -->\r\n",
       "<g id=\"edge14\" class=\"edge\"><title>13&#45;&gt;14</title>\r\n",
       "<path fill=\"none\" stroke=\"black\" d=\"M373.5,-608.884C373.5,-600.778 373.5,-591.982 373.5,-583.472\"/>\r\n",
       "<polygon fill=\"black\" stroke=\"black\" points=\"377,-583.299 373.5,-573.299 370,-583.299 377,-583.299\"/>\r\n",
       "</g>\r\n",
       "<!-- 25 -->\r\n",
       "<g id=\"node26\" class=\"node\"><title>25</title>\r\n",
       "<polygon fill=\"none\" stroke=\"black\" points=\"532,-565.5 441,-565.5 441,-512.5 532,-512.5 532,-565.5\"/>\r\n",
       "<text text-anchor=\"middle\" x=\"486.5\" y=\"-550.3\" font-family=\"Times New Roman,serif\" font-size=\"14.00\">gini = 0.0</text>\r\n",
       "<text text-anchor=\"middle\" x=\"486.5\" y=\"-535.3\" font-family=\"Times New Roman,serif\" font-size=\"14.00\">samples = 8</text>\r\n",
       "<text text-anchor=\"middle\" x=\"486.5\" y=\"-520.3\" font-family=\"Times New Roman,serif\" font-size=\"14.00\">value = [0, 8]</text>\r\n",
       "</g>\r\n",
       "<!-- 13&#45;&gt;25 -->\r\n",
       "<g id=\"edge25\" class=\"edge\"><title>13&#45;&gt;25</title>\r\n",
       "<path fill=\"none\" stroke=\"black\" d=\"M410.188,-608.884C423.103,-597.226 437.599,-584.141 450.46,-572.532\"/>\r\n",
       "<polygon fill=\"black\" stroke=\"black\" points=\"453.15,-574.819 458.228,-565.52 448.46,-569.622 453.15,-574.819\"/>\r\n",
       "</g>\r\n",
       "<!-- 15 -->\r\n",
       "<g id=\"node16\" class=\"node\"><title>15</title>\r\n",
       "<polygon fill=\"none\" stroke=\"black\" points=\"363,-461.5 272,-461.5 272,-408.5 363,-408.5 363,-461.5\"/>\r\n",
       "<text text-anchor=\"middle\" x=\"317.5\" y=\"-446.3\" font-family=\"Times New Roman,serif\" font-size=\"14.00\">gini = 0.0</text>\r\n",
       "<text text-anchor=\"middle\" x=\"317.5\" y=\"-431.3\" font-family=\"Times New Roman,serif\" font-size=\"14.00\">samples = 4</text>\r\n",
       "<text text-anchor=\"middle\" x=\"317.5\" y=\"-416.3\" font-family=\"Times New Roman,serif\" font-size=\"14.00\">value = [0, 4]</text>\r\n",
       "</g>\r\n",
       "<!-- 14&#45;&gt;15 -->\r\n",
       "<g id=\"edge15\" class=\"edge\"><title>14&#45;&gt;15</title>\r\n",
       "<path fill=\"none\" stroke=\"black\" d=\"M355.318,-504.884C349.28,-493.886 342.545,-481.617 336.45,-470.517\"/>\r\n",
       "<polygon fill=\"black\" stroke=\"black\" points=\"339.392,-468.601 331.511,-461.52 333.256,-471.97 339.392,-468.601\"/>\r\n",
       "</g>\r\n",
       "<!-- 16 -->\r\n",
       "<g id=\"node17\" class=\"node\"><title>16</title>\r\n",
       "<polygon fill=\"none\" stroke=\"black\" points=\"472,-469 381,-469 381,-401 472,-401 472,-469\"/>\r\n",
       "<text text-anchor=\"middle\" x=\"426.5\" y=\"-453.8\" font-family=\"Times New Roman,serif\" font-size=\"14.00\">X[6] &lt;= 0.5</text>\r\n",
       "<text text-anchor=\"middle\" x=\"426.5\" y=\"-438.8\" font-family=\"Times New Roman,serif\" font-size=\"14.00\">gini = 0.492</text>\r\n",
       "<text text-anchor=\"middle\" x=\"426.5\" y=\"-423.8\" font-family=\"Times New Roman,serif\" font-size=\"14.00\">samples = 16</text>\r\n",
       "<text text-anchor=\"middle\" x=\"426.5\" y=\"-408.8\" font-family=\"Times New Roman,serif\" font-size=\"14.00\">value = [7, 9]</text>\r\n",
       "</g>\r\n",
       "<!-- 14&#45;&gt;16 -->\r\n",
       "<g id=\"edge16\" class=\"edge\"><title>14&#45;&gt;16</title>\r\n",
       "<path fill=\"none\" stroke=\"black\" d=\"M390.708,-504.884C395.105,-496.422 399.892,-487.207 404.494,-478.352\"/>\r\n",
       "<polygon fill=\"black\" stroke=\"black\" points=\"407.692,-479.787 409.197,-469.299 401.481,-476.559 407.692,-479.787\"/>\r\n",
       "</g>\r\n",
       "<!-- 17 -->\r\n",
       "<g id=\"node18\" class=\"node\"><title>17</title>\r\n",
       "<polygon fill=\"none\" stroke=\"black\" points=\"363,-357.5 272,-357.5 272,-304.5 363,-304.5 363,-357.5\"/>\r\n",
       "<text text-anchor=\"middle\" x=\"317.5\" y=\"-342.3\" font-family=\"Times New Roman,serif\" font-size=\"14.00\">gini = 0.408</text>\r\n",
       "<text text-anchor=\"middle\" x=\"317.5\" y=\"-327.3\" font-family=\"Times New Roman,serif\" font-size=\"14.00\">samples = 7</text>\r\n",
       "<text text-anchor=\"middle\" x=\"317.5\" y=\"-312.3\" font-family=\"Times New Roman,serif\" font-size=\"14.00\">value = [2, 5]</text>\r\n",
       "</g>\r\n",
       "<!-- 16&#45;&gt;17 -->\r\n",
       "<g id=\"edge17\" class=\"edge\"><title>16&#45;&gt;17</title>\r\n",
       "<path fill=\"none\" stroke=\"black\" d=\"M391.111,-400.884C378.653,-389.226 364.67,-376.141 352.264,-364.532\"/>\r\n",
       "<polygon fill=\"black\" stroke=\"black\" points=\"354.464,-361.797 344.771,-357.52 349.681,-366.908 354.464,-361.797\"/>\r\n",
       "</g>\r\n",
       "<!-- 18 -->\r\n",
       "<g id=\"node19\" class=\"node\"><title>18</title>\r\n",
       "<polygon fill=\"none\" stroke=\"black\" points=\"472,-365 381,-365 381,-297 472,-297 472,-365\"/>\r\n",
       "<text text-anchor=\"middle\" x=\"426.5\" y=\"-349.8\" font-family=\"Times New Roman,serif\" font-size=\"14.00\">X[8] &lt;= 0.5</text>\r\n",
       "<text text-anchor=\"middle\" x=\"426.5\" y=\"-334.8\" font-family=\"Times New Roman,serif\" font-size=\"14.00\">gini = 0.494</text>\r\n",
       "<text text-anchor=\"middle\" x=\"426.5\" y=\"-319.8\" font-family=\"Times New Roman,serif\" font-size=\"14.00\">samples = 9</text>\r\n",
       "<text text-anchor=\"middle\" x=\"426.5\" y=\"-304.8\" font-family=\"Times New Roman,serif\" font-size=\"14.00\">value = [5, 4]</text>\r\n",
       "</g>\r\n",
       "<!-- 16&#45;&gt;18 -->\r\n",
       "<g id=\"edge18\" class=\"edge\"><title>16&#45;&gt;18</title>\r\n",
       "<path fill=\"none\" stroke=\"black\" d=\"M426.5,-400.884C426.5,-392.778 426.5,-383.982 426.5,-375.472\"/>\r\n",
       "<polygon fill=\"black\" stroke=\"black\" points=\"430,-375.299 426.5,-365.299 423,-375.299 430,-375.299\"/>\r\n",
       "</g>\r\n",
       "<!-- 19 -->\r\n",
       "<g id=\"node20\" class=\"node\"><title>19</title>\r\n",
       "<polygon fill=\"none\" stroke=\"black\" points=\"417,-261 326,-261 326,-193 417,-193 417,-261\"/>\r\n",
       "<text text-anchor=\"middle\" x=\"371.5\" y=\"-245.8\" font-family=\"Times New Roman,serif\" font-size=\"14.00\">X[7] &lt;= 2.5</text>\r\n",
       "<text text-anchor=\"middle\" x=\"371.5\" y=\"-230.8\" font-family=\"Times New Roman,serif\" font-size=\"14.00\">gini = 0.49</text>\r\n",
       "<text text-anchor=\"middle\" x=\"371.5\" y=\"-215.8\" font-family=\"Times New Roman,serif\" font-size=\"14.00\">samples = 7</text>\r\n",
       "<text text-anchor=\"middle\" x=\"371.5\" y=\"-200.8\" font-family=\"Times New Roman,serif\" font-size=\"14.00\">value = [3, 4]</text>\r\n",
       "</g>\r\n",
       "<!-- 18&#45;&gt;19 -->\r\n",
       "<g id=\"edge19\" class=\"edge\"><title>18&#45;&gt;19</title>\r\n",
       "<path fill=\"none\" stroke=\"black\" d=\"M408.643,-296.884C404.08,-288.422 399.112,-279.207 394.337,-270.352\"/>\r\n",
       "<polygon fill=\"black\" stroke=\"black\" points=\"397.282,-268.44 389.456,-261.299 391.121,-271.762 397.282,-268.44\"/>\r\n",
       "</g>\r\n",
       "<!-- 24 -->\r\n",
       "<g id=\"node25\" class=\"node\"><title>24</title>\r\n",
       "<polygon fill=\"none\" stroke=\"black\" points=\"526,-253.5 435,-253.5 435,-200.5 526,-200.5 526,-253.5\"/>\r\n",
       "<text text-anchor=\"middle\" x=\"480.5\" y=\"-238.3\" font-family=\"Times New Roman,serif\" font-size=\"14.00\">gini = 0.0</text>\r\n",
       "<text text-anchor=\"middle\" x=\"480.5\" y=\"-223.3\" font-family=\"Times New Roman,serif\" font-size=\"14.00\">samples = 2</text>\r\n",
       "<text text-anchor=\"middle\" x=\"480.5\" y=\"-208.3\" font-family=\"Times New Roman,serif\" font-size=\"14.00\">value = [2, 0]</text>\r\n",
       "</g>\r\n",
       "<!-- 18&#45;&gt;24 -->\r\n",
       "<g id=\"edge24\" class=\"edge\"><title>18&#45;&gt;24</title>\r\n",
       "<path fill=\"none\" stroke=\"black\" d=\"M444.032,-296.884C449.855,-285.886 456.35,-273.617 462.227,-262.517\"/>\r\n",
       "<polygon fill=\"black\" stroke=\"black\" points=\"465.404,-263.995 466.989,-253.52 459.217,-260.72 465.404,-263.995\"/>\r\n",
       "</g>\r\n",
       "<!-- 20 -->\r\n",
       "<g id=\"node21\" class=\"node\"><title>20</title>\r\n",
       "<polygon fill=\"none\" stroke=\"black\" points=\"363,-157 272,-157 272,-89 363,-89 363,-157\"/>\r\n",
       "<text text-anchor=\"middle\" x=\"317.5\" y=\"-141.8\" font-family=\"Times New Roman,serif\" font-size=\"14.00\">X[2] &lt;= 3.5</text>\r\n",
       "<text text-anchor=\"middle\" x=\"317.5\" y=\"-126.8\" font-family=\"Times New Roman,serif\" font-size=\"14.00\">gini = 0.32</text>\r\n",
       "<text text-anchor=\"middle\" x=\"317.5\" y=\"-111.8\" font-family=\"Times New Roman,serif\" font-size=\"14.00\">samples = 5</text>\r\n",
       "<text text-anchor=\"middle\" x=\"317.5\" y=\"-96.8\" font-family=\"Times New Roman,serif\" font-size=\"14.00\">value = [1, 4]</text>\r\n",
       "</g>\r\n",
       "<!-- 19&#45;&gt;20 -->\r\n",
       "<g id=\"edge20\" class=\"edge\"><title>19&#45;&gt;20</title>\r\n",
       "<path fill=\"none\" stroke=\"black\" d=\"M353.968,-192.884C349.488,-184.422 344.61,-175.207 339.921,-166.352\"/>\r\n",
       "<polygon fill=\"black\" stroke=\"black\" points=\"342.901,-164.5 335.129,-157.299 336.715,-167.775 342.901,-164.5\"/>\r\n",
       "</g>\r\n",
       "<!-- 23 -->\r\n",
       "<g id=\"node24\" class=\"node\"><title>23</title>\r\n",
       "<polygon fill=\"none\" stroke=\"black\" points=\"472,-149.5 381,-149.5 381,-96.5 472,-96.5 472,-149.5\"/>\r\n",
       "<text text-anchor=\"middle\" x=\"426.5\" y=\"-134.3\" font-family=\"Times New Roman,serif\" font-size=\"14.00\">gini = 0.0</text>\r\n",
       "<text text-anchor=\"middle\" x=\"426.5\" y=\"-119.3\" font-family=\"Times New Roman,serif\" font-size=\"14.00\">samples = 2</text>\r\n",
       "<text text-anchor=\"middle\" x=\"426.5\" y=\"-104.3\" font-family=\"Times New Roman,serif\" font-size=\"14.00\">value = [2, 0]</text>\r\n",
       "</g>\r\n",
       "<!-- 19&#45;&gt;23 -->\r\n",
       "<g id=\"edge23\" class=\"edge\"><title>19&#45;&gt;23</title>\r\n",
       "<path fill=\"none\" stroke=\"black\" d=\"M389.357,-192.884C395.287,-181.886 401.902,-169.617 407.888,-158.517\"/>\r\n",
       "<polygon fill=\"black\" stroke=\"black\" points=\"411.074,-159.983 412.739,-149.52 404.912,-156.661 411.074,-159.983\"/>\r\n",
       "</g>\r\n",
       "<!-- 21 -->\r\n",
       "<g id=\"node22\" class=\"node\"><title>21</title>\r\n",
       "<polygon fill=\"none\" stroke=\"black\" points=\"309,-53 218,-53 218,-0 309,-0 309,-53\"/>\r\n",
       "<text text-anchor=\"middle\" x=\"263.5\" y=\"-37.8\" font-family=\"Times New Roman,serif\" font-size=\"14.00\">gini = 0.0</text>\r\n",
       "<text text-anchor=\"middle\" x=\"263.5\" y=\"-22.8\" font-family=\"Times New Roman,serif\" font-size=\"14.00\">samples = 4</text>\r\n",
       "<text text-anchor=\"middle\" x=\"263.5\" y=\"-7.8\" font-family=\"Times New Roman,serif\" font-size=\"14.00\">value = [0, 4]</text>\r\n",
       "</g>\r\n",
       "<!-- 20&#45;&gt;21 -->\r\n",
       "<g id=\"edge21\" class=\"edge\"><title>20&#45;&gt;21</title>\r\n",
       "<path fill=\"none\" stroke=\"black\" d=\"M298.613,-88.9485C293.647,-80.2579 288.278,-70.8608 283.267,-62.0917\"/>\r\n",
       "<polygon fill=\"black\" stroke=\"black\" points=\"286.207,-60.1826 278.207,-53.2367 280.129,-63.6557 286.207,-60.1826\"/>\r\n",
       "</g>\r\n",
       "<!-- 22 -->\r\n",
       "<g id=\"node23\" class=\"node\"><title>22</title>\r\n",
       "<polygon fill=\"none\" stroke=\"black\" points=\"418,-53 327,-53 327,-0 418,-0 418,-53\"/>\r\n",
       "<text text-anchor=\"middle\" x=\"372.5\" y=\"-37.8\" font-family=\"Times New Roman,serif\" font-size=\"14.00\">gini = 0.0</text>\r\n",
       "<text text-anchor=\"middle\" x=\"372.5\" y=\"-22.8\" font-family=\"Times New Roman,serif\" font-size=\"14.00\">samples = 1</text>\r\n",
       "<text text-anchor=\"middle\" x=\"372.5\" y=\"-7.8\" font-family=\"Times New Roman,serif\" font-size=\"14.00\">value = [1, 0]</text>\r\n",
       "</g>\r\n",
       "<!-- 20&#45;&gt;22 -->\r\n",
       "<g id=\"edge22\" class=\"edge\"><title>20&#45;&gt;22</title>\r\n",
       "<path fill=\"none\" stroke=\"black\" d=\"M336.736,-88.9485C341.794,-80.2579 347.264,-70.8608 352.367,-62.0917\"/>\r\n",
       "<polygon fill=\"black\" stroke=\"black\" points=\"355.516,-63.6401 357.521,-53.2367 349.466,-60.1189 355.516,-63.6401\"/>\r\n",
       "</g>\r\n",
       "<!-- 28 -->\r\n",
       "<g id=\"node29\" class=\"node\"><title>28</title>\r\n",
       "<polygon fill=\"none\" stroke=\"black\" points=\"595,-773.5 504,-773.5 504,-720.5 595,-720.5 595,-773.5\"/>\r\n",
       "<text text-anchor=\"middle\" x=\"549.5\" y=\"-758.3\" font-family=\"Times New Roman,serif\" font-size=\"14.00\">gini = 0.0</text>\r\n",
       "<text text-anchor=\"middle\" x=\"549.5\" y=\"-743.3\" font-family=\"Times New Roman,serif\" font-size=\"14.00\">samples = 1</text>\r\n",
       "<text text-anchor=\"middle\" x=\"549.5\" y=\"-728.3\" font-family=\"Times New Roman,serif\" font-size=\"14.00\">value = [1, 0]</text>\r\n",
       "</g>\r\n",
       "<!-- 27&#45;&gt;28 -->\r\n",
       "<g id=\"edge28\" class=\"edge\"><title>27&#45;&gt;28</title>\r\n",
       "<path fill=\"none\" stroke=\"black\" d=\"M550.851,-816.884C550.641,-806.216 550.409,-794.352 550.196,-783.519\"/>\r\n",
       "<polygon fill=\"black\" stroke=\"black\" points=\"553.696,-783.449 550,-773.52 546.697,-783.587 553.696,-783.449\"/>\r\n",
       "</g>\r\n",
       "<!-- 29 -->\r\n",
       "<g id=\"node30\" class=\"node\"><title>29</title>\r\n",
       "<polygon fill=\"none\" stroke=\"black\" points=\"711.5,-773.5 613.5,-773.5 613.5,-720.5 711.5,-720.5 711.5,-773.5\"/>\r\n",
       "<text text-anchor=\"middle\" x=\"662.5\" y=\"-758.3\" font-family=\"Times New Roman,serif\" font-size=\"14.00\">gini = 0.198</text>\r\n",
       "<text text-anchor=\"middle\" x=\"662.5\" y=\"-743.3\" font-family=\"Times New Roman,serif\" font-size=\"14.00\">samples = 54</text>\r\n",
       "<text text-anchor=\"middle\" x=\"662.5\" y=\"-728.3\" font-family=\"Times New Roman,serif\" font-size=\"14.00\">value = [6, 48]</text>\r\n",
       "</g>\r\n",
       "<!-- 27&#45;&gt;29 -->\r\n",
       "<g id=\"edge29\" class=\"edge\"><title>27&#45;&gt;29</title>\r\n",
       "<path fill=\"none\" stroke=\"black\" d=\"M587.539,-816.884C600.225,-805.226 614.465,-792.141 627.098,-780.532\"/>\r\n",
       "<polygon fill=\"black\" stroke=\"black\" points=\"629.733,-782.863 634.728,-773.52 624.997,-777.709 629.733,-782.863\"/>\r\n",
       "</g>\r\n",
       "<!-- 32 -->\r\n",
       "<g id=\"node33\" class=\"node\"><title>32</title>\r\n",
       "<polygon fill=\"none\" stroke=\"black\" points=\"826.5,-981.5 728.5,-981.5 728.5,-928.5 826.5,-928.5 826.5,-981.5\"/>\r\n",
       "<text text-anchor=\"middle\" x=\"777.5\" y=\"-966.3\" font-family=\"Times New Roman,serif\" font-size=\"14.00\">gini = 0.499</text>\r\n",
       "<text text-anchor=\"middle\" x=\"777.5\" y=\"-951.3\" font-family=\"Times New Roman,serif\" font-size=\"14.00\">samples = 19</text>\r\n",
       "<text text-anchor=\"middle\" x=\"777.5\" y=\"-936.3\" font-family=\"Times New Roman,serif\" font-size=\"14.00\">value = [10, 9]</text>\r\n",
       "</g>\r\n",
       "<!-- 31&#45;&gt;32 -->\r\n",
       "<g id=\"edge32\" class=\"edge\"><title>31&#45;&gt;32</title>\r\n",
       "<path fill=\"none\" stroke=\"black\" d=\"M820.046,-1024.88C813.185,-1013.78 805.524,-1001.37 798.614,-990.184\"/>\r\n",
       "<polygon fill=\"black\" stroke=\"black\" points=\"801.495,-988.189 793.262,-981.52 795.539,-991.867 801.495,-988.189\"/>\r\n",
       "</g>\r\n",
       "<!-- 33 -->\r\n",
       "<g id=\"node34\" class=\"node\"><title>33</title>\r\n",
       "<polygon fill=\"none\" stroke=\"black\" points=\"942.5,-989 844.5,-989 844.5,-921 942.5,-921 942.5,-989\"/>\r\n",
       "<text text-anchor=\"middle\" x=\"893.5\" y=\"-973.8\" font-family=\"Times New Roman,serif\" font-size=\"14.00\">X[0] &lt;= 1.5</text>\r\n",
       "<text text-anchor=\"middle\" x=\"893.5\" y=\"-958.8\" font-family=\"Times New Roman,serif\" font-size=\"14.00\">gini = 0.363</text>\r\n",
       "<text text-anchor=\"middle\" x=\"893.5\" y=\"-943.8\" font-family=\"Times New Roman,serif\" font-size=\"14.00\">samples = 21</text>\r\n",
       "<text text-anchor=\"middle\" x=\"893.5\" y=\"-928.8\" font-family=\"Times New Roman,serif\" font-size=\"14.00\">value = [5, 16]</text>\r\n",
       "</g>\r\n",
       "<!-- 31&#45;&gt;33 -->\r\n",
       "<g id=\"edge33\" class=\"edge\"><title>31&#45;&gt;33</title>\r\n",
       "<path fill=\"none\" stroke=\"black\" d=\"M857.708,-1024.88C862.105,-1016.42 866.892,-1007.21 871.494,-998.352\"/>\r\n",
       "<polygon fill=\"black\" stroke=\"black\" points=\"874.692,-999.787 876.197,-989.299 868.481,-996.559 874.692,-999.787\"/>\r\n",
       "</g>\r\n",
       "<!-- 34 -->\r\n",
       "<g id=\"node35\" class=\"node\"><title>34</title>\r\n",
       "<polygon fill=\"none\" stroke=\"black\" points=\"829.5,-877.5 731.5,-877.5 731.5,-824.5 829.5,-824.5 829.5,-877.5\"/>\r\n",
       "<text text-anchor=\"middle\" x=\"780.5\" y=\"-862.3\" font-family=\"Times New Roman,serif\" font-size=\"14.00\">gini = 0.0</text>\r\n",
       "<text text-anchor=\"middle\" x=\"780.5\" y=\"-847.3\" font-family=\"Times New Roman,serif\" font-size=\"14.00\">samples = 11</text>\r\n",
       "<text text-anchor=\"middle\" x=\"780.5\" y=\"-832.3\" font-family=\"Times New Roman,serif\" font-size=\"14.00\">value = [0, 11]</text>\r\n",
       "</g>\r\n",
       "<!-- 33&#45;&gt;34 -->\r\n",
       "<g id=\"edge34\" class=\"edge\"><title>33&#45;&gt;34</title>\r\n",
       "<path fill=\"none\" stroke=\"black\" d=\"M856.812,-920.884C843.897,-909.226 829.401,-896.141 816.54,-884.532\"/>\r\n",
       "<polygon fill=\"black\" stroke=\"black\" points=\"818.54,-881.622 808.772,-877.52 813.85,-886.819 818.54,-881.622\"/>\r\n",
       "</g>\r\n",
       "<!-- 35 -->\r\n",
       "<g id=\"node36\" class=\"node\"><title>35</title>\r\n",
       "<polygon fill=\"none\" stroke=\"black\" points=\"939,-885 848,-885 848,-817 939,-817 939,-885\"/>\r\n",
       "<text text-anchor=\"middle\" x=\"893.5\" y=\"-869.8\" font-family=\"Times New Roman,serif\" font-size=\"14.00\">X[0] &lt;= 2.5</text>\r\n",
       "<text text-anchor=\"middle\" x=\"893.5\" y=\"-854.8\" font-family=\"Times New Roman,serif\" font-size=\"14.00\">gini = 0.5</text>\r\n",
       "<text text-anchor=\"middle\" x=\"893.5\" y=\"-839.8\" font-family=\"Times New Roman,serif\" font-size=\"14.00\">samples = 10</text>\r\n",
       "<text text-anchor=\"middle\" x=\"893.5\" y=\"-824.8\" font-family=\"Times New Roman,serif\" font-size=\"14.00\">value = [5, 5]</text>\r\n",
       "</g>\r\n",
       "<!-- 33&#45;&gt;35 -->\r\n",
       "<g id=\"edge35\" class=\"edge\"><title>33&#45;&gt;35</title>\r\n",
       "<path fill=\"none\" stroke=\"black\" d=\"M893.5,-920.884C893.5,-912.778 893.5,-903.982 893.5,-895.472\"/>\r\n",
       "<polygon fill=\"black\" stroke=\"black\" points=\"897,-895.299 893.5,-885.299 890,-895.299 897,-895.299\"/>\r\n",
       "</g>\r\n",
       "<!-- 36 -->\r\n",
       "<g id=\"node37\" class=\"node\"><title>36</title>\r\n",
       "<polygon fill=\"none\" stroke=\"black\" points=\"830,-773.5 739,-773.5 739,-720.5 830,-720.5 830,-773.5\"/>\r\n",
       "<text text-anchor=\"middle\" x=\"784.5\" y=\"-758.3\" font-family=\"Times New Roman,serif\" font-size=\"14.00\">gini = 0.469</text>\r\n",
       "<text text-anchor=\"middle\" x=\"784.5\" y=\"-743.3\" font-family=\"Times New Roman,serif\" font-size=\"14.00\">samples = 8</text>\r\n",
       "<text text-anchor=\"middle\" x=\"784.5\" y=\"-728.3\" font-family=\"Times New Roman,serif\" font-size=\"14.00\">value = [5, 3]</text>\r\n",
       "</g>\r\n",
       "<!-- 35&#45;&gt;36 -->\r\n",
       "<g id=\"edge36\" class=\"edge\"><title>35&#45;&gt;36</title>\r\n",
       "<path fill=\"none\" stroke=\"black\" d=\"M858.111,-816.884C845.653,-805.226 831.67,-792.141 819.264,-780.532\"/>\r\n",
       "<polygon fill=\"black\" stroke=\"black\" points=\"821.464,-777.797 811.771,-773.52 816.681,-782.908 821.464,-777.797\"/>\r\n",
       "</g>\r\n",
       "<!-- 37 -->\r\n",
       "<g id=\"node38\" class=\"node\"><title>37</title>\r\n",
       "<polygon fill=\"none\" stroke=\"black\" points=\"939,-773.5 848,-773.5 848,-720.5 939,-720.5 939,-773.5\"/>\r\n",
       "<text text-anchor=\"middle\" x=\"893.5\" y=\"-758.3\" font-family=\"Times New Roman,serif\" font-size=\"14.00\">gini = 0.0</text>\r\n",
       "<text text-anchor=\"middle\" x=\"893.5\" y=\"-743.3\" font-family=\"Times New Roman,serif\" font-size=\"14.00\">samples = 2</text>\r\n",
       "<text text-anchor=\"middle\" x=\"893.5\" y=\"-728.3\" font-family=\"Times New Roman,serif\" font-size=\"14.00\">value = [0, 2]</text>\r\n",
       "</g>\r\n",
       "<!-- 35&#45;&gt;37 -->\r\n",
       "<g id=\"edge37\" class=\"edge\"><title>35&#45;&gt;37</title>\r\n",
       "<path fill=\"none\" stroke=\"black\" d=\"M893.5,-816.884C893.5,-806.326 893.5,-794.597 893.5,-783.854\"/>\r\n",
       "<polygon fill=\"black\" stroke=\"black\" points=\"897,-783.52 893.5,-773.52 890,-783.52 897,-783.52\"/>\r\n",
       "</g>\r\n",
       "<!-- 39 -->\r\n",
       "<g id=\"node40\" class=\"node\"><title>39</title>\r\n",
       "<polygon fill=\"none\" stroke=\"black\" points=\"1225.5,-1093 1121.5,-1093 1121.5,-1025 1225.5,-1025 1225.5,-1093\"/>\r\n",
       "<text text-anchor=\"middle\" x=\"1173.5\" y=\"-1077.8\" font-family=\"Times New Roman,serif\" font-size=\"14.00\">X[0] &lt;= 1.5</text>\r\n",
       "<text text-anchor=\"middle\" x=\"1173.5\" y=\"-1062.8\" font-family=\"Times New Roman,serif\" font-size=\"14.00\">gini = 0.473</text>\r\n",
       "<text text-anchor=\"middle\" x=\"1173.5\" y=\"-1047.8\" font-family=\"Times New Roman,serif\" font-size=\"14.00\">samples = 26</text>\r\n",
       "<text text-anchor=\"middle\" x=\"1173.5\" y=\"-1032.8\" font-family=\"Times New Roman,serif\" font-size=\"14.00\">value = [10, 16]</text>\r\n",
       "</g>\r\n",
       "<!-- 38&#45;&gt;39 -->\r\n",
       "<g id=\"edge39\" class=\"edge\"><title>38&#45;&gt;39</title>\r\n",
       "<path fill=\"none\" stroke=\"black\" d=\"M1173.5,-1128.88C1173.5,-1120.78 1173.5,-1111.98 1173.5,-1103.47\"/>\r\n",
       "<polygon fill=\"black\" stroke=\"black\" points=\"1177,-1103.3 1173.5,-1093.3 1170,-1103.3 1177,-1103.3\"/>\r\n",
       "</g>\r\n",
       "<!-- 52 -->\r\n",
       "<g id=\"node53\" class=\"node\"><title>52</title>\r\n",
       "<polygon fill=\"none\" stroke=\"black\" points=\"1499.5,-1093 1401.5,-1093 1401.5,-1025 1499.5,-1025 1499.5,-1093\"/>\r\n",
       "<text text-anchor=\"middle\" x=\"1450.5\" y=\"-1077.8\" font-family=\"Times New Roman,serif\" font-size=\"14.00\">X[2] &lt;= 7.5</text>\r\n",
       "<text text-anchor=\"middle\" x=\"1450.5\" y=\"-1062.8\" font-family=\"Times New Roman,serif\" font-size=\"14.00\">gini = 0.337</text>\r\n",
       "<text text-anchor=\"middle\" x=\"1450.5\" y=\"-1047.8\" font-family=\"Times New Roman,serif\" font-size=\"14.00\">samples = 28</text>\r\n",
       "<text text-anchor=\"middle\" x=\"1450.5\" y=\"-1032.8\" font-family=\"Times New Roman,serif\" font-size=\"14.00\">value = [22, 6]</text>\r\n",
       "</g>\r\n",
       "<!-- 38&#45;&gt;52 -->\r\n",
       "<g id=\"edge52\" class=\"edge\"><title>38&#45;&gt;52</title>\r\n",
       "<path fill=\"none\" stroke=\"black\" d=\"M1225.6,-1142.81C1272.91,-1125.39 1342.61,-1099.73 1391.86,-1081.59\"/>\r\n",
       "<polygon fill=\"black\" stroke=\"black\" points=\"1393.25,-1084.81 1401.42,-1078.07 1390.83,-1078.24 1393.25,-1084.81\"/>\r\n",
       "</g>\r\n",
       "<!-- 40 -->\r\n",
       "<g id=\"node41\" class=\"node\"><title>40</title>\r\n",
       "<polygon fill=\"none\" stroke=\"black\" points=\"1166.5,-989 1068.5,-989 1068.5,-921 1166.5,-921 1166.5,-989\"/>\r\n",
       "<text text-anchor=\"middle\" x=\"1117.5\" y=\"-973.8\" font-family=\"Times New Roman,serif\" font-size=\"14.00\">X[7] &lt;= 2.5</text>\r\n",
       "<text text-anchor=\"middle\" x=\"1117.5\" y=\"-958.8\" font-family=\"Times New Roman,serif\" font-size=\"14.00\">gini = 0.401</text>\r\n",
       "<text text-anchor=\"middle\" x=\"1117.5\" y=\"-943.8\" font-family=\"Times New Roman,serif\" font-size=\"14.00\">samples = 18</text>\r\n",
       "<text text-anchor=\"middle\" x=\"1117.5\" y=\"-928.8\" font-family=\"Times New Roman,serif\" font-size=\"14.00\">value = [5, 13]</text>\r\n",
       "</g>\r\n",
       "<!-- 39&#45;&gt;40 -->\r\n",
       "<g id=\"edge40\" class=\"edge\"><title>39&#45;&gt;40</title>\r\n",
       "<path fill=\"none\" stroke=\"black\" d=\"M1155.32,-1024.88C1150.62,-1016.33 1145.51,-1007.01 1140.6,-998.072\"/>\r\n",
       "<polygon fill=\"black\" stroke=\"black\" points=\"1143.66,-996.381 1135.78,-989.299 1137.53,-999.75 1143.66,-996.381\"/>\r\n",
       "</g>\r\n",
       "<!-- 45 -->\r\n",
       "<g id=\"node46\" class=\"node\"><title>45</title>\r\n",
       "<polygon fill=\"none\" stroke=\"black\" points=\"1276,-989 1185,-989 1185,-921 1276,-921 1276,-989\"/>\r\n",
       "<text text-anchor=\"middle\" x=\"1230.5\" y=\"-973.8\" font-family=\"Times New Roman,serif\" font-size=\"14.00\">X[6] &lt;= 0.5</text>\r\n",
       "<text text-anchor=\"middle\" x=\"1230.5\" y=\"-958.8\" font-family=\"Times New Roman,serif\" font-size=\"14.00\">gini = 0.469</text>\r\n",
       "<text text-anchor=\"middle\" x=\"1230.5\" y=\"-943.8\" font-family=\"Times New Roman,serif\" font-size=\"14.00\">samples = 8</text>\r\n",
       "<text text-anchor=\"middle\" x=\"1230.5\" y=\"-928.8\" font-family=\"Times New Roman,serif\" font-size=\"14.00\">value = [5, 3]</text>\r\n",
       "</g>\r\n",
       "<!-- 39&#45;&gt;45 -->\r\n",
       "<g id=\"edge45\" class=\"edge\"><title>39&#45;&gt;45</title>\r\n",
       "<path fill=\"none\" stroke=\"black\" d=\"M1192.01,-1024.88C1196.78,-1016.33 1201.99,-1007.01 1206.99,-998.072\"/>\r\n",
       "<polygon fill=\"black\" stroke=\"black\" points=\"1210.07,-999.736 1211.89,-989.299 1203.96,-996.321 1210.07,-999.736\"/>\r\n",
       "</g>\r\n",
       "<!-- 41 -->\r\n",
       "<g id=\"node42\" class=\"node\"><title>41</title>\r\n",
       "<polygon fill=\"none\" stroke=\"black\" points=\"1055.5,-885 957.5,-885 957.5,-817 1055.5,-817 1055.5,-885\"/>\r\n",
       "<text text-anchor=\"middle\" x=\"1006.5\" y=\"-869.8\" font-family=\"Times New Roman,serif\" font-size=\"14.00\">X[2] &lt;= 8.0</text>\r\n",
       "<text text-anchor=\"middle\" x=\"1006.5\" y=\"-854.8\" font-family=\"Times New Roman,serif\" font-size=\"14.00\">gini = 0.305</text>\r\n",
       "<text text-anchor=\"middle\" x=\"1006.5\" y=\"-839.8\" font-family=\"Times New Roman,serif\" font-size=\"14.00\">samples = 16</text>\r\n",
       "<text text-anchor=\"middle\" x=\"1006.5\" y=\"-824.8\" font-family=\"Times New Roman,serif\" font-size=\"14.00\">value = [3, 13]</text>\r\n",
       "</g>\r\n",
       "<!-- 40&#45;&gt;41 -->\r\n",
       "<g id=\"edge41\" class=\"edge\"><title>40&#45;&gt;41</title>\r\n",
       "<path fill=\"none\" stroke=\"black\" d=\"M1081.46,-920.884C1071.48,-911.709 1060.53,-901.65 1050.16,-892.123\"/>\r\n",
       "<polygon fill=\"black\" stroke=\"black\" points=\"1052.47,-889.488 1042.74,-885.299 1047.73,-894.643 1052.47,-889.488\"/>\r\n",
       "</g>\r\n",
       "<!-- 44 -->\r\n",
       "<g id=\"node45\" class=\"node\"><title>44</title>\r\n",
       "<polygon fill=\"none\" stroke=\"black\" points=\"1165,-877.5 1074,-877.5 1074,-824.5 1165,-824.5 1165,-877.5\"/>\r\n",
       "<text text-anchor=\"middle\" x=\"1119.5\" y=\"-862.3\" font-family=\"Times New Roman,serif\" font-size=\"14.00\">gini = 0.0</text>\r\n",
       "<text text-anchor=\"middle\" x=\"1119.5\" y=\"-847.3\" font-family=\"Times New Roman,serif\" font-size=\"14.00\">samples = 2</text>\r\n",
       "<text text-anchor=\"middle\" x=\"1119.5\" y=\"-832.3\" font-family=\"Times New Roman,serif\" font-size=\"14.00\">value = [2, 0]</text>\r\n",
       "</g>\r\n",
       "<!-- 40&#45;&gt;44 -->\r\n",
       "<g id=\"edge44\" class=\"edge\"><title>40&#45;&gt;44</title>\r\n",
       "<path fill=\"none\" stroke=\"black\" d=\"M1118.15,-920.884C1118.36,-910.216 1118.59,-898.352 1118.8,-887.519\"/>\r\n",
       "<polygon fill=\"black\" stroke=\"black\" points=\"1122.3,-887.587 1119,-877.52 1115.3,-887.449 1122.3,-887.587\"/>\r\n",
       "</g>\r\n",
       "<!-- 42 -->\r\n",
       "<g id=\"node43\" class=\"node\"><title>42</title>\r\n",
       "<polygon fill=\"none\" stroke=\"black\" points=\"1055.5,-773.5 957.5,-773.5 957.5,-720.5 1055.5,-720.5 1055.5,-773.5\"/>\r\n",
       "<text text-anchor=\"middle\" x=\"1006.5\" y=\"-758.3\" font-family=\"Times New Roman,serif\" font-size=\"14.00\">gini = 0.231</text>\r\n",
       "<text text-anchor=\"middle\" x=\"1006.5\" y=\"-743.3\" font-family=\"Times New Roman,serif\" font-size=\"14.00\">samples = 15</text>\r\n",
       "<text text-anchor=\"middle\" x=\"1006.5\" y=\"-728.3\" font-family=\"Times New Roman,serif\" font-size=\"14.00\">value = [2, 13]</text>\r\n",
       "</g>\r\n",
       "<!-- 41&#45;&gt;42 -->\r\n",
       "<g id=\"edge42\" class=\"edge\"><title>41&#45;&gt;42</title>\r\n",
       "<path fill=\"none\" stroke=\"black\" d=\"M1006.5,-816.884C1006.5,-806.326 1006.5,-794.597 1006.5,-783.854\"/>\r\n",
       "<polygon fill=\"black\" stroke=\"black\" points=\"1010,-783.52 1006.5,-773.52 1003,-783.52 1010,-783.52\"/>\r\n",
       "</g>\r\n",
       "<!-- 43 -->\r\n",
       "<g id=\"node44\" class=\"node\"><title>43</title>\r\n",
       "<polygon fill=\"none\" stroke=\"black\" points=\"1165,-773.5 1074,-773.5 1074,-720.5 1165,-720.5 1165,-773.5\"/>\r\n",
       "<text text-anchor=\"middle\" x=\"1119.5\" y=\"-758.3\" font-family=\"Times New Roman,serif\" font-size=\"14.00\">gini = 0.0</text>\r\n",
       "<text text-anchor=\"middle\" x=\"1119.5\" y=\"-743.3\" font-family=\"Times New Roman,serif\" font-size=\"14.00\">samples = 1</text>\r\n",
       "<text text-anchor=\"middle\" x=\"1119.5\" y=\"-728.3\" font-family=\"Times New Roman,serif\" font-size=\"14.00\">value = [1, 0]</text>\r\n",
       "</g>\r\n",
       "<!-- 41&#45;&gt;43 -->\r\n",
       "<g id=\"edge43\" class=\"edge\"><title>41&#45;&gt;43</title>\r\n",
       "<path fill=\"none\" stroke=\"black\" d=\"M1043.19,-816.884C1056.1,-805.226 1070.6,-792.141 1083.46,-780.532\"/>\r\n",
       "<polygon fill=\"black\" stroke=\"black\" points=\"1086.15,-782.819 1091.23,-773.52 1081.46,-777.622 1086.15,-782.819\"/>\r\n",
       "</g>\r\n",
       "<!-- 46 -->\r\n",
       "<g id=\"node47\" class=\"node\"><title>46</title>\r\n",
       "<polygon fill=\"none\" stroke=\"black\" points=\"1274,-885 1183,-885 1183,-817 1274,-817 1274,-885\"/>\r\n",
       "<text text-anchor=\"middle\" x=\"1228.5\" y=\"-869.8\" font-family=\"Times New Roman,serif\" font-size=\"14.00\">X[4] &lt;= 0.5</text>\r\n",
       "<text text-anchor=\"middle\" x=\"1228.5\" y=\"-854.8\" font-family=\"Times New Roman,serif\" font-size=\"14.00\">gini = 0.48</text>\r\n",
       "<text text-anchor=\"middle\" x=\"1228.5\" y=\"-839.8\" font-family=\"Times New Roman,serif\" font-size=\"14.00\">samples = 5</text>\r\n",
       "<text text-anchor=\"middle\" x=\"1228.5\" y=\"-824.8\" font-family=\"Times New Roman,serif\" font-size=\"14.00\">value = [2, 3]</text>\r\n",
       "</g>\r\n",
       "<!-- 45&#45;&gt;46 -->\r\n",
       "<g id=\"edge46\" class=\"edge\"><title>45&#45;&gt;46</title>\r\n",
       "<path fill=\"none\" stroke=\"black\" d=\"M1229.85,-920.884C1229.69,-912.778 1229.52,-903.982 1229.35,-895.472\"/>\r\n",
       "<polygon fill=\"black\" stroke=\"black\" points=\"1232.85,-895.229 1229.15,-885.299 1225.85,-895.366 1232.85,-895.229\"/>\r\n",
       "</g>\r\n",
       "<!-- 51 -->\r\n",
       "<g id=\"node52\" class=\"node\"><title>51</title>\r\n",
       "<polygon fill=\"none\" stroke=\"black\" points=\"1383,-877.5 1292,-877.5 1292,-824.5 1383,-824.5 1383,-877.5\"/>\r\n",
       "<text text-anchor=\"middle\" x=\"1337.5\" y=\"-862.3\" font-family=\"Times New Roman,serif\" font-size=\"14.00\">gini = 0.0</text>\r\n",
       "<text text-anchor=\"middle\" x=\"1337.5\" y=\"-847.3\" font-family=\"Times New Roman,serif\" font-size=\"14.00\">samples = 3</text>\r\n",
       "<text text-anchor=\"middle\" x=\"1337.5\" y=\"-832.3\" font-family=\"Times New Roman,serif\" font-size=\"14.00\">value = [3, 0]</text>\r\n",
       "</g>\r\n",
       "<!-- 45&#45;&gt;51 -->\r\n",
       "<g id=\"edge51\" class=\"edge\"><title>45&#45;&gt;51</title>\r\n",
       "<path fill=\"none\" stroke=\"black\" d=\"M1265.24,-920.884C1277.47,-909.226 1291.2,-896.141 1303.37,-884.532\"/>\r\n",
       "<polygon fill=\"black\" stroke=\"black\" points=\"1305.91,-886.953 1310.73,-877.52 1301.08,-881.887 1305.91,-886.953\"/>\r\n",
       "</g>\r\n",
       "<!-- 47 -->\r\n",
       "<g id=\"node48\" class=\"node\"><title>47</title>\r\n",
       "<polygon fill=\"none\" stroke=\"black\" points=\"1274,-773.5 1183,-773.5 1183,-720.5 1274,-720.5 1274,-773.5\"/>\r\n",
       "<text text-anchor=\"middle\" x=\"1228.5\" y=\"-758.3\" font-family=\"Times New Roman,serif\" font-size=\"14.00\">gini = 0.0</text>\r\n",
       "<text text-anchor=\"middle\" x=\"1228.5\" y=\"-743.3\" font-family=\"Times New Roman,serif\" font-size=\"14.00\">samples = 2</text>\r\n",
       "<text text-anchor=\"middle\" x=\"1228.5\" y=\"-728.3\" font-family=\"Times New Roman,serif\" font-size=\"14.00\">value = [0, 2]</text>\r\n",
       "</g>\r\n",
       "<!-- 46&#45;&gt;47 -->\r\n",
       "<g id=\"edge47\" class=\"edge\"><title>46&#45;&gt;47</title>\r\n",
       "<path fill=\"none\" stroke=\"black\" d=\"M1228.5,-816.884C1228.5,-806.326 1228.5,-794.597 1228.5,-783.854\"/>\r\n",
       "<polygon fill=\"black\" stroke=\"black\" points=\"1232,-783.52 1228.5,-773.52 1225,-783.52 1232,-783.52\"/>\r\n",
       "</g>\r\n",
       "<!-- 48 -->\r\n",
       "<g id=\"node49\" class=\"node\"><title>48</title>\r\n",
       "<polygon fill=\"none\" stroke=\"black\" points=\"1383,-781 1292,-781 1292,-713 1383,-713 1383,-781\"/>\r\n",
       "<text text-anchor=\"middle\" x=\"1337.5\" y=\"-765.8\" font-family=\"Times New Roman,serif\" font-size=\"14.00\">X[2] &lt;= 3.5</text>\r\n",
       "<text text-anchor=\"middle\" x=\"1337.5\" y=\"-750.8\" font-family=\"Times New Roman,serif\" font-size=\"14.00\">gini = 0.444</text>\r\n",
       "<text text-anchor=\"middle\" x=\"1337.5\" y=\"-735.8\" font-family=\"Times New Roman,serif\" font-size=\"14.00\">samples = 3</text>\r\n",
       "<text text-anchor=\"middle\" x=\"1337.5\" y=\"-720.8\" font-family=\"Times New Roman,serif\" font-size=\"14.00\">value = [2, 1]</text>\r\n",
       "</g>\r\n",
       "<!-- 46&#45;&gt;48 -->\r\n",
       "<g id=\"edge48\" class=\"edge\"><title>46&#45;&gt;48</title>\r\n",
       "<path fill=\"none\" stroke=\"black\" d=\"M1263.89,-816.884C1273.6,-807.798 1284.23,-797.845 1294.33,-788.4\"/>\r\n",
       "<polygon fill=\"black\" stroke=\"black\" points=\"1297.01,-790.688 1301.92,-781.299 1292.22,-785.577 1297.01,-790.688\"/>\r\n",
       "</g>\r\n",
       "<!-- 49 -->\r\n",
       "<g id=\"node50\" class=\"node\"><title>49</title>\r\n",
       "<polygon fill=\"none\" stroke=\"black\" points=\"1328,-669.5 1237,-669.5 1237,-616.5 1328,-616.5 1328,-669.5\"/>\r\n",
       "<text text-anchor=\"middle\" x=\"1282.5\" y=\"-654.3\" font-family=\"Times New Roman,serif\" font-size=\"14.00\">gini = 0.0</text>\r\n",
       "<text text-anchor=\"middle\" x=\"1282.5\" y=\"-639.3\" font-family=\"Times New Roman,serif\" font-size=\"14.00\">samples = 2</text>\r\n",
       "<text text-anchor=\"middle\" x=\"1282.5\" y=\"-624.3\" font-family=\"Times New Roman,serif\" font-size=\"14.00\">value = [2, 0]</text>\r\n",
       "</g>\r\n",
       "<!-- 48&#45;&gt;49 -->\r\n",
       "<g id=\"edge49\" class=\"edge\"><title>48&#45;&gt;49</title>\r\n",
       "<path fill=\"none\" stroke=\"black\" d=\"M1319.64,-712.884C1313.71,-701.886 1307.1,-689.617 1301.11,-678.517\"/>\r\n",
       "<polygon fill=\"black\" stroke=\"black\" points=\"1304.09,-676.661 1296.26,-669.52 1297.93,-679.983 1304.09,-676.661\"/>\r\n",
       "</g>\r\n",
       "<!-- 50 -->\r\n",
       "<g id=\"node51\" class=\"node\"><title>50</title>\r\n",
       "<polygon fill=\"none\" stroke=\"black\" points=\"1437,-669.5 1346,-669.5 1346,-616.5 1437,-616.5 1437,-669.5\"/>\r\n",
       "<text text-anchor=\"middle\" x=\"1391.5\" y=\"-654.3\" font-family=\"Times New Roman,serif\" font-size=\"14.00\">gini = 0.0</text>\r\n",
       "<text text-anchor=\"middle\" x=\"1391.5\" y=\"-639.3\" font-family=\"Times New Roman,serif\" font-size=\"14.00\">samples = 1</text>\r\n",
       "<text text-anchor=\"middle\" x=\"1391.5\" y=\"-624.3\" font-family=\"Times New Roman,serif\" font-size=\"14.00\">value = [0, 1]</text>\r\n",
       "</g>\r\n",
       "<!-- 48&#45;&gt;50 -->\r\n",
       "<g id=\"edge50\" class=\"edge\"><title>48&#45;&gt;50</title>\r\n",
       "<path fill=\"none\" stroke=\"black\" d=\"M1355.03,-712.884C1360.85,-701.886 1367.35,-689.617 1373.23,-678.517\"/>\r\n",
       "<polygon fill=\"black\" stroke=\"black\" points=\"1376.4,-679.995 1377.99,-669.52 1370.22,-676.72 1376.4,-679.995\"/>\r\n",
       "</g>\r\n",
       "<!-- 53 -->\r\n",
       "<g id=\"node54\" class=\"node\"><title>53</title>\r\n",
       "<polygon fill=\"none\" stroke=\"black\" points=\"1499.5,-989 1401.5,-989 1401.5,-921 1499.5,-921 1499.5,-989\"/>\r\n",
       "<text text-anchor=\"middle\" x=\"1450.5\" y=\"-973.8\" font-family=\"Times New Roman,serif\" font-size=\"14.00\">X[3] &lt;= 2.5</text>\r\n",
       "<text text-anchor=\"middle\" x=\"1450.5\" y=\"-958.8\" font-family=\"Times New Roman,serif\" font-size=\"14.00\">gini = 0.302</text>\r\n",
       "<text text-anchor=\"middle\" x=\"1450.5\" y=\"-943.8\" font-family=\"Times New Roman,serif\" font-size=\"14.00\">samples = 27</text>\r\n",
       "<text text-anchor=\"middle\" x=\"1450.5\" y=\"-928.8\" font-family=\"Times New Roman,serif\" font-size=\"14.00\">value = [22, 5]</text>\r\n",
       "</g>\r\n",
       "<!-- 52&#45;&gt;53 -->\r\n",
       "<g id=\"edge53\" class=\"edge\"><title>52&#45;&gt;53</title>\r\n",
       "<path fill=\"none\" stroke=\"black\" d=\"M1450.5,-1024.88C1450.5,-1016.78 1450.5,-1007.98 1450.5,-999.472\"/>\r\n",
       "<polygon fill=\"black\" stroke=\"black\" points=\"1454,-999.299 1450.5,-989.299 1447,-999.299 1454,-999.299\"/>\r\n",
       "</g>\r\n",
       "<!-- 56 -->\r\n",
       "<g id=\"node57\" class=\"node\"><title>56</title>\r\n",
       "<polygon fill=\"none\" stroke=\"black\" points=\"1609,-981.5 1518,-981.5 1518,-928.5 1609,-928.5 1609,-981.5\"/>\r\n",
       "<text text-anchor=\"middle\" x=\"1563.5\" y=\"-966.3\" font-family=\"Times New Roman,serif\" font-size=\"14.00\">gini = 0.0</text>\r\n",
       "<text text-anchor=\"middle\" x=\"1563.5\" y=\"-951.3\" font-family=\"Times New Roman,serif\" font-size=\"14.00\">samples = 1</text>\r\n",
       "<text text-anchor=\"middle\" x=\"1563.5\" y=\"-936.3\" font-family=\"Times New Roman,serif\" font-size=\"14.00\">value = [0, 1]</text>\r\n",
       "</g>\r\n",
       "<!-- 52&#45;&gt;56 -->\r\n",
       "<g id=\"edge56\" class=\"edge\"><title>52&#45;&gt;56</title>\r\n",
       "<path fill=\"none\" stroke=\"black\" d=\"M1487.19,-1024.88C1500.1,-1013.23 1514.6,-1000.14 1527.46,-988.532\"/>\r\n",
       "<polygon fill=\"black\" stroke=\"black\" points=\"1530.15,-990.819 1535.23,-981.52 1525.46,-985.622 1530.15,-990.819\"/>\r\n",
       "</g>\r\n",
       "<!-- 54 -->\r\n",
       "<g id=\"node55\" class=\"node\"><title>54</title>\r\n",
       "<polygon fill=\"none\" stroke=\"black\" points=\"1499.5,-877.5 1401.5,-877.5 1401.5,-824.5 1499.5,-824.5 1499.5,-877.5\"/>\r\n",
       "<text text-anchor=\"middle\" x=\"1450.5\" y=\"-862.3\" font-family=\"Times New Roman,serif\" font-size=\"14.00\">gini = 0.444</text>\r\n",
       "<text text-anchor=\"middle\" x=\"1450.5\" y=\"-847.3\" font-family=\"Times New Roman,serif\" font-size=\"14.00\">samples = 15</text>\r\n",
       "<text text-anchor=\"middle\" x=\"1450.5\" y=\"-832.3\" font-family=\"Times New Roman,serif\" font-size=\"14.00\">value = [10, 5]</text>\r\n",
       "</g>\r\n",
       "<!-- 53&#45;&gt;54 -->\r\n",
       "<g id=\"edge54\" class=\"edge\"><title>53&#45;&gt;54</title>\r\n",
       "<path fill=\"none\" stroke=\"black\" d=\"M1450.5,-920.884C1450.5,-910.326 1450.5,-898.597 1450.5,-887.854\"/>\r\n",
       "<polygon fill=\"black\" stroke=\"black\" points=\"1454,-887.52 1450.5,-877.52 1447,-887.52 1454,-887.52\"/>\r\n",
       "</g>\r\n",
       "<!-- 55 -->\r\n",
       "<g id=\"node56\" class=\"node\"><title>55</title>\r\n",
       "<polygon fill=\"none\" stroke=\"black\" points=\"1615.5,-877.5 1517.5,-877.5 1517.5,-824.5 1615.5,-824.5 1615.5,-877.5\"/>\r\n",
       "<text text-anchor=\"middle\" x=\"1566.5\" y=\"-862.3\" font-family=\"Times New Roman,serif\" font-size=\"14.00\">gini = 0.0</text>\r\n",
       "<text text-anchor=\"middle\" x=\"1566.5\" y=\"-847.3\" font-family=\"Times New Roman,serif\" font-size=\"14.00\">samples = 12</text>\r\n",
       "<text text-anchor=\"middle\" x=\"1566.5\" y=\"-832.3\" font-family=\"Times New Roman,serif\" font-size=\"14.00\">value = [12, 0]</text>\r\n",
       "</g>\r\n",
       "<!-- 53&#45;&gt;55 -->\r\n",
       "<g id=\"edge55\" class=\"edge\"><title>53&#45;&gt;55</title>\r\n",
       "<path fill=\"none\" stroke=\"black\" d=\"M1488.16,-920.884C1501.54,-909.116 1516.58,-895.894 1529.88,-884.203\"/>\r\n",
       "<polygon fill=\"black\" stroke=\"black\" points=\"1532.28,-886.752 1537.48,-877.52 1527.66,-881.495 1532.28,-886.752\"/>\r\n",
       "</g>\r\n",
       "</g>\r\n",
       "</svg>\r\n"
      ],
      "text/plain": [
       "<graphviz.files.Source at 0x22da56a7130>"
      ]
     },
     "execution_count": 231,
     "metadata": {},
     "output_type": "execute_result"
    }
   ],
   "source": [
    "dot_data = tree.export_graphviz(best_clf, out_file=None)\n",
    "graph = graphviz.Source(dot_data)\n",
    "graph.render(\"bestTree\")\n",
    "graph"
   ]
  },
  {
   "cell_type": "markdown",
   "id": "small-empty",
   "metadata": {},
   "source": [
    "#### ROC curve fr the best model"
   ]
  },
  {
   "cell_type": "code",
   "execution_count": 219,
   "id": "talented-underwear",
   "metadata": {},
   "outputs": [
    {
     "data": {
      "text/plain": [
       "<sklearn.metrics._plot.roc_curve.RocCurveDisplay at 0x22da524d5e0>"
      ]
     },
     "execution_count": 219,
     "metadata": {},
     "output_type": "execute_result"
    },
    {
     "data": {
      "image/png": "[encoded data removed]",
      "text/plain": [
       "<Figure size 432x288 with 1 Axes>"
      ]
     },
     "metadata": {
      "needs_background": "light"
     },
     "output_type": "display_data"
    }
   ],
   "source": [
    "sk.metrics.plot_roc_curve(best_clf,X,Y)"
   ]
  },
  {
   "cell_type": "markdown",
   "id": "diagnostic-memory",
   "metadata": {},
   "source": [
    "#### Test's with feature feature reduction\n",
    "In this part we tried to reduce the feature space by deleting the least correlated feature with the target Class."
   ]
  },
  {
   "cell_type": "code",
   "execution_count": 198,
   "id": "welcome-disaster",
   "metadata": {},
   "outputs": [
    {
     "name": "stdout",
     "output_type": "stream",
     "text": [
      "0.5818181818181818\n"
     ]
    }
   ],
   "source": [
    "#without age\n",
    "X_training_age= X_training[X_training.columns.difference(['age'])]\n",
    "X_test_age= X_test[X_test.columns.difference(['age'])]\n",
    "\n",
    "clf = tree.DecisionTreeClassifier()\n",
    "clf = clf.fit(X_training_age, Y_training)\n",
    "acc = clf.score( X_test_age, Y_test)\n",
    "\n",
    "print(acc)"
   ]
  },
  {
   "cell_type": "code",
   "execution_count": 189,
   "id": "fabulous-millennium",
   "metadata": {},
   "outputs": [
    {
     "name": "stdout",
     "output_type": "stream",
     "text": [
      "0.6181818181818182\n"
     ]
    }
   ],
   "source": [
    "#without breast\n",
    "X_training_breast= X_training[X_training.columns.difference(['breast'])]\n",
    "X_test_breast= X_test[X_test.columns.difference(['age'])]\n",
    "clf = tree.DecisionTreeClassifier()\n",
    "clf = clf.fit(X_training_breast, Y_training)\n",
    "acc = clf.score( X_test_breast, Y_test)\n",
    "\n",
    "print(acc)"
   ]
  },
  {
   "cell_type": "code",
   "execution_count": 161,
   "id": "intensive-chosen",
   "metadata": {},
   "outputs": [
    {
     "name": "stdout",
     "output_type": "stream",
     "text": [
      "0.6727272727272727\n"
     ]
    }
   ],
   "source": [
    "#without age & breast\n",
    "X_training_age_breast= X_training[X_training.columns.difference(['age','breast'])]\n",
    "X_test_age_breast= X_test[X_test.columns.difference(['age','breast'])]\n",
    "clf = tree.DecisionTreeClassifier()\n",
    "clf = clf.fit(X_training_age_breast, Y_training)\n",
    "acc = clf.score( X_test_age_breast, Y_test)\n",
    "\n",
    "print(acc)"
   ]
  },
  {
   "cell_type": "markdown",
   "id": "korean-growth",
   "metadata": {},
   "source": [
    "### Cross Validation results"
   ]
  },
  {
   "cell_type": "markdown",
   "id": "alien-involvement",
   "metadata": {},
   "source": [
    "Since the result ih highly dependet on the training and tetsting istances, we decided to compute multiple permutations and calculate the average accuracy of the models with feature reduction , and compered it with the normal dataset."
   ]
  },
  {
   "cell_type": "code",
   "execution_count": null,
   "id": "placed-retro",
   "metadata": {},
   "outputs": [],
   "source": [
    "# n of folds for the cross validation \n",
    "nFolds= 10"
   ]
  },
  {
   "cell_type": "code",
   "execution_count": 213,
   "id": "digital-italian",
   "metadata": {},
   "outputs": [
    {
     "data": {
      "text/plain": [
       "0.6743386243386243"
      ]
     },
     "execution_count": 213,
     "metadata": {},
     "output_type": "execute_result"
    }
   ],
   "source": [
    "#No feature reduction\n",
    "clf = tree.DecisionTreeClassifier()\n",
    "accs=cross_val_score(clf, X, Y, cv=nFolds)\n",
    "np.average(accs)"
   ]
  },
  {
   "cell_type": "code",
   "execution_count": 214,
   "id": "unlike-solomon",
   "metadata": {},
   "outputs": [
    {
     "data": {
      "text/plain": [
       "0.4838624338624339"
      ]
     },
     "execution_count": 214,
     "metadata": {},
     "output_type": "execute_result"
    }
   ],
   "source": [
    "clf = tree.DecisionTreeClassifier()\n",
    "accs_age=cross_val_score(clf, X_age, Y, cv=nFolds)\n",
    "np.average(accs_age)"
   ]
  },
  {
   "cell_type": "code",
   "execution_count": 215,
   "id": "automotive-waste",
   "metadata": {},
   "outputs": [
    {
     "data": {
      "text/plain": [
       "0.5854497354497356"
      ]
     },
     "execution_count": 215,
     "metadata": {},
     "output_type": "execute_result"
    }
   ],
   "source": [
    "clf = tree.DecisionTreeClassifier()\n",
    "accs_breast=cross_val_score(clf, X_breast, Y, cv=nFolds)\n",
    "np.average(accs_breast)"
   ]
  },
  {
   "cell_type": "code",
   "execution_count": 526,
   "id": "infinite-rating",
   "metadata": {},
   "outputs": [
    {
     "data": {
      "text/plain": [
       "0.6537037037037037"
      ]
     },
     "execution_count": 526,
     "metadata": {},
     "output_type": "execute_result"
    }
   ],
   "source": [
    "clf = tree.DecisionTreeClassifier()\n",
    "accs_breast_age=cross_val_score(clf, X_breast_age, Y, cv=nFolds)\n",
    "np.average(accs_breast_age)"
   ]
  },
  {
   "cell_type": "markdown",
   "id": "random-proportion",
   "metadata": {},
   "source": [
    "### ATTENTION !!\n",
    "##### This code is a batch computation, it' very heavy and takes a lot of time to compute, don't execute it if not necessary."
   ]
  },
  {
   "cell_type": "code",
   "execution_count": 27,
   "id": "skilled-object",
   "metadata": {},
   "outputs": [
    {
     "name": "stdout",
     "output_type": "stream",
     "text": [
      "Permutation 0\n",
      "Permutation 1\n",
      "Permutation 2\n",
      "Permutation 3\n",
      "Permutation 4\n",
      "Permutation 5\n",
      "Permutation 6\n",
      "Permutation 7\n",
      "Permutation 8\n",
      "Permutation 9\n",
      "Permutation 10\n",
      "Permutation 11\n",
      "Permutation 12\n",
      "Permutation 13\n",
      "Permutation 14\n",
      "Permutation 15\n",
      "Permutation 16\n",
      "Permutation 17\n",
      "Permutation 18\n",
      "Permutation 19\n",
      "Permutation 20\n",
      "Permutation 21\n",
      "Permutation 22\n",
      "Permutation 23\n",
      "Permutation 24\n",
      "Permutation 25\n",
      "Permutation 26\n",
      "Permutation 27\n",
      "Permutation 28\n",
      "Permutation 29\n",
      "Permutation 30\n",
      "Permutation 31\n",
      "Permutation 32\n",
      "Permutation 33\n",
      "Permutation 34\n",
      "Permutation 35\n",
      "Permutation 36\n",
      "Permutation 37\n",
      "Permutation 38\n",
      "Permutation 39\n",
      "Permutation 40\n",
      "Permutation 41\n",
      "Permutation 42\n",
      "Permutation 43\n",
      "Permutation 44\n",
      "Permutation 45\n",
      "Permutation 46\n",
      "Permutation 47\n",
      "Permutation 48\n",
      "Permutation 49\n",
      "Permutation 50\n",
      "Permutation 51\n",
      "Permutation 52\n",
      "Permutation 53\n",
      "Permutation 54\n",
      "Permutation 55\n",
      "Permutation 56\n",
      "Permutation 57\n",
      "Permutation 58\n",
      "Permutation 59\n",
      "Permutation 60\n",
      "Permutation 61\n",
      "Permutation 62\n",
      "Permutation 63\n",
      "Permutation 64\n",
      "Permutation 65\n",
      "Permutation 66\n",
      "Permutation 67\n",
      "Permutation 68\n",
      "Permutation 69\n",
      "Permutation 70\n",
      "Permutation 71\n",
      "Permutation 72\n",
      "Permutation 73\n",
      "Permutation 74\n",
      "Permutation 75\n",
      "Permutation 76\n",
      "Permutation 77\n",
      "Permutation 78\n",
      "Permutation 79\n",
      "Permutation 80\n",
      "Permutation 81\n",
      "Permutation 82\n",
      "Permutation 83\n",
      "Permutation 84\n",
      "Permutation 85\n",
      "Permutation 86\n",
      "Permutation 87\n",
      "Permutation 88\n",
      "Permutation 89\n",
      "Permutation 90\n",
      "Permutation 91\n",
      "Permutation 92\n",
      "Permutation 93\n",
      "Permutation 94\n",
      "Permutation 95\n",
      "Permutation 96\n",
      "Permutation 97\n",
      "Permutation 98\n",
      "Permutation 99\n"
     ]
    }
   ],
   "source": [
    "nFolds= 10\n",
    "nPermutation = 100\n",
    "nTrials = 50\n",
    "avgAccs = np.zeros( (4, nPermutation, nTrials) )\n",
    "for p in range(nPermutation) :\n",
    "    print(\"Permutation \" + str(p))\n",
    "    X, X_breast ,X_age, X_breast_age, Y = reducedDatasets ()\n",
    "    for t in range(nTrials) :\n",
    "        clf = tree.DecisionTreeClassifier()\n",
    "        avgAccs[0,p,t] = np.average(cross_val_score(clf, X, Y, cv=nFolds))\n",
    "        clf = tree.DecisionTreeClassifier()\n",
    "        avgAccs[1,p,t] = np.average(cross_val_score(clf, X_age, Y, cv=nFolds))\n",
    "        clf = tree.DecisionTreeClassifier()\n",
    "        avgAccs[2,p,t] = np.average(cross_val_score(clf, X_breast, Y, cv=nFolds))\n",
    "        clf = tree.DecisionTreeClassifier()\n",
    "        avgAccs[3,p,t] = np.average(cross_val_score(clf, X_breast_age, Y, cv=nFolds))     "
   ]
  },
  {
   "cell_type": "code",
   "execution_count": 529,
   "id": "fossil-russian",
   "metadata": {},
   "outputs": [
    {
     "name": "stdout",
     "output_type": "stream",
     "text": [
      "NORMAL DATASET   acc: 0.6461523544973544\n",
      "NO AGE           acc: 0.6481156084656085\n",
      "NO BREAST        acc: 0.655572037037037\n",
      "NO AGE & BREAST  acc: 0.66392\n"
     ]
    }
   ],
   "source": [
    "print(\"NORMAL DATASET   acc: \" + str(np.average(np.average(avgAccs[0,:,:]))))\n",
    "print(\"NO AGE           acc: \" + str(np.average(np.average(avgAccs[1,:,:]))))\n",
    "print(\"NO BREAST        acc: \" + str(np.average(np.average(avgAccs[2,:,:]))))\n",
    "print(\"NO AGE & BREAST  acc: \" + str(np.average(np.average(avgAccs[3,:,:]))))"
   ]
  },
  {
   "cell_type": "markdown",
   "id": "bored-minimum",
   "metadata": {},
   "source": [
    "From the results above we can confidently say that age and breast are not so important for the classification problem when decision tree is used."
   ]
  },
  {
   "cell_type": "markdown",
   "id": "considerable-symposium",
   "metadata": {},
   "source": [
    "##### Cofusion matrix for decsion tree with feature reduction"
   ]
  },
  {
   "cell_type": "code",
   "execution_count": 27,
   "id": "central-strength",
   "metadata": {},
   "outputs": [],
   "source": [
    "clf = tree.DecisionTreeClassifier()\n",
    "Y = df['Class']\n",
    "X = df.iloc[:,:-1]\n",
    "X,Y = permuteDataset(X,Y)\n",
    "X,X_breast,X_age,X_breast_age,Y = reducedDatasets (X,Y)\n",
    "X_train,Y_train,X_test,Y_test = splitDataset(X,Y,0.8)\n",
    "X_train_a,Y_train_a,X_test_a,Y_test_a = splitDataset(X_age,Y,0.8)\n",
    "X_train_b,Y_train_b,X_test_b,Y_test_b = splitDataset(X_breast,Y,0.8)\n",
    "X_train_ab,Y_train_ab,X_test_ab,Y_test_ab = splitDataset(X_breast_age,Y,0.8)"
   ]
  },
  {
   "cell_type": "code",
   "execution_count": 222,
   "id": "toxic-richmond",
   "metadata": {},
   "outputs": [
    {
     "name": "stdout",
     "output_type": "stream",
     "text": [
      "NORMAL\n"
     ]
    },
    {
     "data": {
      "text/plain": [
       "<sklearn.metrics._plot.confusion_matrix.ConfusionMatrixDisplay at 0x22da50e6cd0>"
      ]
     },
     "execution_count": 222,
     "metadata": {},
     "output_type": "execute_result"
    },
    {
     "data": {
      "image/png": "[encoded data removed]",
      "text/plain": [
       "<Figure size 432x288 with 2 Axes>"
      ]
     },
     "metadata": {
      "needs_background": "light"
     },
     "output_type": "display_data"
    }
   ],
   "source": [
    "print(\"NORMAL\")\n",
    "clf = tree.DecisionTreeClassifier()\n",
    "clf.fit(X_train, Y_train)\n",
    "sk.metrics.plot_confusion_matrix(clf, X_test, Y_test,normalize='true', display_labels = cats['Class'])"
   ]
  },
  {
   "cell_type": "code",
   "execution_count": 223,
   "id": "diverse-seller",
   "metadata": {},
   "outputs": [
    {
     "name": "stdout",
     "output_type": "stream",
     "text": [
      "NO AGE\n"
     ]
    },
    {
     "data": {
      "text/plain": [
       "<sklearn.metrics._plot.confusion_matrix.ConfusionMatrixDisplay at 0x22da51b6670>"
      ]
     },
     "execution_count": 223,
     "metadata": {},
     "output_type": "execute_result"
    },
    {
     "data": {
      "image/png": "[encoded data removed]",
      "text/plain": [
       "<Figure size 432x288 with 2 Axes>"
      ]
     },
     "metadata": {
      "needs_background": "light"
     },
     "output_type": "display_data"
    }
   ],
   "source": [
    "print(\"NO AGE\")\n",
    "clf = tree.DecisionTreeClassifier()\n",
    "clf.fit(X_train_a, Y_train_a)\n",
    "sk.metrics.plot_confusion_matrix(clf, X_test_a, Y_test_a,normalize='true', display_labels = cats['Class'])"
   ]
  },
  {
   "cell_type": "code",
   "execution_count": 224,
   "id": "historical-psychiatry",
   "metadata": {},
   "outputs": [
    {
     "name": "stdout",
     "output_type": "stream",
     "text": [
      "NO BREAST\n"
     ]
    },
    {
     "data": {
      "text/plain": [
       "<sklearn.metrics._plot.confusion_matrix.ConfusionMatrixDisplay at 0x22da54839a0>"
      ]
     },
     "execution_count": 224,
     "metadata": {},
     "output_type": "execute_result"
    },
    {
     "data": {
      "image/png": "[encoded data removed]",
      "text/plain": [
       "<Figure size 432x288 with 2 Axes>"
      ]
     },
     "metadata": {
      "needs_background": "light"
     },
     "output_type": "display_data"
    }
   ],
   "source": [
    "print(\"NO BREAST\")\n",
    "clf = tree.DecisionTreeClassifier()\n",
    "clf.fit(X_train_b, Y_train_b)\n",
    "sk.metrics.plot_confusion_matrix(clf, X_test_b, Y_test_b,normalize='true', display_labels = cats['Class'])"
   ]
  },
  {
   "cell_type": "code",
   "execution_count": 225,
   "id": "dangerous-cornell",
   "metadata": {},
   "outputs": [
    {
     "name": "stdout",
     "output_type": "stream",
     "text": [
      "NO AGE&BREAST\n"
     ]
    },
    {
     "data": {
      "text/plain": [
       "<sklearn.metrics._plot.confusion_matrix.ConfusionMatrixDisplay at 0x22da53d8f10>"
      ]
     },
     "execution_count": 225,
     "metadata": {},
     "output_type": "execute_result"
    },
    {
     "data": {
      "image/png": "[encoded data removed]",
      "text/plain": [
       "<Figure size 432x288 with 2 Axes>"
      ]
     },
     "metadata": {
      "needs_background": "light"
     },
     "output_type": "display_data"
    }
   ],
   "source": [
    "print(\"NO AGE&BREAST\")\n",
    "clf = tree.DecisionTreeClassifier()\n",
    "clf.fit(X_train_ab, Y_train_ab)\n",
    "sk.metrics.plot_confusion_matrix(clf, X_test_ab, Y_test_ab,normalize='true', display_labels = cats['Class'])"
   ]
  },
  {
   "cell_type": "markdown",
   "id": "sapphire-boards",
   "metadata": {},
   "source": [
    "### Naive Bayas implementation\n"
   ]
  },
  {
   "cell_type": "markdown",
   "id": "potential-window",
   "metadata": {},
   "source": [
    "### ATTENTION !!\n",
    "##### This code is a batch computation, it' very heavy and takes a lot of time to compute, don't execute it if not necessary."
   ]
  },
  {
   "cell_type": "code",
   "execution_count": 559,
   "id": "existing-worst",
   "metadata": {},
   "outputs": [
    {
     "name": "stdout",
     "output_type": "stream",
     "text": [
      "Permutation 0\n",
      "Permutation 1\n",
      "Permutation 2\n",
      "Permutation 3\n",
      "Permutation 4\n",
      "Permutation 5\n",
      "Permutation 6\n",
      "Permutation 7\n",
      "Permutation 8\n",
      "Permutation 9\n",
      "Permutation 10\n",
      "Permutation 11\n",
      "Permutation 12\n",
      "Permutation 13\n",
      "Permutation 14\n",
      "Permutation 15\n",
      "Permutation 16\n",
      "Permutation 17\n",
      "Permutation 18\n",
      "Permutation 19\n",
      "Permutation 20\n",
      "Permutation 21\n",
      "Permutation 22\n",
      "Permutation 23\n",
      "Permutation 24\n",
      "Permutation 25\n",
      "Permutation 26\n",
      "Permutation 27\n",
      "Permutation 28\n",
      "Permutation 29\n",
      "Permutation 30\n",
      "Permutation 31\n",
      "Permutation 32\n",
      "Permutation 33\n",
      "Permutation 34\n",
      "Permutation 35\n",
      "Permutation 36\n",
      "Permutation 37\n",
      "Permutation 38\n",
      "Permutation 39\n",
      "Permutation 40\n",
      "Permutation 41\n",
      "Permutation 42\n",
      "Permutation 43\n",
      "Permutation 44\n",
      "Permutation 45\n",
      "Permutation 46\n",
      "Permutation 47\n",
      "Permutation 48\n",
      "Permutation 49\n",
      "Permutation 50\n",
      "Permutation 51\n",
      "Permutation 52\n",
      "Permutation 53\n",
      "Permutation 54\n",
      "Permutation 55\n",
      "Permutation 56\n",
      "Permutation 57\n",
      "Permutation 58\n",
      "Permutation 59\n",
      "Permutation 60\n",
      "Permutation 61\n",
      "Permutation 62\n",
      "Permutation 63\n",
      "Permutation 64\n",
      "Permutation 65\n",
      "Permutation 66\n",
      "Permutation 67\n",
      "Permutation 68\n",
      "Permutation 69\n",
      "Permutation 70\n",
      "Permutation 71\n",
      "Permutation 72\n",
      "Permutation 73\n",
      "Permutation 74\n",
      "Permutation 75\n",
      "Permutation 76\n",
      "Permutation 77\n",
      "Permutation 78\n",
      "Permutation 79\n",
      "Permutation 80\n",
      "Permutation 81\n",
      "Permutation 82\n",
      "Permutation 83\n",
      "Permutation 84\n",
      "Permutation 85\n",
      "Permutation 86\n",
      "Permutation 87\n",
      "Permutation 88\n",
      "Permutation 89\n",
      "Permutation 90\n",
      "Permutation 91\n",
      "Permutation 92\n",
      "Permutation 93\n",
      "Permutation 94\n",
      "Permutation 95\n",
      "Permutation 96\n",
      "Permutation 97\n",
      "Permutation 98\n",
      "Permutation 99\n"
     ]
    }
   ],
   "source": [
    "nFolds= 10\n",
    "nPermutation = 100\n",
    "nTrials = 50\n",
    "avgAccsBayes = np.zeros( (4, nPermutation, nTrials) )\n",
    "for p in range(nPermutation) :\n",
    "    print(\"Permutation \" + str(p))\n",
    "    X, X_breast ,X_age, X_breast_age, Y = reducedDatasets ()\n",
    "    for t in range(nTrials) :\n",
    "        clf = GaussianNB()\n",
    "        avgAccsBayes[0,p,t] = np.average(cross_val_score(clf, X, Y, cv=nFolds))\n",
    "        clf = GaussianNB()\n",
    "        avgAccsBayes[1,p,t] = np.average(cross_val_score(clf, X_age, Y, cv=nFolds))\n",
    "        clf = GaussianNB()\n",
    "        avgAccsBayes[2,p,t] = np.average(cross_val_score(clf, X_breast, Y, cv=nFolds))\n",
    "        clf = GaussianNB()\n",
    "        avgAccsBayes[3,p,t] = np.average(cross_val_score(clf, X_breast_age, Y, cv=nFolds))    "
   ]
  },
  {
   "cell_type": "code",
   "execution_count": 560,
   "id": "cleared-supplement",
   "metadata": {},
   "outputs": [
    {
     "name": "stdout",
     "output_type": "stream",
     "text": [
      "NORMAL DATASET   acc: 0.7320859788359788\n",
      "NO AGE           acc: 0.7312142857142857\n",
      "NO BREAST        acc: 0.731728835978836\n",
      "NO AGE & BREAST  acc: 0.730813492063492\n"
     ]
    }
   ],
   "source": [
    "print(\"NORMAL DATASET   acc: \" + str(np.average(np.average(avgAccsBayes[0,:,:]))))\n",
    "print(\"NO AGE           acc: \" + str(np.average(np.average(avgAccsBayes[1,:,:]))))\n",
    "print(\"NO BREAST        acc: \" + str(np.average(np.average(avgAccsBayes[2,:,:]))))\n",
    "print(\"NO AGE & BREAST  acc: \" + str(np.average(np.average(avgAccsBayes[3,:,:]))))"
   ]
  },
  {
   "cell_type": "markdown",
   "id": "broad-postcard",
   "metadata": {},
   "source": [
    "##### Cofusion matrix for NAIVE BAYES with feature reduction"
   ]
  },
  {
   "cell_type": "code",
   "execution_count": 228,
   "id": "major-footwear",
   "metadata": {},
   "outputs": [
    {
     "data": {
      "text/plain": [
       "<sklearn.metrics._plot.confusion_matrix.ConfusionMatrixDisplay at 0x22da3eea910>"
      ]
     },
     "execution_count": 228,
     "metadata": {},
     "output_type": "execute_result"
    },
    {
     "data": {
      "image/png": "[encoded data removed]",
      "text/plain": [
       "<Figure size 432x288 with 2 Axes>"
      ]
     },
     "metadata": {
      "needs_background": "light"
     },
     "output_type": "display_data"
    },
    {
     "data": {
      "image/png": "[encoded data removed]",
      "text/plain": [
       "<Figure size 432x288 with 2 Axes>"
      ]
     },
     "metadata": {
      "needs_background": "light"
     },
     "output_type": "display_data"
    },
    {
     "data": {
      "image/png": "[encoded data removed]",
      "text/plain": [
       "<Figure size 432x288 with 2 Axes>"
      ]
     },
     "metadata": {
      "needs_background": "light"
     },
     "output_type": "display_data"
    },
    {
     "data": {
      "image/png": "[encoded data removed]",
      "text/plain": [
       "<Figure size 432x288 with 2 Axes>"
      ]
     },
     "metadata": {
      "needs_background": "light"
     },
     "output_type": "display_data"
    }
   ],
   "source": [
    "\n",
    "X,X_breast,X_age,X_breast_age,Y = reducedDatasets (X,Y)\n",
    "X_train,Y_train,X_test,Y_test = splitDataset(X,Y,0.8)\n",
    "X_train_a,Y_train_a,X_test_a,Y_test_a = splitDataset(X_age,Y,0.8)\n",
    "X_train_b,Y_train_b,X_test_b,Y_test_b = splitDataset(X_breast,Y,0.8)\n",
    "X_train_ab,Y_train_ab,X_test_ab,Y_test_ab = splitDataset(X_breast_age,Y,0.8)\n",
    "clf = GaussianNB()\n",
    "clf.fit(X_train, Y_train)\n",
    "best_NB = clf\n",
    "sk.metrics.plot_confusion_matrix(clf, X_test, Y_test,normalize='true', display_labels = cats['Class'])\n",
    "clf = GaussianNB()\n",
    "clf.fit(X_train_a, Y_train_a)\n",
    "sk.metrics.plot_confusion_matrix(clf, X_test_a, Y_test_a,normalize='true', display_labels = cats['Class'])\n",
    "clf = GaussianNB()\n",
    "clf.fit(X_train_b, Y_train_b)\n",
    "sk.metrics.plot_confusion_matrix(clf, X_test_b, Y_test_b,normalize='true', display_labels = cats['Class'])\n",
    "clf = GaussianNB()\n",
    "clf.fit(X_train_ab, Y_train_ab)\n",
    "sk.metrics.plot_confusion_matrix(clf, X_test_ab, Y_test_ab,normalize='true', display_labels = cats['Class'])"
   ]
  },
  {
   "cell_type": "markdown",
   "id": "identical-agency",
   "metadata": {},
   "source": [
    "#### ROC curve for nayve bayes\n",
    "The ROC curve plotted below is the ROC curve computed on the normal dataset, without feature reduction."
   ]
  },
  {
   "cell_type": "code",
   "execution_count": 229,
   "id": "sustainable-wrapping",
   "metadata": {},
   "outputs": [
    {
     "data": {
      "text/plain": [
       "<sklearn.metrics._plot.roc_curve.RocCurveDisplay at 0x22da5596880>"
      ]
     },
     "execution_count": 229,
     "metadata": {},
     "output_type": "execute_result"
    },
    {
     "data": {
      "image/png": "[encoded data removed]",
      "text/plain": [
       "<Figure size 432x288 with 1 Axes>"
      ]
     },
     "metadata": {
      "needs_background": "light"
     },
     "output_type": "display_data"
    }
   ],
   "source": [
    "sk.metrics.plot_roc_curve(best_NB,X_train,Y_train)"
   ]
  }
 ],
 "metadata": {
  "kernelspec": {
   "display_name": "Python 3",
   "language": "python",
   "name": "python3"
  },
  "language_info": {
   "codemirror_mode": {
    "name": "ipython",
    "version": 3
   },
   "file_extension": ".py",
   "mimetype": "text/x-python",
   "name": "python",
   "nbconvert_exporter": "python",
   "pygments_lexer": "ipython3",
   "version": "3.8.5"
  }
 },
 "nbformat": 4,
 "nbformat_minor": 5
}
